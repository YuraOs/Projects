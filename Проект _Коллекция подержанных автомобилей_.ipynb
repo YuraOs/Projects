{
 "cells": [
  {
   "cell_type": "markdown",
   "metadata": {
    "id": "o6QMs6bwNahN"
   },
   "source": [
    "## ReadMe"
   ]
  },
  {
   "cell_type": "markdown",
   "metadata": {
    "id": "oTIytkb-P_fc"
   },
   "source": [
    "### Постановка общей задачи:\n",
    "\n"
   ]
  },
  {
   "cell_type": "markdown",
   "metadata": {
    "id": "3OVyFidZQQCM"
   },
   "source": [
    "Проводится работа с небольшой выборкой из коллекции подержанных автомобилей, выставленных на продажу в Соединённых Штатах. На этих данных будет построена модель классификации, определяющая категорию цены подержанного автомобиля в зависимости от характеристик транспортного средства."
   ]
  },
  {
   "cell_type": "markdown",
   "metadata": {
    "id": "aXJiblYGPnl7"
   },
   "source": [
    "### Описание датасета:\n",
    "\n"
   ]
  },
  {
   "cell_type": "markdown",
   "metadata": {
    "id": "iEkPagJvQMct"
   },
   "source": [
    "- `id`: идентификатор записи;\n",
    "- `url`: URL записи о продаже;\n",
    "- `region`: регион;\n",
    "- `region_url`: URL региона;\n",
    "- `price`: стоимость;\n",
    "- `year`: год выпуска;\n",
    "- `manufacturer`: производитель;\n",
    "- `model`: модель;\n",
    "- `condition`: состояние;\n",
    "- `cylinders`: количество цилиндров;\n",
    "- `fuel`: тип топлива;\n",
    "- `odometer`: количество пройденных миль;\n",
    "- `title_status`: статус;\n",
    "- `transmission`: коробка передач;\n",
    "- `VIN`: идентификационный номер;\n",
    "- `drive`: тип привода;\n",
    "- `size`: размер;\n",
    "- `type`: кузов;\n",
    "- `paint_color`: цвет;\n",
    "- `image_url`: URL изображения;\n",
    "- `description`: указанное описание;\n",
    "- `county`: страна;\n",
    "- `state`: штат;\n",
    "- `lat`: широта;\n",
    "- `long`: долгота;\n",
    "- `posting_date`: дата размещения объявления о продаже;\n",
    "- `price_category`: категория цены."
   ]
  },
  {
   "cell_type": "markdown",
   "metadata": {
    "id": "fyPW74cuS0xV"
   },
   "source": [
    "Ниже представлены задачи по проекту построения модели.\n"
   ]
  },
  {
   "cell_type": "markdown",
   "metadata": {
    "id": "foZlR0n9Qe5d"
   },
   "source": [
    "0. *Импорт сторонних библиотек*\n",
    "\n",
    "В первой ячейке ноутбука импортированы библиотеки, которые необходимы для работы с данными. "
   ]
  },
  {
   "cell_type": "markdown",
   "metadata": {
    "id": "yU_ge0TwTQu_"
   },
   "source": [
    "1. *Data Preparation*\n",
    "\n",
    "В этом блоке:\n",
    "* произведены преобразования типов данных.\n",
    "* исследованы и обработаны данные с пропусками.\n",
    "* обработаны выбросы."
   ]
  },
  {
   "cell_type": "markdown",
   "metadata": {
    "id": "hzw5oxCacLEN"
   },
   "source": [
    "2. *Feature engineering*\n",
    "\n",
    "В этом блоке:\n",
    "* категориальные переменные обработаны с помощью LabaleEncoder, OneHotEncoder.\n",
    "* стандартизированы и нормализованы переменные с помощью StandartScaler, MinMaxScaler.\n",
    "* созданы новые признаки и удалены неинформативные колонки.\n",
    "* сформиран финальный датасет, на котором будет производиться моделирование."
   ]
  },
  {
   "cell_type": "markdown",
   "metadata": {
    "id": "oPvQ_MlUeU6n"
   },
   "source": [
    "3. *Modelling*\n",
    "\n",
    "В этом блоке:\n",
    "* инициализированы фичи и целевая переменная.\n",
    "* данные разделены на тренировачную и тестовую выборки.\n",
    "* с помощью кросс-валидации на тренировочной выборке выбрана лучшая из трех моделей: логистическая регрессия, случайный лес и многослойный персептрон.\n",
    "* на тренировочных и тестовых данных обучена модель случайного леса."
   ]
  },
  {
   "cell_type": "markdown",
   "metadata": {
    "id": "LPADUk0IiiEJ"
   },
   "source": [
    "4. *Results*\n",
    "\n",
    "В этом блоке:\n",
    "* модель обучена на всём датасете, сохранена в `pickle`."
   ]
  },
  {
   "cell_type": "markdown",
   "metadata": {
    "id": "BfbF8AE37uX_"
   },
   "source": [
    "## Загрузка данных, создание датафрейма.\n",
    "\n"
   ]
  },
  {
   "cell_type": "code",
   "execution_count": null,
   "metadata": {
    "colab": {
     "base_uri": "https://localhost:8080/"
    },
    "executionInfo": {
     "elapsed": 22502,
     "status": "ok",
     "timestamp": 1679044895404,
     "user": {
      "displayName": "Юрий Осипов",
      "userId": "08137226283067646882"
     },
     "user_tz": -180
    },
    "id": "KaMlI2vc5Zdo",
    "outputId": "10dcc4aa-326c-45e0-ff2b-e3155a7c0555"
   },
   "outputs": [
    {
     "name": "stdout",
     "output_type": "stream",
     "text": [
      "Mounted at /content/drive\n"
     ]
    }
   ],
   "source": [
    "from google.colab import drive\n",
    "drive.mount('/content/drive')"
   ]
  },
  {
   "cell_type": "code",
   "execution_count": null,
   "metadata": {
    "id": "a9HIfIFknpKW"
   },
   "outputs": [],
   "source": [
    "import pandas as pd\n",
    "import numpy as np\n",
    "import matplotlib.pyplot as plt\n",
    "import seaborn as sns\n",
    "from sklearn.model_selection import train_test_split, cross_validate, cross_val_score\n",
    "from sklearn.metrics import accuracy_score\n",
    "from sklearn.metrics import confusion_matrix\n",
    "from sklearn.ensemble import RandomForestClassifier\n",
    "from sklearn.linear_model import LogisticRegression\n",
    "from sklearn.neural_network import MLPClassifier\n",
    "from sklearn.preprocessing import LabelEncoder\n",
    "from sklearn.preprocessing import StandardScaler\n",
    "from sklearn.preprocessing import MinMaxScaler\n",
    "from sklearn.preprocessing import OneHotEncoder\n",
    "import pickle"
   ]
  },
  {
   "cell_type": "code",
   "execution_count": null,
   "metadata": {
    "id": "axXnRgPx4vRc"
   },
   "outputs": [],
   "source": [
    "df = pd.read_csv('/content/drive/MyDrive/28.6 df_out.csv')"
   ]
  },
  {
   "cell_type": "code",
   "execution_count": null,
   "metadata": {
    "id": "kFZVvfOB6B2f"
   },
   "outputs": [],
   "source": [
    "df_c = df.copy().set_index('id')"
   ]
  },
  {
   "cell_type": "code",
   "execution_count": null,
   "metadata": {
    "colab": {
     "base_uri": "https://localhost:8080/"
    },
    "executionInfo": {
     "elapsed": 9,
     "status": "ok",
     "timestamp": 1679044914109,
     "user": {
      "displayName": "Юрий Осипов",
      "userId": "08137226283067646882"
     },
     "user_tz": -180
    },
    "id": "FOhf_pjo9xDH",
    "outputId": "853827dd-d1cc-4b0e-9fcb-946b444c2f3e"
   },
   "outputs": [
    {
     "data": {
      "text/plain": [
       "(10000, 19)"
      ]
     },
     "execution_count": 5,
     "metadata": {},
     "output_type": "execute_result"
    }
   ],
   "source": [
    "df_c.shape"
   ]
  },
  {
   "cell_type": "code",
   "execution_count": null,
   "metadata": {
    "colab": {
     "base_uri": "https://localhost:8080/"
    },
    "executionInfo": {
     "elapsed": 24,
     "status": "ok",
     "timestamp": 1679044916043,
     "user": {
      "displayName": "Юрий Осипов",
      "userId": "08137226283067646882"
     },
     "user_tz": -180
    },
    "id": "0KjXiA-R43Fw",
    "outputId": "336486d3-1ae8-49aa-b56b-0e27f3d13931"
   },
   "outputs": [
    {
     "data": {
      "text/html": [
       "\n",
       "  <div id=\"df-a50de174-38b6-4d61-bb55-7340249e859c\">\n",
       "    <div class=\"colab-df-container\">\n",
       "      <div>\n",
       "<style scoped>\n",
       "    .dataframe tbody tr th:only-of-type {\n",
       "        vertical-align: middle;\n",
       "    }\n",
       "\n",
       "    .dataframe tbody tr th {\n",
       "        vertical-align: top;\n",
       "    }\n",
       "\n",
       "    .dataframe thead th {\n",
       "        text-align: right;\n",
       "    }\n",
       "</style>\n",
       "<table border=\"1\" class=\"dataframe\">\n",
       "  <thead>\n",
       "    <tr style=\"text-align: right;\">\n",
       "      <th></th>\n",
       "      <th>url</th>\n",
       "      <th>region</th>\n",
       "      <th>region_url</th>\n",
       "      <th>price</th>\n",
       "      <th>year</th>\n",
       "      <th>manufacturer</th>\n",
       "      <th>model</th>\n",
       "      <th>fuel</th>\n",
       "      <th>odometer</th>\n",
       "      <th>title_status</th>\n",
       "      <th>transmission</th>\n",
       "      <th>image_url</th>\n",
       "      <th>description</th>\n",
       "      <th>state</th>\n",
       "      <th>lat</th>\n",
       "      <th>long</th>\n",
       "      <th>posting_date</th>\n",
       "      <th>price_category</th>\n",
       "      <th>date</th>\n",
       "    </tr>\n",
       "    <tr>\n",
       "      <th>id</th>\n",
       "      <th></th>\n",
       "      <th></th>\n",
       "      <th></th>\n",
       "      <th></th>\n",
       "      <th></th>\n",
       "      <th></th>\n",
       "      <th></th>\n",
       "      <th></th>\n",
       "      <th></th>\n",
       "      <th></th>\n",
       "      <th></th>\n",
       "      <th></th>\n",
       "      <th></th>\n",
       "      <th></th>\n",
       "      <th></th>\n",
       "      <th></th>\n",
       "      <th></th>\n",
       "      <th></th>\n",
       "      <th></th>\n",
       "    </tr>\n",
       "  </thead>\n",
       "  <tbody>\n",
       "    <tr>\n",
       "      <th>7308295377</th>\n",
       "      <td>https://chattanooga.craigslist.org/ctd/d/chatt...</td>\n",
       "      <td>chattanooga</td>\n",
       "      <td>https://chattanooga.craigslist.org</td>\n",
       "      <td>54990</td>\n",
       "      <td>2020.0</td>\n",
       "      <td>ram</td>\n",
       "      <td>2500 crew cab big horn</td>\n",
       "      <td>diesel</td>\n",
       "      <td>27442</td>\n",
       "      <td>clean</td>\n",
       "      <td>other</td>\n",
       "      <td>https://images.craigslist.org/00N0N_1xMPvfxRAI...</td>\n",
       "      <td>Carvana is the safer way to buy a car During t...</td>\n",
       "      <td>tn</td>\n",
       "      <td>35.060000</td>\n",
       "      <td>-85.250000</td>\n",
       "      <td>2021-04-17T12:30:50-0400</td>\n",
       "      <td>high</td>\n",
       "      <td>2021-04-17 16:30:50+00:00</td>\n",
       "    </tr>\n",
       "    <tr>\n",
       "      <th>7316380095</th>\n",
       "      <td>https://newjersey.craigslist.org/ctd/d/carlsta...</td>\n",
       "      <td>north jersey</td>\n",
       "      <td>https://newjersey.craigslist.org</td>\n",
       "      <td>16942</td>\n",
       "      <td>2016.0</td>\n",
       "      <td>ford</td>\n",
       "      <td>explorer 4wd 4dr xlt</td>\n",
       "      <td>NaN</td>\n",
       "      <td>60023</td>\n",
       "      <td>clean</td>\n",
       "      <td>automatic</td>\n",
       "      <td>https://images.craigslist.org/00x0x_26jl9F0cnL...</td>\n",
       "      <td>***Call Us for more information at: 201-635-14...</td>\n",
       "      <td>nj</td>\n",
       "      <td>40.821805</td>\n",
       "      <td>-74.061962</td>\n",
       "      <td>2021-05-03T15:40:21-0400</td>\n",
       "      <td>medium</td>\n",
       "      <td>2021-05-03 19:40:21+00:00</td>\n",
       "    </tr>\n",
       "    <tr>\n",
       "      <th>7313733749</th>\n",
       "      <td>https://reno.craigslist.org/ctd/d/atlanta-2017...</td>\n",
       "      <td>reno / tahoe</td>\n",
       "      <td>https://reno.craigslist.org</td>\n",
       "      <td>35590</td>\n",
       "      <td>2017.0</td>\n",
       "      <td>volkswagen</td>\n",
       "      <td>golf r hatchback</td>\n",
       "      <td>gas</td>\n",
       "      <td>14048</td>\n",
       "      <td>clean</td>\n",
       "      <td>other</td>\n",
       "      <td>https://images.craigslist.org/00y0y_eeZjWeiSfb...</td>\n",
       "      <td>Carvana is the safer way to buy a car During t...</td>\n",
       "      <td>ca</td>\n",
       "      <td>33.779214</td>\n",
       "      <td>-84.411811</td>\n",
       "      <td>2021-04-28T03:52:20-0700</td>\n",
       "      <td>high</td>\n",
       "      <td>2021-04-28 10:52:20+00:00</td>\n",
       "    </tr>\n",
       "    <tr>\n",
       "      <th>7308210929</th>\n",
       "      <td>https://fayetteville.craigslist.org/ctd/d/rale...</td>\n",
       "      <td>fayetteville</td>\n",
       "      <td>https://fayetteville.craigslist.org</td>\n",
       "      <td>14500</td>\n",
       "      <td>2013.0</td>\n",
       "      <td>toyota</td>\n",
       "      <td>rav4</td>\n",
       "      <td>gas</td>\n",
       "      <td>117291</td>\n",
       "      <td>clean</td>\n",
       "      <td>automatic</td>\n",
       "      <td>https://images.craigslist.org/00606_iGe5iXidib...</td>\n",
       "      <td>2013 Toyota RAV4 XLE 4dr SUV     Offered by: R...</td>\n",
       "      <td>nc</td>\n",
       "      <td>35.715954</td>\n",
       "      <td>-78.655304</td>\n",
       "      <td>2021-04-17T10:08:57-0400</td>\n",
       "      <td>medium</td>\n",
       "      <td>2021-04-17 14:08:57+00:00</td>\n",
       "    </tr>\n",
       "    <tr>\n",
       "      <th>7316474668</th>\n",
       "      <td>https://newyork.craigslist.org/lgi/cto/d/baldw...</td>\n",
       "      <td>new york city</td>\n",
       "      <td>https://newyork.craigslist.org</td>\n",
       "      <td>21800</td>\n",
       "      <td>2021.0</td>\n",
       "      <td>nissan</td>\n",
       "      <td>altima</td>\n",
       "      <td>gas</td>\n",
       "      <td>8000</td>\n",
       "      <td>clean</td>\n",
       "      <td>automatic</td>\n",
       "      <td>https://images.craigslist.org/00V0V_3pSOiPZ3Sd...</td>\n",
       "      <td>2021 Nissan Altima Sv with Only 8 K Miles Titl...</td>\n",
       "      <td>ny</td>\n",
       "      <td>40.654800</td>\n",
       "      <td>-73.609700</td>\n",
       "      <td>2021-05-03T18:32:06-0400</td>\n",
       "      <td>medium</td>\n",
       "      <td>2021-05-03 22:32:06+00:00</td>\n",
       "    </tr>\n",
       "  </tbody>\n",
       "</table>\n",
       "</div>\n",
       "      <button class=\"colab-df-convert\" onclick=\"convertToInteractive('df-a50de174-38b6-4d61-bb55-7340249e859c')\"\n",
       "              title=\"Convert this dataframe to an interactive table.\"\n",
       "              style=\"display:none;\">\n",
       "        \n",
       "  <svg xmlns=\"http://www.w3.org/2000/svg\" height=\"24px\"viewBox=\"0 0 24 24\"\n",
       "       width=\"24px\">\n",
       "    <path d=\"M0 0h24v24H0V0z\" fill=\"none\"/>\n",
       "    <path d=\"M18.56 5.44l.94 2.06.94-2.06 2.06-.94-2.06-.94-.94-2.06-.94 2.06-2.06.94zm-11 1L8.5 8.5l.94-2.06 2.06-.94-2.06-.94L8.5 2.5l-.94 2.06-2.06.94zm10 10l.94 2.06.94-2.06 2.06-.94-2.06-.94-.94-2.06-.94 2.06-2.06.94z\"/><path d=\"M17.41 7.96l-1.37-1.37c-.4-.4-.92-.59-1.43-.59-.52 0-1.04.2-1.43.59L10.3 9.45l-7.72 7.72c-.78.78-.78 2.05 0 2.83L4 21.41c.39.39.9.59 1.41.59.51 0 1.02-.2 1.41-.59l7.78-7.78 2.81-2.81c.8-.78.8-2.07 0-2.86zM5.41 20L4 18.59l7.72-7.72 1.47 1.35L5.41 20z\"/>\n",
       "  </svg>\n",
       "      </button>\n",
       "      \n",
       "  <style>\n",
       "    .colab-df-container {\n",
       "      display:flex;\n",
       "      flex-wrap:wrap;\n",
       "      gap: 12px;\n",
       "    }\n",
       "\n",
       "    .colab-df-convert {\n",
       "      background-color: #E8F0FE;\n",
       "      border: none;\n",
       "      border-radius: 50%;\n",
       "      cursor: pointer;\n",
       "      display: none;\n",
       "      fill: #1967D2;\n",
       "      height: 32px;\n",
       "      padding: 0 0 0 0;\n",
       "      width: 32px;\n",
       "    }\n",
       "\n",
       "    .colab-df-convert:hover {\n",
       "      background-color: #E2EBFA;\n",
       "      box-shadow: 0px 1px 2px rgba(60, 64, 67, 0.3), 0px 1px 3px 1px rgba(60, 64, 67, 0.15);\n",
       "      fill: #174EA6;\n",
       "    }\n",
       "\n",
       "    [theme=dark] .colab-df-convert {\n",
       "      background-color: #3B4455;\n",
       "      fill: #D2E3FC;\n",
       "    }\n",
       "\n",
       "    [theme=dark] .colab-df-convert:hover {\n",
       "      background-color: #434B5C;\n",
       "      box-shadow: 0px 1px 3px 1px rgba(0, 0, 0, 0.15);\n",
       "      filter: drop-shadow(0px 1px 2px rgba(0, 0, 0, 0.3));\n",
       "      fill: #FFFFFF;\n",
       "    }\n",
       "  </style>\n",
       "\n",
       "      <script>\n",
       "        const buttonEl =\n",
       "          document.querySelector('#df-a50de174-38b6-4d61-bb55-7340249e859c button.colab-df-convert');\n",
       "        buttonEl.style.display =\n",
       "          google.colab.kernel.accessAllowed ? 'block' : 'none';\n",
       "\n",
       "        async function convertToInteractive(key) {\n",
       "          const element = document.querySelector('#df-a50de174-38b6-4d61-bb55-7340249e859c');\n",
       "          const dataTable =\n",
       "            await google.colab.kernel.invokeFunction('convertToInteractive',\n",
       "                                                     [key], {});\n",
       "          if (!dataTable) return;\n",
       "\n",
       "          const docLinkHtml = 'Like what you see? Visit the ' +\n",
       "            '<a target=\"_blank\" href=https://colab.research.google.com/notebooks/data_table.ipynb>data table notebook</a>'\n",
       "            + ' to learn more about interactive tables.';\n",
       "          element.innerHTML = '';\n",
       "          dataTable['output_type'] = 'display_data';\n",
       "          await google.colab.output.renderOutput(dataTable, element);\n",
       "          const docLink = document.createElement('div');\n",
       "          docLink.innerHTML = docLinkHtml;\n",
       "          element.appendChild(docLink);\n",
       "        }\n",
       "      </script>\n",
       "    </div>\n",
       "  </div>\n",
       "  "
      ],
      "text/plain": [
       "                                                          url         region  \\\n",
       "id                                                                             \n",
       "7308295377  https://chattanooga.craigslist.org/ctd/d/chatt...    chattanooga   \n",
       "7316380095  https://newjersey.craigslist.org/ctd/d/carlsta...   north jersey   \n",
       "7313733749  https://reno.craigslist.org/ctd/d/atlanta-2017...   reno / tahoe   \n",
       "7308210929  https://fayetteville.craigslist.org/ctd/d/rale...   fayetteville   \n",
       "7316474668  https://newyork.craigslist.org/lgi/cto/d/baldw...  new york city   \n",
       "\n",
       "                                     region_url  price    year manufacturer  \\\n",
       "id                                                                            \n",
       "7308295377   https://chattanooga.craigslist.org  54990  2020.0          ram   \n",
       "7316380095     https://newjersey.craigslist.org  16942  2016.0         ford   \n",
       "7313733749          https://reno.craigslist.org  35590  2017.0   volkswagen   \n",
       "7308210929  https://fayetteville.craigslist.org  14500  2013.0       toyota   \n",
       "7316474668       https://newyork.craigslist.org  21800  2021.0       nissan   \n",
       "\n",
       "                             model    fuel  odometer title_status  \\\n",
       "id                                                                  \n",
       "7308295377  2500 crew cab big horn  diesel     27442        clean   \n",
       "7316380095    explorer 4wd 4dr xlt     NaN     60023        clean   \n",
       "7313733749        golf r hatchback     gas     14048        clean   \n",
       "7308210929                    rav4     gas    117291        clean   \n",
       "7316474668                  altima     gas      8000        clean   \n",
       "\n",
       "           transmission                                          image_url  \\\n",
       "id                                                                           \n",
       "7308295377        other  https://images.craigslist.org/00N0N_1xMPvfxRAI...   \n",
       "7316380095    automatic  https://images.craigslist.org/00x0x_26jl9F0cnL...   \n",
       "7313733749        other  https://images.craigslist.org/00y0y_eeZjWeiSfb...   \n",
       "7308210929    automatic  https://images.craigslist.org/00606_iGe5iXidib...   \n",
       "7316474668    automatic  https://images.craigslist.org/00V0V_3pSOiPZ3Sd...   \n",
       "\n",
       "                                                  description state  \\\n",
       "id                                                                    \n",
       "7308295377  Carvana is the safer way to buy a car During t...    tn   \n",
       "7316380095  ***Call Us for more information at: 201-635-14...    nj   \n",
       "7313733749  Carvana is the safer way to buy a car During t...    ca   \n",
       "7308210929  2013 Toyota RAV4 XLE 4dr SUV     Offered by: R...    nc   \n",
       "7316474668  2021 Nissan Altima Sv with Only 8 K Miles Titl...    ny   \n",
       "\n",
       "                  lat       long              posting_date price_category  \\\n",
       "id                                                                          \n",
       "7308295377  35.060000 -85.250000  2021-04-17T12:30:50-0400           high   \n",
       "7316380095  40.821805 -74.061962  2021-05-03T15:40:21-0400         medium   \n",
       "7313733749  33.779214 -84.411811  2021-04-28T03:52:20-0700           high   \n",
       "7308210929  35.715954 -78.655304  2021-04-17T10:08:57-0400         medium   \n",
       "7316474668  40.654800 -73.609700  2021-05-03T18:32:06-0400         medium   \n",
       "\n",
       "                                 date  \n",
       "id                                     \n",
       "7308295377  2021-04-17 16:30:50+00:00  \n",
       "7316380095  2021-05-03 19:40:21+00:00  \n",
       "7313733749  2021-04-28 10:52:20+00:00  \n",
       "7308210929  2021-04-17 14:08:57+00:00  \n",
       "7316474668  2021-05-03 22:32:06+00:00  "
      ]
     },
     "execution_count": 6,
     "metadata": {},
     "output_type": "execute_result"
    }
   ],
   "source": [
    "df_c.head()"
   ]
  },
  {
   "cell_type": "markdown",
   "metadata": {
    "id": "KKQIWByq7-Gl"
   },
   "source": [
    "## Data preparation"
   ]
  },
  {
   "cell_type": "markdown",
   "metadata": {
    "id": "NdK9BebB8C9M"
   },
   "source": [
    "### Data cleaning"
   ]
  },
  {
   "cell_type": "code",
   "execution_count": null,
   "metadata": {
    "colab": {
     "base_uri": "https://localhost:8080/"
    },
    "executionInfo": {
     "elapsed": 12,
     "status": "ok",
     "timestamp": 1679044953354,
     "user": {
      "displayName": "Юрий Осипов",
      "userId": "08137226283067646882"
     },
     "user_tz": -180
    },
    "id": "NZJfj_fE9H2Y",
    "outputId": "7b43a456-6feb-45e0-d420-43e414e29c26"
   },
   "outputs": [
    {
     "data": {
      "text/plain": [
       "['url',\n",
       " 'region',\n",
       " 'region_url',\n",
       " 'price',\n",
       " 'year',\n",
       " 'manufacturer',\n",
       " 'model',\n",
       " 'fuel',\n",
       " 'odometer',\n",
       " 'title_status',\n",
       " 'transmission',\n",
       " 'image_url',\n",
       " 'description',\n",
       " 'state',\n",
       " 'lat',\n",
       " 'long',\n",
       " 'posting_date',\n",
       " 'price_category',\n",
       " 'date']"
      ]
     },
     "execution_count": 7,
     "metadata": {},
     "output_type": "execute_result"
    }
   ],
   "source": [
    "df_c.columns.tolist()"
   ]
  },
  {
   "cell_type": "code",
   "execution_count": null,
   "metadata": {
    "colab": {
     "base_uri": "https://localhost:8080/"
    },
    "executionInfo": {
     "elapsed": 17,
     "status": "ok",
     "timestamp": 1679044956603,
     "user": {
      "displayName": "Юрий Осипов",
      "userId": "08137226283067646882"
     },
     "user_tz": -180
    },
    "id": "4cdszuTs9MV8",
    "outputId": "352298dc-bc1f-45ab-98a5-1765017daa5d"
   },
   "outputs": [
    {
     "data": {
      "text/html": [
       "\n",
       "  <div id=\"df-896300fd-f996-4597-8963-742d8eea591e\">\n",
       "    <div class=\"colab-df-container\">\n",
       "      <div>\n",
       "<style scoped>\n",
       "    .dataframe tbody tr th:only-of-type {\n",
       "        vertical-align: middle;\n",
       "    }\n",
       "\n",
       "    .dataframe tbody tr th {\n",
       "        vertical-align: top;\n",
       "    }\n",
       "\n",
       "    .dataframe thead th {\n",
       "        text-align: right;\n",
       "    }\n",
       "</style>\n",
       "<table border=\"1\" class=\"dataframe\">\n",
       "  <thead>\n",
       "    <tr style=\"text-align: right;\">\n",
       "      <th></th>\n",
       "      <th>price</th>\n",
       "      <th>year</th>\n",
       "      <th>odometer</th>\n",
       "      <th>lat</th>\n",
       "      <th>long</th>\n",
       "    </tr>\n",
       "  </thead>\n",
       "  <tbody>\n",
       "    <tr>\n",
       "      <th>count</th>\n",
       "      <td>1.000000e+04</td>\n",
       "      <td>9964.000000</td>\n",
       "      <td>10000.00000</td>\n",
       "      <td>9902.000000</td>\n",
       "      <td>9902.000000</td>\n",
       "    </tr>\n",
       "    <tr>\n",
       "      <th>mean</th>\n",
       "      <td>2.067842e+04</td>\n",
       "      <td>2010.927941</td>\n",
       "      <td>93324.13400</td>\n",
       "      <td>38.594142</td>\n",
       "      <td>-94.165877</td>\n",
       "    </tr>\n",
       "    <tr>\n",
       "      <th>std</th>\n",
       "      <td>1.246230e+05</td>\n",
       "      <td>9.672040</td>\n",
       "      <td>63181.17499</td>\n",
       "      <td>5.844895</td>\n",
       "      <td>18.128504</td>\n",
       "    </tr>\n",
       "    <tr>\n",
       "      <th>min</th>\n",
       "      <td>5.000000e+02</td>\n",
       "      <td>1915.000000</td>\n",
       "      <td>0.00000</td>\n",
       "      <td>-67.144243</td>\n",
       "      <td>-158.069300</td>\n",
       "    </tr>\n",
       "    <tr>\n",
       "      <th>25%</th>\n",
       "      <td>7.900000e+03</td>\n",
       "      <td>2008.000000</td>\n",
       "      <td>39147.25000</td>\n",
       "      <td>34.830368</td>\n",
       "      <td>-110.322086</td>\n",
       "    </tr>\n",
       "    <tr>\n",
       "      <th>50%</th>\n",
       "      <td>1.574950e+04</td>\n",
       "      <td>2013.000000</td>\n",
       "      <td>89000.00000</td>\n",
       "      <td>39.298522</td>\n",
       "      <td>-88.000050</td>\n",
       "    </tr>\n",
       "    <tr>\n",
       "      <th>75%</th>\n",
       "      <td>2.799000e+04</td>\n",
       "      <td>2017.000000</td>\n",
       "      <td>136875.00000</td>\n",
       "      <td>42.428070</td>\n",
       "      <td>-80.830000</td>\n",
       "    </tr>\n",
       "    <tr>\n",
       "      <th>max</th>\n",
       "      <td>1.234568e+07</td>\n",
       "      <td>2022.000000</td>\n",
       "      <td>283466.00000</td>\n",
       "      <td>64.947500</td>\n",
       "      <td>173.885502</td>\n",
       "    </tr>\n",
       "  </tbody>\n",
       "</table>\n",
       "</div>\n",
       "      <button class=\"colab-df-convert\" onclick=\"convertToInteractive('df-896300fd-f996-4597-8963-742d8eea591e')\"\n",
       "              title=\"Convert this dataframe to an interactive table.\"\n",
       "              style=\"display:none;\">\n",
       "        \n",
       "  <svg xmlns=\"http://www.w3.org/2000/svg\" height=\"24px\"viewBox=\"0 0 24 24\"\n",
       "       width=\"24px\">\n",
       "    <path d=\"M0 0h24v24H0V0z\" fill=\"none\"/>\n",
       "    <path d=\"M18.56 5.44l.94 2.06.94-2.06 2.06-.94-2.06-.94-.94-2.06-.94 2.06-2.06.94zm-11 1L8.5 8.5l.94-2.06 2.06-.94-2.06-.94L8.5 2.5l-.94 2.06-2.06.94zm10 10l.94 2.06.94-2.06 2.06-.94-2.06-.94-.94-2.06-.94 2.06-2.06.94z\"/><path d=\"M17.41 7.96l-1.37-1.37c-.4-.4-.92-.59-1.43-.59-.52 0-1.04.2-1.43.59L10.3 9.45l-7.72 7.72c-.78.78-.78 2.05 0 2.83L4 21.41c.39.39.9.59 1.41.59.51 0 1.02-.2 1.41-.59l7.78-7.78 2.81-2.81c.8-.78.8-2.07 0-2.86zM5.41 20L4 18.59l7.72-7.72 1.47 1.35L5.41 20z\"/>\n",
       "  </svg>\n",
       "      </button>\n",
       "      \n",
       "  <style>\n",
       "    .colab-df-container {\n",
       "      display:flex;\n",
       "      flex-wrap:wrap;\n",
       "      gap: 12px;\n",
       "    }\n",
       "\n",
       "    .colab-df-convert {\n",
       "      background-color: #E8F0FE;\n",
       "      border: none;\n",
       "      border-radius: 50%;\n",
       "      cursor: pointer;\n",
       "      display: none;\n",
       "      fill: #1967D2;\n",
       "      height: 32px;\n",
       "      padding: 0 0 0 0;\n",
       "      width: 32px;\n",
       "    }\n",
       "\n",
       "    .colab-df-convert:hover {\n",
       "      background-color: #E2EBFA;\n",
       "      box-shadow: 0px 1px 2px rgba(60, 64, 67, 0.3), 0px 1px 3px 1px rgba(60, 64, 67, 0.15);\n",
       "      fill: #174EA6;\n",
       "    }\n",
       "\n",
       "    [theme=dark] .colab-df-convert {\n",
       "      background-color: #3B4455;\n",
       "      fill: #D2E3FC;\n",
       "    }\n",
       "\n",
       "    [theme=dark] .colab-df-convert:hover {\n",
       "      background-color: #434B5C;\n",
       "      box-shadow: 0px 1px 3px 1px rgba(0, 0, 0, 0.15);\n",
       "      filter: drop-shadow(0px 1px 2px rgba(0, 0, 0, 0.3));\n",
       "      fill: #FFFFFF;\n",
       "    }\n",
       "  </style>\n",
       "\n",
       "      <script>\n",
       "        const buttonEl =\n",
       "          document.querySelector('#df-896300fd-f996-4597-8963-742d8eea591e button.colab-df-convert');\n",
       "        buttonEl.style.display =\n",
       "          google.colab.kernel.accessAllowed ? 'block' : 'none';\n",
       "\n",
       "        async function convertToInteractive(key) {\n",
       "          const element = document.querySelector('#df-896300fd-f996-4597-8963-742d8eea591e');\n",
       "          const dataTable =\n",
       "            await google.colab.kernel.invokeFunction('convertToInteractive',\n",
       "                                                     [key], {});\n",
       "          if (!dataTable) return;\n",
       "\n",
       "          const docLinkHtml = 'Like what you see? Visit the ' +\n",
       "            '<a target=\"_blank\" href=https://colab.research.google.com/notebooks/data_table.ipynb>data table notebook</a>'\n",
       "            + ' to learn more about interactive tables.';\n",
       "          element.innerHTML = '';\n",
       "          dataTable['output_type'] = 'display_data';\n",
       "          await google.colab.output.renderOutput(dataTable, element);\n",
       "          const docLink = document.createElement('div');\n",
       "          docLink.innerHTML = docLinkHtml;\n",
       "          element.appendChild(docLink);\n",
       "        }\n",
       "      </script>\n",
       "    </div>\n",
       "  </div>\n",
       "  "
      ],
      "text/plain": [
       "              price         year      odometer          lat         long\n",
       "count  1.000000e+04  9964.000000   10000.00000  9902.000000  9902.000000\n",
       "mean   2.067842e+04  2010.927941   93324.13400    38.594142   -94.165877\n",
       "std    1.246230e+05     9.672040   63181.17499     5.844895    18.128504\n",
       "min    5.000000e+02  1915.000000       0.00000   -67.144243  -158.069300\n",
       "25%    7.900000e+03  2008.000000   39147.25000    34.830368  -110.322086\n",
       "50%    1.574950e+04  2013.000000   89000.00000    39.298522   -88.000050\n",
       "75%    2.799000e+04  2017.000000  136875.00000    42.428070   -80.830000\n",
       "max    1.234568e+07  2022.000000  283466.00000    64.947500   173.885502"
      ]
     },
     "execution_count": 8,
     "metadata": {},
     "output_type": "execute_result"
    }
   ],
   "source": [
    "df_c.describe()"
   ]
  },
  {
   "cell_type": "markdown",
   "metadata": {
    "id": "nF4W18KZ89qD"
   },
   "source": [
    "Работа с пропусками."
   ]
  },
  {
   "cell_type": "code",
   "execution_count": null,
   "metadata": {
    "colab": {
     "base_uri": "https://localhost:8080/"
    },
    "executionInfo": {
     "elapsed": 14,
     "status": "ok",
     "timestamp": 1679044970664,
     "user": {
      "displayName": "Юрий Осипов",
      "userId": "08137226283067646882"
     },
     "user_tz": -180
    },
    "id": "Rw7HxUkG-Aum",
    "outputId": "1ce494d3-63a4-424a-9877-353e034b8d2b"
   },
   "outputs": [
    {
     "name": "stdout",
     "output_type": "stream",
     "text": [
      "<class 'pandas.core.frame.DataFrame'>\n",
      "Int64Index: 10000 entries, 7308295377 to 7311960763\n",
      "Data columns (total 19 columns):\n",
      " #   Column          Non-Null Count  Dtype  \n",
      "---  ------          --------------  -----  \n",
      " 0   url             10000 non-null  object \n",
      " 1   region          10000 non-null  object \n",
      " 2   region_url      10000 non-null  object \n",
      " 3   price           10000 non-null  int64  \n",
      " 4   year            9964 non-null   float64\n",
      " 5   manufacturer    10000 non-null  object \n",
      " 6   model           9872 non-null   object \n",
      " 7   fuel            9937 non-null   object \n",
      " 8   odometer        10000 non-null  int64  \n",
      " 9   title_status    9834 non-null   object \n",
      " 10  transmission    9955 non-null   object \n",
      " 11  image_url       9998 non-null   object \n",
      " 12  description     9998 non-null   object \n",
      " 13  state           10000 non-null  object \n",
      " 14  lat             9902 non-null   float64\n",
      " 15  long            9902 non-null   float64\n",
      " 16  posting_date    9998 non-null   object \n",
      " 17  price_category  10000 non-null  object \n",
      " 18  date            9998 non-null   object \n",
      "dtypes: float64(3), int64(2), object(14)\n",
      "memory usage: 1.5+ MB\n"
     ]
    }
   ],
   "source": [
    "#Проверяем наличие пропусков в колонках.\n",
    "df_c.info()"
   ]
  },
  {
   "cell_type": "code",
   "execution_count": null,
   "metadata": {
    "colab": {
     "base_uri": "https://localhost:8080/"
    },
    "executionInfo": {
     "elapsed": 5,
     "status": "ok",
     "timestamp": 1679045140516,
     "user": {
      "displayName": "Юрий Осипов",
      "userId": "08137226283067646882"
     },
     "user_tz": -180
    },
    "id": "4NnVAXYe-HyA",
    "outputId": "c03838b0-370b-41a9-a5ec-078d6dace82d"
   },
   "outputs": [
    {
     "data": {
      "text/plain": [
       "url               0\n",
       "region            0\n",
       "region_url        0\n",
       "price             0\n",
       "year              0\n",
       "manufacturer      0\n",
       "model             0\n",
       "fuel              0\n",
       "odometer          0\n",
       "title_status      0\n",
       "transmission      0\n",
       "image_url         0\n",
       "description       0\n",
       "state             0\n",
       "lat               0\n",
       "long              0\n",
       "posting_date      0\n",
       "price_category    0\n",
       "date              0\n",
       "dtype: int64"
      ]
     },
     "execution_count": 26,
     "metadata": {},
     "output_type": "execute_result"
    }
   ],
   "source": [
    "#Изучаем количество пропусков.\n",
    "df_c.isna().sum()"
   ]
  },
  {
   "cell_type": "code",
   "execution_count": null,
   "metadata": {
    "id": "drQJoLMr9V-9"
   },
   "outputs": [],
   "source": [
    "#Удаляем строки с пропуском года выпуска.\n",
    "df_c = df_c.drop(labels = df_c[df_c.year.isna()].index, axis=0)"
   ]
  },
  {
   "cell_type": "code",
   "execution_count": null,
   "metadata": {
    "id": "UY9dDNqm9i58"
   },
   "outputs": [],
   "source": [
    "df_c.model = df_c.model.fillna('other')"
   ]
  },
  {
   "cell_type": "code",
   "execution_count": null,
   "metadata": {
    "colab": {
     "base_uri": "https://localhost:8080/"
    },
    "executionInfo": {
     "elapsed": 10,
     "status": "ok",
     "timestamp": 1679045027083,
     "user": {
      "displayName": "Юрий Осипов",
      "userId": "08137226283067646882"
     },
     "user_tz": -180
    },
    "id": "VMkx1B919m7i",
    "outputId": "4df62d2f-8e47-4e99-b7bc-7a2a441e0afc"
   },
   "outputs": [
    {
     "data": {
      "text/plain": [
       "gas         8379\n",
       "other        729\n",
       "diesel       650\n",
       "hybrid       108\n",
       "NaN           54\n",
       "electric      44\n",
       "Name: fuel, dtype: int64"
      ]
     },
     "execution_count": 15,
     "metadata": {},
     "output_type": "execute_result"
    }
   ],
   "source": [
    "df_c.fuel.value_counts(dropna=False)"
   ]
  },
  {
   "cell_type": "code",
   "execution_count": null,
   "metadata": {
    "id": "CxCD0X979pE3"
   },
   "outputs": [],
   "source": [
    "#Пропуски в колонке вид топлива заполняем преобладающим значением.\n",
    "df_c.fuel = df_c.fuel.fillna('gas')"
   ]
  },
  {
   "cell_type": "code",
   "execution_count": null,
   "metadata": {
    "colab": {
     "base_uri": "https://localhost:8080/"
    },
    "executionInfo": {
     "elapsed": 5,
     "status": "ok",
     "timestamp": 1679045038762,
     "user": {
      "displayName": "Юрий Осипов",
      "userId": "08137226283067646882"
     },
     "user_tz": -180
    },
    "id": "OQFyh-Ay9rG4",
    "outputId": "e99d5b5e-ad94-4f4c-8665-697b1ed61d63"
   },
   "outputs": [
    {
     "data": {
      "text/plain": [
       "clean         9492\n",
       "rebuilt        168\n",
       "NaN            159\n",
       "salvage         92\n",
       "lien            35\n",
       "missing         16\n",
       "parts only       2\n",
       "Name: title_status, dtype: int64"
      ]
     },
     "execution_count": 17,
     "metadata": {},
     "output_type": "execute_result"
    }
   ],
   "source": [
    "df_c.title_status.value_counts(dropna=False)"
   ]
  },
  {
   "cell_type": "code",
   "execution_count": null,
   "metadata": {
    "id": "JosY2x4E9s7y"
   },
   "outputs": [],
   "source": [
    "df_c.title_status = df_c.title_status.fillna('clean')"
   ]
  },
  {
   "cell_type": "code",
   "execution_count": null,
   "metadata": {
    "colab": {
     "base_uri": "https://localhost:8080/"
    },
    "executionInfo": {
     "elapsed": 7,
     "status": "ok",
     "timestamp": 1679045044423,
     "user": {
      "displayName": "Юрий Осипов",
      "userId": "08137226283067646882"
     },
     "user_tz": -180
    },
    "id": "-ez8x3Rn9vFQ",
    "outputId": "601b8e71-de18-4d87-85d5-11a057343a18"
   },
   "outputs": [
    {
     "data": {
      "text/plain": [
       "automatic    7667\n",
       "other        1623\n",
       "manual        631\n",
       "NaN            43\n",
       "Name: transmission, dtype: int64"
      ]
     },
     "execution_count": 19,
     "metadata": {},
     "output_type": "execute_result"
    }
   ],
   "source": [
    "df_c.transmission.value_counts(dropna=False) "
   ]
  },
  {
   "cell_type": "code",
   "execution_count": null,
   "metadata": {
    "id": "31irRMf19xcd"
   },
   "outputs": [],
   "source": [
    "#Пропуски в колонке трансмиссия заполняем преобладающим значением.\n",
    "df_c.transmission = df_c.transmission.fillna('automatic')"
   ]
  },
  {
   "cell_type": "code",
   "execution_count": null,
   "metadata": {
    "id": "ojaMxTPS9zo5"
   },
   "outputs": [],
   "source": [
    "#Пропуски в колонке широта и долгота заполняем среднимм значением по колонке.\n",
    "df_c.lat = df_c.lat.fillna(df_c.lat.mean())"
   ]
  },
  {
   "cell_type": "code",
   "execution_count": null,
   "metadata": {
    "id": "6PB02VOS41GA"
   },
   "outputs": [],
   "source": [
    "df_c.long = df_c.long.fillna(df_c.long.mean())"
   ]
  },
  {
   "cell_type": "markdown",
   "metadata": {
    "id": "YEPETWjc93s5"
   },
   "source": [
    "Обработка выбросов.\n"
   ]
  },
  {
   "cell_type": "code",
   "execution_count": null,
   "metadata": {
    "id": "C6FhmnlQ96iD"
   },
   "outputs": [],
   "source": [
    "#Функция для поиска выбросов\n",
    "def calculate_outliers_3sigma(data):\n",
    "    a25 = data.mean() - data.std() * 3\n",
    "    a75 = data.mean() + data.std() * 3\n",
    "    b = (a25, a75)\n",
    "    return b\n",
    "#Функция для удаления выбросов\n",
    "def delete_vibros(data):\n",
    "    elems = []\n",
    "    data = data.index\n",
    "    for elem in data:\n",
    "        elems.append(elem)\n",
    "    df_c.drop(elems, axis=0, inplace=True)"
   ]
  },
  {
   "cell_type": "code",
   "execution_count": null,
   "metadata": {
    "colab": {
     "base_uri": "https://localhost:8080/"
    },
    "executionInfo": {
     "elapsed": 451,
     "status": "ok",
     "timestamp": 1679045190448,
     "user": {
      "displayName": "Юрий Осипов",
      "userId": "08137226283067646882"
     },
     "user_tz": -180
    },
    "id": "2EeD0o2Y5Bm3",
    "outputId": "b698544f-7d19-488a-b06c-62886c60f4e3"
   },
   "outputs": [
    {
     "data": {
      "text/html": [
       "\n",
       "  <div id=\"df-0f86a189-3687-4db7-8090-c02b4b67aa5d\">\n",
       "    <div class=\"colab-df-container\">\n",
       "      <div>\n",
       "<style scoped>\n",
       "    .dataframe tbody tr th:only-of-type {\n",
       "        vertical-align: middle;\n",
       "    }\n",
       "\n",
       "    .dataframe tbody tr th {\n",
       "        vertical-align: top;\n",
       "    }\n",
       "\n",
       "    .dataframe thead th {\n",
       "        text-align: right;\n",
       "    }\n",
       "</style>\n",
       "<table border=\"1\" class=\"dataframe\">\n",
       "  <thead>\n",
       "    <tr style=\"text-align: right;\">\n",
       "      <th></th>\n",
       "      <th>price</th>\n",
       "      <th>year</th>\n",
       "      <th>odometer</th>\n",
       "      <th>lat</th>\n",
       "      <th>long</th>\n",
       "    </tr>\n",
       "  </thead>\n",
       "  <tbody>\n",
       "    <tr>\n",
       "      <th>count</th>\n",
       "      <td>9.964000e+03</td>\n",
       "      <td>9964.000000</td>\n",
       "      <td>9964.000000</td>\n",
       "      <td>9964.000000</td>\n",
       "      <td>9964.000000</td>\n",
       "    </tr>\n",
       "    <tr>\n",
       "      <th>mean</th>\n",
       "      <td>2.059957e+04</td>\n",
       "      <td>2010.927941</td>\n",
       "      <td>93587.909976</td>\n",
       "      <td>38.602746</td>\n",
       "      <td>-94.138420</td>\n",
       "    </tr>\n",
       "    <tr>\n",
       "      <th>std</th>\n",
       "      <td>1.248351e+05</td>\n",
       "      <td>9.672040</td>\n",
       "      <td>63125.348030</td>\n",
       "      <td>5.817462</td>\n",
       "      <td>18.045684</td>\n",
       "    </tr>\n",
       "    <tr>\n",
       "      <th>min</th>\n",
       "      <td>5.000000e+02</td>\n",
       "      <td>1915.000000</td>\n",
       "      <td>0.000000</td>\n",
       "      <td>-67.144243</td>\n",
       "      <td>-158.069300</td>\n",
       "    </tr>\n",
       "    <tr>\n",
       "      <th>25%</th>\n",
       "      <td>7.900000e+03</td>\n",
       "      <td>2008.000000</td>\n",
       "      <td>39379.750000</td>\n",
       "      <td>34.935200</td>\n",
       "      <td>-108.553946</td>\n",
       "    </tr>\n",
       "    <tr>\n",
       "      <th>50%</th>\n",
       "      <td>1.559000e+04</td>\n",
       "      <td>2013.000000</td>\n",
       "      <td>89137.500000</td>\n",
       "      <td>39.208179</td>\n",
       "      <td>-88.136721</td>\n",
       "    </tr>\n",
       "    <tr>\n",
       "      <th>75%</th>\n",
       "      <td>2.799000e+04</td>\n",
       "      <td>2017.000000</td>\n",
       "      <td>137000.000000</td>\n",
       "      <td>42.402740</td>\n",
       "      <td>-80.935850</td>\n",
       "    </tr>\n",
       "    <tr>\n",
       "      <th>max</th>\n",
       "      <td>1.234568e+07</td>\n",
       "      <td>2022.000000</td>\n",
       "      <td>283466.000000</td>\n",
       "      <td>64.947500</td>\n",
       "      <td>173.885502</td>\n",
       "    </tr>\n",
       "  </tbody>\n",
       "</table>\n",
       "</div>\n",
       "      <button class=\"colab-df-convert\" onclick=\"convertToInteractive('df-0f86a189-3687-4db7-8090-c02b4b67aa5d')\"\n",
       "              title=\"Convert this dataframe to an interactive table.\"\n",
       "              style=\"display:none;\">\n",
       "        \n",
       "  <svg xmlns=\"http://www.w3.org/2000/svg\" height=\"24px\"viewBox=\"0 0 24 24\"\n",
       "       width=\"24px\">\n",
       "    <path d=\"M0 0h24v24H0V0z\" fill=\"none\"/>\n",
       "    <path d=\"M18.56 5.44l.94 2.06.94-2.06 2.06-.94-2.06-.94-.94-2.06-.94 2.06-2.06.94zm-11 1L8.5 8.5l.94-2.06 2.06-.94-2.06-.94L8.5 2.5l-.94 2.06-2.06.94zm10 10l.94 2.06.94-2.06 2.06-.94-2.06-.94-.94-2.06-.94 2.06-2.06.94z\"/><path d=\"M17.41 7.96l-1.37-1.37c-.4-.4-.92-.59-1.43-.59-.52 0-1.04.2-1.43.59L10.3 9.45l-7.72 7.72c-.78.78-.78 2.05 0 2.83L4 21.41c.39.39.9.59 1.41.59.51 0 1.02-.2 1.41-.59l7.78-7.78 2.81-2.81c.8-.78.8-2.07 0-2.86zM5.41 20L4 18.59l7.72-7.72 1.47 1.35L5.41 20z\"/>\n",
       "  </svg>\n",
       "      </button>\n",
       "      \n",
       "  <style>\n",
       "    .colab-df-container {\n",
       "      display:flex;\n",
       "      flex-wrap:wrap;\n",
       "      gap: 12px;\n",
       "    }\n",
       "\n",
       "    .colab-df-convert {\n",
       "      background-color: #E8F0FE;\n",
       "      border: none;\n",
       "      border-radius: 50%;\n",
       "      cursor: pointer;\n",
       "      display: none;\n",
       "      fill: #1967D2;\n",
       "      height: 32px;\n",
       "      padding: 0 0 0 0;\n",
       "      width: 32px;\n",
       "    }\n",
       "\n",
       "    .colab-df-convert:hover {\n",
       "      background-color: #E2EBFA;\n",
       "      box-shadow: 0px 1px 2px rgba(60, 64, 67, 0.3), 0px 1px 3px 1px rgba(60, 64, 67, 0.15);\n",
       "      fill: #174EA6;\n",
       "    }\n",
       "\n",
       "    [theme=dark] .colab-df-convert {\n",
       "      background-color: #3B4455;\n",
       "      fill: #D2E3FC;\n",
       "    }\n",
       "\n",
       "    [theme=dark] .colab-df-convert:hover {\n",
       "      background-color: #434B5C;\n",
       "      box-shadow: 0px 1px 3px 1px rgba(0, 0, 0, 0.15);\n",
       "      filter: drop-shadow(0px 1px 2px rgba(0, 0, 0, 0.3));\n",
       "      fill: #FFFFFF;\n",
       "    }\n",
       "  </style>\n",
       "\n",
       "      <script>\n",
       "        const buttonEl =\n",
       "          document.querySelector('#df-0f86a189-3687-4db7-8090-c02b4b67aa5d button.colab-df-convert');\n",
       "        buttonEl.style.display =\n",
       "          google.colab.kernel.accessAllowed ? 'block' : 'none';\n",
       "\n",
       "        async function convertToInteractive(key) {\n",
       "          const element = document.querySelector('#df-0f86a189-3687-4db7-8090-c02b4b67aa5d');\n",
       "          const dataTable =\n",
       "            await google.colab.kernel.invokeFunction('convertToInteractive',\n",
       "                                                     [key], {});\n",
       "          if (!dataTable) return;\n",
       "\n",
       "          const docLinkHtml = 'Like what you see? Visit the ' +\n",
       "            '<a target=\"_blank\" href=https://colab.research.google.com/notebooks/data_table.ipynb>data table notebook</a>'\n",
       "            + ' to learn more about interactive tables.';\n",
       "          element.innerHTML = '';\n",
       "          dataTable['output_type'] = 'display_data';\n",
       "          await google.colab.output.renderOutput(dataTable, element);\n",
       "          const docLink = document.createElement('div');\n",
       "          docLink.innerHTML = docLinkHtml;\n",
       "          element.appendChild(docLink);\n",
       "        }\n",
       "      </script>\n",
       "    </div>\n",
       "  </div>\n",
       "  "
      ],
      "text/plain": [
       "              price         year       odometer          lat         long\n",
       "count  9.964000e+03  9964.000000    9964.000000  9964.000000  9964.000000\n",
       "mean   2.059957e+04  2010.927941   93587.909976    38.602746   -94.138420\n",
       "std    1.248351e+05     9.672040   63125.348030     5.817462    18.045684\n",
       "min    5.000000e+02  1915.000000       0.000000   -67.144243  -158.069300\n",
       "25%    7.900000e+03  2008.000000   39379.750000    34.935200  -108.553946\n",
       "50%    1.559000e+04  2013.000000   89137.500000    39.208179   -88.136721\n",
       "75%    2.799000e+04  2017.000000  137000.000000    42.402740   -80.935850\n",
       "max    1.234568e+07  2022.000000  283466.000000    64.947500   173.885502"
      ]
     },
     "execution_count": 30,
     "metadata": {},
     "output_type": "execute_result"
    }
   ],
   "source": [
    "df_c.describe()"
   ]
  },
  {
   "cell_type": "code",
   "execution_count": null,
   "metadata": {
    "colab": {
     "base_uri": "https://localhost:8080/"
    },
    "executionInfo": {
     "elapsed": 610,
     "status": "ok",
     "timestamp": 1679045245656,
     "user": {
      "displayName": "Юрий Осипов",
      "userId": "08137226283067646882"
     },
     "user_tz": -180
    },
    "id": "7aAIYimK9-b3",
    "outputId": "da56e9b6-09ed-4d0b-962b-9f64603a7624"
   },
   "outputs": [
    {
     "data": {
      "text/plain": [
       "(-353905.801615144, 395104.9318841123)"
      ]
     },
     "execution_count": 31,
     "metadata": {},
     "output_type": "execute_result"
    }
   ],
   "source": [
    "#Выбросы по столбцу price.\n",
    "b_price = calculate_outliers_3sigma(df_c.price)\n",
    "b_price"
   ]
  },
  {
   "cell_type": "code",
   "execution_count": null,
   "metadata": {
    "colab": {
     "base_uri": "https://localhost:8080/"
    },
    "executionInfo": {
     "elapsed": 657,
     "status": "ok",
     "timestamp": 1679045257480,
     "user": {
      "displayName": "Юрий Осипов",
      "userId": "08137226283067646882"
     },
     "user_tz": -180
    },
    "id": "zrU0TvIv-C1E",
    "outputId": "58136c30-7287-42cc-ea61-3de13a3b2d1d"
   },
   "outputs": [
    {
     "data": {
      "text/plain": [
       "2"
      ]
     },
     "execution_count": 32,
     "metadata": {},
     "output_type": "execute_result"
    }
   ],
   "source": [
    "vibros_price = (df_c['price'] < b_price[0]) | (df_c['price'] > b_price[1])\n",
    "vibros_price.sum()"
   ]
  },
  {
   "cell_type": "code",
   "execution_count": null,
   "metadata": {
    "colab": {
     "base_uri": "https://localhost:8080/"
    },
    "executionInfo": {
     "elapsed": 9,
     "status": "ok",
     "timestamp": 1679045259412,
     "user": {
      "displayName": "Юрий Осипов",
      "userId": "08137226283067646882"
     },
     "user_tz": -180
    },
    "id": "7d9n7Axd-El2",
    "outputId": "d5136583-65b7-4159-ce1d-6166eb5845cc"
   },
   "outputs": [
    {
     "data": {
      "text/html": [
       "\n",
       "  <div id=\"df-26850893-501f-4133-8e9b-b878a50dc5a7\">\n",
       "    <div class=\"colab-df-container\">\n",
       "      <div>\n",
       "<style scoped>\n",
       "    .dataframe tbody tr th:only-of-type {\n",
       "        vertical-align: middle;\n",
       "    }\n",
       "\n",
       "    .dataframe tbody tr th {\n",
       "        vertical-align: top;\n",
       "    }\n",
       "\n",
       "    .dataframe thead th {\n",
       "        text-align: right;\n",
       "    }\n",
       "</style>\n",
       "<table border=\"1\" class=\"dataframe\">\n",
       "  <thead>\n",
       "    <tr style=\"text-align: right;\">\n",
       "      <th></th>\n",
       "      <th>url</th>\n",
       "      <th>region</th>\n",
       "      <th>region_url</th>\n",
       "      <th>price</th>\n",
       "      <th>year</th>\n",
       "      <th>manufacturer</th>\n",
       "      <th>model</th>\n",
       "      <th>fuel</th>\n",
       "      <th>odometer</th>\n",
       "      <th>title_status</th>\n",
       "      <th>transmission</th>\n",
       "      <th>image_url</th>\n",
       "      <th>description</th>\n",
       "      <th>state</th>\n",
       "      <th>lat</th>\n",
       "      <th>long</th>\n",
       "      <th>posting_date</th>\n",
       "      <th>price_category</th>\n",
       "      <th>date</th>\n",
       "    </tr>\n",
       "    <tr>\n",
       "      <th>id</th>\n",
       "      <th></th>\n",
       "      <th></th>\n",
       "      <th></th>\n",
       "      <th></th>\n",
       "      <th></th>\n",
       "      <th></th>\n",
       "      <th></th>\n",
       "      <th></th>\n",
       "      <th></th>\n",
       "      <th></th>\n",
       "      <th></th>\n",
       "      <th></th>\n",
       "      <th></th>\n",
       "      <th></th>\n",
       "      <th></th>\n",
       "      <th></th>\n",
       "      <th></th>\n",
       "      <th></th>\n",
       "      <th></th>\n",
       "    </tr>\n",
       "  </thead>\n",
       "  <tbody>\n",
       "    <tr>\n",
       "      <th>7302112231</th>\n",
       "      <td>https://akroncanton.craigslist.org/ctd/d/canto...</td>\n",
       "      <td>akron / canton</td>\n",
       "      <td>https://akroncanton.craigslist.org</td>\n",
       "      <td>12345678</td>\n",
       "      <td>2019.0</td>\n",
       "      <td>chevrolet</td>\n",
       "      <td>other</td>\n",
       "      <td>gas</td>\n",
       "      <td>100000</td>\n",
       "      <td>clean</td>\n",
       "      <td>automatic</td>\n",
       "      <td>https://images.craigslist.org/00F0F_g6k0zWbump...</td>\n",
       "      <td>WE HAVE MOVED TO 2517 FULTON DRIVE NW CANTON, ...</td>\n",
       "      <td>oh</td>\n",
       "      <td>40.8465</td>\n",
       "      <td>-81.4408</td>\n",
       "      <td>2021-04-05T12:26:23-0400</td>\n",
       "      <td>high</td>\n",
       "      <td>2021-04-05 16:26:23+00:00</td>\n",
       "    </tr>\n",
       "    <tr>\n",
       "      <th>7305237859</th>\n",
       "      <td>https://delaware.craigslist.org/cto/d/delaware...</td>\n",
       "      <td>delaware</td>\n",
       "      <td>https://delaware.craigslist.org</td>\n",
       "      <td>1000000</td>\n",
       "      <td>2022.0</td>\n",
       "      <td>other</td>\n",
       "      <td>Any make any model</td>\n",
       "      <td>other</td>\n",
       "      <td>283466</td>\n",
       "      <td>clean</td>\n",
       "      <td>other</td>\n",
       "      <td>https://images.craigslist.org/00S0S_k3A68PVXRC...</td>\n",
       "      <td>We come to you and give you an easy quick tran...</td>\n",
       "      <td>de</td>\n",
       "      <td>39.5725</td>\n",
       "      <td>-75.5957</td>\n",
       "      <td>2021-04-11T13:51:42-0400</td>\n",
       "      <td>high</td>\n",
       "      <td>2021-04-11 17:51:42+00:00</td>\n",
       "    </tr>\n",
       "  </tbody>\n",
       "</table>\n",
       "</div>\n",
       "      <button class=\"colab-df-convert\" onclick=\"convertToInteractive('df-26850893-501f-4133-8e9b-b878a50dc5a7')\"\n",
       "              title=\"Convert this dataframe to an interactive table.\"\n",
       "              style=\"display:none;\">\n",
       "        \n",
       "  <svg xmlns=\"http://www.w3.org/2000/svg\" height=\"24px\"viewBox=\"0 0 24 24\"\n",
       "       width=\"24px\">\n",
       "    <path d=\"M0 0h24v24H0V0z\" fill=\"none\"/>\n",
       "    <path d=\"M18.56 5.44l.94 2.06.94-2.06 2.06-.94-2.06-.94-.94-2.06-.94 2.06-2.06.94zm-11 1L8.5 8.5l.94-2.06 2.06-.94-2.06-.94L8.5 2.5l-.94 2.06-2.06.94zm10 10l.94 2.06.94-2.06 2.06-.94-2.06-.94-.94-2.06-.94 2.06-2.06.94z\"/><path d=\"M17.41 7.96l-1.37-1.37c-.4-.4-.92-.59-1.43-.59-.52 0-1.04.2-1.43.59L10.3 9.45l-7.72 7.72c-.78.78-.78 2.05 0 2.83L4 21.41c.39.39.9.59 1.41.59.51 0 1.02-.2 1.41-.59l7.78-7.78 2.81-2.81c.8-.78.8-2.07 0-2.86zM5.41 20L4 18.59l7.72-7.72 1.47 1.35L5.41 20z\"/>\n",
       "  </svg>\n",
       "      </button>\n",
       "      \n",
       "  <style>\n",
       "    .colab-df-container {\n",
       "      display:flex;\n",
       "      flex-wrap:wrap;\n",
       "      gap: 12px;\n",
       "    }\n",
       "\n",
       "    .colab-df-convert {\n",
       "      background-color: #E8F0FE;\n",
       "      border: none;\n",
       "      border-radius: 50%;\n",
       "      cursor: pointer;\n",
       "      display: none;\n",
       "      fill: #1967D2;\n",
       "      height: 32px;\n",
       "      padding: 0 0 0 0;\n",
       "      width: 32px;\n",
       "    }\n",
       "\n",
       "    .colab-df-convert:hover {\n",
       "      background-color: #E2EBFA;\n",
       "      box-shadow: 0px 1px 2px rgba(60, 64, 67, 0.3), 0px 1px 3px 1px rgba(60, 64, 67, 0.15);\n",
       "      fill: #174EA6;\n",
       "    }\n",
       "\n",
       "    [theme=dark] .colab-df-convert {\n",
       "      background-color: #3B4455;\n",
       "      fill: #D2E3FC;\n",
       "    }\n",
       "\n",
       "    [theme=dark] .colab-df-convert:hover {\n",
       "      background-color: #434B5C;\n",
       "      box-shadow: 0px 1px 3px 1px rgba(0, 0, 0, 0.15);\n",
       "      filter: drop-shadow(0px 1px 2px rgba(0, 0, 0, 0.3));\n",
       "      fill: #FFFFFF;\n",
       "    }\n",
       "  </style>\n",
       "\n",
       "      <script>\n",
       "        const buttonEl =\n",
       "          document.querySelector('#df-26850893-501f-4133-8e9b-b878a50dc5a7 button.colab-df-convert');\n",
       "        buttonEl.style.display =\n",
       "          google.colab.kernel.accessAllowed ? 'block' : 'none';\n",
       "\n",
       "        async function convertToInteractive(key) {\n",
       "          const element = document.querySelector('#df-26850893-501f-4133-8e9b-b878a50dc5a7');\n",
       "          const dataTable =\n",
       "            await google.colab.kernel.invokeFunction('convertToInteractive',\n",
       "                                                     [key], {});\n",
       "          if (!dataTable) return;\n",
       "\n",
       "          const docLinkHtml = 'Like what you see? Visit the ' +\n",
       "            '<a target=\"_blank\" href=https://colab.research.google.com/notebooks/data_table.ipynb>data table notebook</a>'\n",
       "            + ' to learn more about interactive tables.';\n",
       "          element.innerHTML = '';\n",
       "          dataTable['output_type'] = 'display_data';\n",
       "          await google.colab.output.renderOutput(dataTable, element);\n",
       "          const docLink = document.createElement('div');\n",
       "          docLink.innerHTML = docLinkHtml;\n",
       "          element.appendChild(docLink);\n",
       "        }\n",
       "      </script>\n",
       "    </div>\n",
       "  </div>\n",
       "  "
      ],
      "text/plain": [
       "                                                          url          region  \\\n",
       "id                                                                              \n",
       "7302112231  https://akroncanton.craigslist.org/ctd/d/canto...  akron / canton   \n",
       "7305237859  https://delaware.craigslist.org/cto/d/delaware...        delaware   \n",
       "\n",
       "                                    region_url     price    year manufacturer  \\\n",
       "id                                                                              \n",
       "7302112231  https://akroncanton.craigslist.org  12345678  2019.0    chevrolet   \n",
       "7305237859     https://delaware.craigslist.org   1000000  2022.0        other   \n",
       "\n",
       "                         model   fuel  odometer title_status transmission  \\\n",
       "id                                                                          \n",
       "7302112231               other    gas    100000        clean    automatic   \n",
       "7305237859  Any make any model  other    283466        clean        other   \n",
       "\n",
       "                                                    image_url  \\\n",
       "id                                                              \n",
       "7302112231  https://images.craigslist.org/00F0F_g6k0zWbump...   \n",
       "7305237859  https://images.craigslist.org/00S0S_k3A68PVXRC...   \n",
       "\n",
       "                                                  description state      lat  \\\n",
       "id                                                                             \n",
       "7302112231  WE HAVE MOVED TO 2517 FULTON DRIVE NW CANTON, ...    oh  40.8465   \n",
       "7305237859  We come to you and give you an easy quick tran...    de  39.5725   \n",
       "\n",
       "               long              posting_date price_category  \\\n",
       "id                                                             \n",
       "7302112231 -81.4408  2021-04-05T12:26:23-0400           high   \n",
       "7305237859 -75.5957  2021-04-11T13:51:42-0400           high   \n",
       "\n",
       "                                 date  \n",
       "id                                     \n",
       "7302112231  2021-04-05 16:26:23+00:00  \n",
       "7305237859  2021-04-11 17:51:42+00:00  "
      ]
     },
     "execution_count": 33,
     "metadata": {},
     "output_type": "execute_result"
    }
   ],
   "source": [
    "df_c[(df_c['price'] > b_price[1])]"
   ]
  },
  {
   "cell_type": "code",
   "execution_count": null,
   "metadata": {
    "id": "R1ls4ooe-GMQ"
   },
   "outputs": [],
   "source": [
    "delete_vibros(df_c[df_c['price'] > b_price[1]])"
   ]
  },
  {
   "cell_type": "code",
   "execution_count": null,
   "metadata": {
    "colab": {
     "base_uri": "https://localhost:8080/"
    },
    "executionInfo": {
     "elapsed": 18,
     "status": "ok",
     "timestamp": 1679045267935,
     "user": {
      "displayName": "Юрий Осипов",
      "userId": "08137226283067646882"
     },
     "user_tz": -180
    },
    "id": "_xRjPeoa-IBe",
    "outputId": "821f7742-83a7-4866-cd2f-3bd8348e0c68"
   },
   "outputs": [
    {
     "data": {
      "text/plain": [
       "(-95740.72346894913, 282877.1356351808)"
      ]
     },
     "execution_count": 35,
     "metadata": {},
     "output_type": "execute_result"
    }
   ],
   "source": [
    "#Выбросы по столбцу odometer.\n",
    "b_odometer = calculate_outliers_3sigma(df_c.odometer)\n",
    "b_odometer"
   ]
  },
  {
   "cell_type": "code",
   "execution_count": null,
   "metadata": {
    "colab": {
     "base_uri": "https://localhost:8080/"
    },
    "executionInfo": {
     "elapsed": 10,
     "status": "ok",
     "timestamp": 1679045269945,
     "user": {
      "displayName": "Юрий Осипов",
      "userId": "08137226283067646882"
     },
     "user_tz": -180
    },
    "id": "E_JOp8T--Jkr",
    "outputId": "03075a09-a4e0-4b57-98de-6f6ef5502cbe"
   },
   "outputs": [
    {
     "data": {
      "text/plain": [
       "91"
      ]
     },
     "execution_count": 36,
     "metadata": {},
     "output_type": "execute_result"
    }
   ],
   "source": [
    "vibros_odometer = (df_c['odometer'] < b_odometer[0]) | (df_c['odometer'] > b_odometer[1])\n",
    "vibros_odometer.sum()"
   ]
  },
  {
   "cell_type": "code",
   "execution_count": null,
   "metadata": {
    "colab": {
     "base_uri": "https://localhost:8080/"
    },
    "executionInfo": {
     "elapsed": 21,
     "status": "ok",
     "timestamp": 1679045273675,
     "user": {
      "displayName": "Юрий Осипов",
      "userId": "08137226283067646882"
     },
     "user_tz": -180
    },
    "id": "yUajkw_K-LE2",
    "outputId": "0f37f37f-1485-4d58-d63c-4fefea9adf58"
   },
   "outputs": [
    {
     "data": {
      "text/html": [
       "\n",
       "  <div id=\"df-f79c9d41-d98a-47e0-be82-f2cfefeaf743\">\n",
       "    <div class=\"colab-df-container\">\n",
       "      <div>\n",
       "<style scoped>\n",
       "    .dataframe tbody tr th:only-of-type {\n",
       "        vertical-align: middle;\n",
       "    }\n",
       "\n",
       "    .dataframe tbody tr th {\n",
       "        vertical-align: top;\n",
       "    }\n",
       "\n",
       "    .dataframe thead th {\n",
       "        text-align: right;\n",
       "    }\n",
       "</style>\n",
       "<table border=\"1\" class=\"dataframe\">\n",
       "  <thead>\n",
       "    <tr style=\"text-align: right;\">\n",
       "      <th></th>\n",
       "      <th>url</th>\n",
       "      <th>region</th>\n",
       "      <th>region_url</th>\n",
       "      <th>price</th>\n",
       "      <th>year</th>\n",
       "      <th>manufacturer</th>\n",
       "      <th>model</th>\n",
       "      <th>fuel</th>\n",
       "      <th>odometer</th>\n",
       "      <th>title_status</th>\n",
       "      <th>transmission</th>\n",
       "      <th>image_url</th>\n",
       "      <th>description</th>\n",
       "      <th>state</th>\n",
       "      <th>lat</th>\n",
       "      <th>long</th>\n",
       "      <th>posting_date</th>\n",
       "      <th>price_category</th>\n",
       "      <th>date</th>\n",
       "    </tr>\n",
       "    <tr>\n",
       "      <th>id</th>\n",
       "      <th></th>\n",
       "      <th></th>\n",
       "      <th></th>\n",
       "      <th></th>\n",
       "      <th></th>\n",
       "      <th></th>\n",
       "      <th></th>\n",
       "      <th></th>\n",
       "      <th></th>\n",
       "      <th></th>\n",
       "      <th></th>\n",
       "      <th></th>\n",
       "      <th></th>\n",
       "      <th></th>\n",
       "      <th></th>\n",
       "      <th></th>\n",
       "      <th></th>\n",
       "      <th></th>\n",
       "      <th></th>\n",
       "    </tr>\n",
       "  </thead>\n",
       "  <tbody>\n",
       "    <tr>\n",
       "      <th>7311516735</th>\n",
       "      <td>https://easttexas.craigslist.org/cto/d/lufkin-...</td>\n",
       "      <td>tyler / east TX</td>\n",
       "      <td>https://easttexas.craigslist.org</td>\n",
       "      <td>17000</td>\n",
       "      <td>2003.0</td>\n",
       "      <td>dodge</td>\n",
       "      <td>3500</td>\n",
       "      <td>diesel</td>\n",
       "      <td>283466</td>\n",
       "      <td>clean</td>\n",
       "      <td>automatic</td>\n",
       "      <td>https://images.craigslist.org/00Q0Q_8WsRzpw9LV...</td>\n",
       "      <td>2003 Dodge 3500 4x4 diesel dually. It has 307k...</td>\n",
       "      <td>tx</td>\n",
       "      <td>31.270000</td>\n",
       "      <td>-94.646900</td>\n",
       "      <td>2021-04-23T14:27:25-0500</td>\n",
       "      <td>medium</td>\n",
       "      <td>2021-04-23 19:27:25+00:00</td>\n",
       "    </tr>\n",
       "    <tr>\n",
       "      <th>7310943842</th>\n",
       "      <td>https://showlow.craigslist.org/ctd/d/pinetop-2...</td>\n",
       "      <td>show low</td>\n",
       "      <td>https://showlow.craigslist.org</td>\n",
       "      <td>2795</td>\n",
       "      <td>2004.0</td>\n",
       "      <td>mazda</td>\n",
       "      <td>tribute</td>\n",
       "      <td>gas</td>\n",
       "      <td>283466</td>\n",
       "      <td>clean</td>\n",
       "      <td>automatic</td>\n",
       "      <td>https://images.craigslist.org/00y0y_9hjvC3qkk3...</td>\n",
       "      <td>ACCUSHINE AUTO SALES 1827 E. WHITE MTN. BLVD. ...</td>\n",
       "      <td>az</td>\n",
       "      <td>34.117500</td>\n",
       "      <td>-109.919700</td>\n",
       "      <td>2021-04-22T10:52:07-0700</td>\n",
       "      <td>low</td>\n",
       "      <td>2021-04-22 17:52:07+00:00</td>\n",
       "    </tr>\n",
       "    <tr>\n",
       "      <th>7306101528</th>\n",
       "      <td>https://desmoines.craigslist.org/ctd/d/windom-...</td>\n",
       "      <td>des moines</td>\n",
       "      <td>https://desmoines.craigslist.org</td>\n",
       "      <td>59950</td>\n",
       "      <td>2013.0</td>\n",
       "      <td>other</td>\n",
       "      <td>CATERPILLAR CT660S</td>\n",
       "      <td>diesel</td>\n",
       "      <td>283466</td>\n",
       "      <td>clean</td>\n",
       "      <td>automatic</td>\n",
       "      <td>https://images.craigslist.org/00I0I_UkoGuDPqYZ...</td>\n",
       "      <td>LA MOTORSPORTS DIESELTRUCKSMN.COM  2013 CATERP...</td>\n",
       "      <td>ia</td>\n",
       "      <td>43.863689</td>\n",
       "      <td>-95.113792</td>\n",
       "      <td>2021-04-13T08:34:24-0500</td>\n",
       "      <td>high</td>\n",
       "      <td>2021-04-13 13:34:24+00:00</td>\n",
       "    </tr>\n",
       "    <tr>\n",
       "      <th>7304168190</th>\n",
       "      <td>https://elpaso.craigslist.org/ctd/d/las-cruces...</td>\n",
       "      <td>el paso</td>\n",
       "      <td>https://elpaso.craigslist.org</td>\n",
       "      <td>16999</td>\n",
       "      <td>2016.0</td>\n",
       "      <td>jeep</td>\n",
       "      <td>renegade</td>\n",
       "      <td>gas</td>\n",
       "      <td>283466</td>\n",
       "      <td>clean</td>\n",
       "      <td>automatic</td>\n",
       "      <td>https://images.craigslist.org/00Q0Q_ajHii9qB6e...</td>\n",
       "      <td>‘16 Jeep Renegade Limited, auto, air, power wi...</td>\n",
       "      <td>tx</td>\n",
       "      <td>32.288990</td>\n",
       "      <td>-106.781616</td>\n",
       "      <td>2021-04-09T09:26:05-0600</td>\n",
       "      <td>medium</td>\n",
       "      <td>2021-04-09 15:26:05+00:00</td>\n",
       "    </tr>\n",
       "    <tr>\n",
       "      <th>7314722320</th>\n",
       "      <td>https://nh.craigslist.org/ctd/d/medford-2015-h...</td>\n",
       "      <td>new hampshire</td>\n",
       "      <td>https://nh.craigslist.org</td>\n",
       "      <td>26500</td>\n",
       "      <td>2015.0</td>\n",
       "      <td>other</td>\n",
       "      <td>HINO 268A</td>\n",
       "      <td>diesel</td>\n",
       "      <td>283466</td>\n",
       "      <td>clean</td>\n",
       "      <td>automatic</td>\n",
       "      <td>https://images.craigslist.org/01111_aEpkHS4iop...</td>\n",
       "      <td>2015 HINO 268A 24' REFRIG NCDL 260 HP, ALLISIO...</td>\n",
       "      <td>nh</td>\n",
       "      <td>42.417300</td>\n",
       "      <td>-71.108700</td>\n",
       "      <td>2021-04-30T07:30:45-0400</td>\n",
       "      <td>high</td>\n",
       "      <td>2021-04-30 11:30:45+00:00</td>\n",
       "    </tr>\n",
       "    <tr>\n",
       "      <th>...</th>\n",
       "      <td>...</td>\n",
       "      <td>...</td>\n",
       "      <td>...</td>\n",
       "      <td>...</td>\n",
       "      <td>...</td>\n",
       "      <td>...</td>\n",
       "      <td>...</td>\n",
       "      <td>...</td>\n",
       "      <td>...</td>\n",
       "      <td>...</td>\n",
       "      <td>...</td>\n",
       "      <td>...</td>\n",
       "      <td>...</td>\n",
       "      <td>...</td>\n",
       "      <td>...</td>\n",
       "      <td>...</td>\n",
       "      <td>...</td>\n",
       "      <td>...</td>\n",
       "      <td>...</td>\n",
       "    </tr>\n",
       "    <tr>\n",
       "      <th>7316485896</th>\n",
       "      <td>https://fortmyers.craigslist.org/lee/cto/d/for...</td>\n",
       "      <td>ft myers / SW florida</td>\n",
       "      <td>https://fortmyers.craigslist.org</td>\n",
       "      <td>18500</td>\n",
       "      <td>2021.0</td>\n",
       "      <td>ford</td>\n",
       "      <td>f450 super duty</td>\n",
       "      <td>diesel</td>\n",
       "      <td>283466</td>\n",
       "      <td>clean</td>\n",
       "      <td>automatic</td>\n",
       "      <td>https://images.craigslist.org/00W0W_bzRFeRTjqS...</td>\n",
       "      <td>2021 Ford F450, 4-Door Dully, Cold Ac, New Hea...</td>\n",
       "      <td>fl</td>\n",
       "      <td>26.558000</td>\n",
       "      <td>-81.903000</td>\n",
       "      <td>2021-05-03T18:56:13-0400</td>\n",
       "      <td>medium</td>\n",
       "      <td>2021-05-03 22:56:13+00:00</td>\n",
       "    </tr>\n",
       "    <tr>\n",
       "      <th>7314148003</th>\n",
       "      <td>https://kansascity.craigslist.org/cto/d/lees-s...</td>\n",
       "      <td>kansas city, MO</td>\n",
       "      <td>https://kansascity.craigslist.org</td>\n",
       "      <td>2999</td>\n",
       "      <td>2010.0</td>\n",
       "      <td>chevrolet</td>\n",
       "      <td>hhr ls</td>\n",
       "      <td>gas</td>\n",
       "      <td>283466</td>\n",
       "      <td>clean</td>\n",
       "      <td>automatic</td>\n",
       "      <td>https://images.craigslist.org/00n0n_h4YYCjZeD9...</td>\n",
       "      <td>2010 CHEVY HHR LS --- POWER LOCKS/WINDOWS/MIRR...</td>\n",
       "      <td>ks</td>\n",
       "      <td>38.851800</td>\n",
       "      <td>-94.394400</td>\n",
       "      <td>2021-04-28T20:15:49-0500</td>\n",
       "      <td>low</td>\n",
       "      <td>2021-04-29 01:15:49+00:00</td>\n",
       "    </tr>\n",
       "    <tr>\n",
       "      <th>7313696556</th>\n",
       "      <td>https://mcallen.craigslist.org/cto/d/mcallen-2...</td>\n",
       "      <td>mcallen / edinburg</td>\n",
       "      <td>https://mcallen.craigslist.org</td>\n",
       "      <td>4500</td>\n",
       "      <td>2003.0</td>\n",
       "      <td>chevrolet</td>\n",
       "      <td>avalanche</td>\n",
       "      <td>gas</td>\n",
       "      <td>283466</td>\n",
       "      <td>clean</td>\n",
       "      <td>automatic</td>\n",
       "      <td>https://images.craigslist.org/00m0m_ey8pcui9d1...</td>\n",
       "      <td>Vendo mi Chevrolet Avalanche 2003 que está en ...</td>\n",
       "      <td>tx</td>\n",
       "      <td>26.215400</td>\n",
       "      <td>-98.235900</td>\n",
       "      <td>2021-04-27T23:10:38-0500</td>\n",
       "      <td>low</td>\n",
       "      <td>2021-04-28 04:10:38+00:00</td>\n",
       "    </tr>\n",
       "    <tr>\n",
       "      <th>7306697432</th>\n",
       "      <td>https://knoxville.craigslist.org/cto/d/knoxvil...</td>\n",
       "      <td>knoxville</td>\n",
       "      <td>https://knoxville.craigslist.org</td>\n",
       "      <td>3550</td>\n",
       "      <td>2012.0</td>\n",
       "      <td>nissan</td>\n",
       "      <td>nv2500</td>\n",
       "      <td>gas</td>\n",
       "      <td>283466</td>\n",
       "      <td>clean</td>\n",
       "      <td>automatic</td>\n",
       "      <td>https://images.craigslist.org/00404_guoJBc6u6o...</td>\n",
       "      <td>Good running and driving van</td>\n",
       "      <td>tn</td>\n",
       "      <td>35.991800</td>\n",
       "      <td>-83.849600</td>\n",
       "      <td>2021-04-14T11:54:41-0400</td>\n",
       "      <td>low</td>\n",
       "      <td>2021-04-14 15:54:41+00:00</td>\n",
       "    </tr>\n",
       "    <tr>\n",
       "      <th>7311709925</th>\n",
       "      <td>https://greatfalls.craigslist.org/cto/d/havre-...</td>\n",
       "      <td>great falls</td>\n",
       "      <td>https://greatfalls.craigslist.org</td>\n",
       "      <td>7000</td>\n",
       "      <td>2005.0</td>\n",
       "      <td>chevrolet</td>\n",
       "      <td>silverado</td>\n",
       "      <td>gas</td>\n",
       "      <td>283466</td>\n",
       "      <td>clean</td>\n",
       "      <td>automatic</td>\n",
       "      <td>https://images.craigslist.org/00808_hX52l6571o...</td>\n",
       "      <td>2005 Chevy 1500 LS, has 290k miles on it but h...</td>\n",
       "      <td>mt</td>\n",
       "      <td>48.542862</td>\n",
       "      <td>-109.695310</td>\n",
       "      <td>2021-04-23T20:41:47-0600</td>\n",
       "      <td>low</td>\n",
       "      <td>2021-04-24 02:41:47+00:00</td>\n",
       "    </tr>\n",
       "  </tbody>\n",
       "</table>\n",
       "<p>91 rows × 19 columns</p>\n",
       "</div>\n",
       "      <button class=\"colab-df-convert\" onclick=\"convertToInteractive('df-f79c9d41-d98a-47e0-be82-f2cfefeaf743')\"\n",
       "              title=\"Convert this dataframe to an interactive table.\"\n",
       "              style=\"display:none;\">\n",
       "        \n",
       "  <svg xmlns=\"http://www.w3.org/2000/svg\" height=\"24px\"viewBox=\"0 0 24 24\"\n",
       "       width=\"24px\">\n",
       "    <path d=\"M0 0h24v24H0V0z\" fill=\"none\"/>\n",
       "    <path d=\"M18.56 5.44l.94 2.06.94-2.06 2.06-.94-2.06-.94-.94-2.06-.94 2.06-2.06.94zm-11 1L8.5 8.5l.94-2.06 2.06-.94-2.06-.94L8.5 2.5l-.94 2.06-2.06.94zm10 10l.94 2.06.94-2.06 2.06-.94-2.06-.94-.94-2.06-.94 2.06-2.06.94z\"/><path d=\"M17.41 7.96l-1.37-1.37c-.4-.4-.92-.59-1.43-.59-.52 0-1.04.2-1.43.59L10.3 9.45l-7.72 7.72c-.78.78-.78 2.05 0 2.83L4 21.41c.39.39.9.59 1.41.59.51 0 1.02-.2 1.41-.59l7.78-7.78 2.81-2.81c.8-.78.8-2.07 0-2.86zM5.41 20L4 18.59l7.72-7.72 1.47 1.35L5.41 20z\"/>\n",
       "  </svg>\n",
       "      </button>\n",
       "      \n",
       "  <style>\n",
       "    .colab-df-container {\n",
       "      display:flex;\n",
       "      flex-wrap:wrap;\n",
       "      gap: 12px;\n",
       "    }\n",
       "\n",
       "    .colab-df-convert {\n",
       "      background-color: #E8F0FE;\n",
       "      border: none;\n",
       "      border-radius: 50%;\n",
       "      cursor: pointer;\n",
       "      display: none;\n",
       "      fill: #1967D2;\n",
       "      height: 32px;\n",
       "      padding: 0 0 0 0;\n",
       "      width: 32px;\n",
       "    }\n",
       "\n",
       "    .colab-df-convert:hover {\n",
       "      background-color: #E2EBFA;\n",
       "      box-shadow: 0px 1px 2px rgba(60, 64, 67, 0.3), 0px 1px 3px 1px rgba(60, 64, 67, 0.15);\n",
       "      fill: #174EA6;\n",
       "    }\n",
       "\n",
       "    [theme=dark] .colab-df-convert {\n",
       "      background-color: #3B4455;\n",
       "      fill: #D2E3FC;\n",
       "    }\n",
       "\n",
       "    [theme=dark] .colab-df-convert:hover {\n",
       "      background-color: #434B5C;\n",
       "      box-shadow: 0px 1px 3px 1px rgba(0, 0, 0, 0.15);\n",
       "      filter: drop-shadow(0px 1px 2px rgba(0, 0, 0, 0.3));\n",
       "      fill: #FFFFFF;\n",
       "    }\n",
       "  </style>\n",
       "\n",
       "      <script>\n",
       "        const buttonEl =\n",
       "          document.querySelector('#df-f79c9d41-d98a-47e0-be82-f2cfefeaf743 button.colab-df-convert');\n",
       "        buttonEl.style.display =\n",
       "          google.colab.kernel.accessAllowed ? 'block' : 'none';\n",
       "\n",
       "        async function convertToInteractive(key) {\n",
       "          const element = document.querySelector('#df-f79c9d41-d98a-47e0-be82-f2cfefeaf743');\n",
       "          const dataTable =\n",
       "            await google.colab.kernel.invokeFunction('convertToInteractive',\n",
       "                                                     [key], {});\n",
       "          if (!dataTable) return;\n",
       "\n",
       "          const docLinkHtml = 'Like what you see? Visit the ' +\n",
       "            '<a target=\"_blank\" href=https://colab.research.google.com/notebooks/data_table.ipynb>data table notebook</a>'\n",
       "            + ' to learn more about interactive tables.';\n",
       "          element.innerHTML = '';\n",
       "          dataTable['output_type'] = 'display_data';\n",
       "          await google.colab.output.renderOutput(dataTable, element);\n",
       "          const docLink = document.createElement('div');\n",
       "          docLink.innerHTML = docLinkHtml;\n",
       "          element.appendChild(docLink);\n",
       "        }\n",
       "      </script>\n",
       "    </div>\n",
       "  </div>\n",
       "  "
      ],
      "text/plain": [
       "                                                          url  \\\n",
       "id                                                              \n",
       "7311516735  https://easttexas.craigslist.org/cto/d/lufkin-...   \n",
       "7310943842  https://showlow.craigslist.org/ctd/d/pinetop-2...   \n",
       "7306101528  https://desmoines.craigslist.org/ctd/d/windom-...   \n",
       "7304168190  https://elpaso.craigslist.org/ctd/d/las-cruces...   \n",
       "7314722320  https://nh.craigslist.org/ctd/d/medford-2015-h...   \n",
       "...                                                       ...   \n",
       "7316485896  https://fortmyers.craigslist.org/lee/cto/d/for...   \n",
       "7314148003  https://kansascity.craigslist.org/cto/d/lees-s...   \n",
       "7313696556  https://mcallen.craigslist.org/cto/d/mcallen-2...   \n",
       "7306697432  https://knoxville.craigslist.org/cto/d/knoxvil...   \n",
       "7311709925  https://greatfalls.craigslist.org/cto/d/havre-...   \n",
       "\n",
       "                           region                         region_url  price  \\\n",
       "id                                                                            \n",
       "7311516735        tyler / east TX   https://easttexas.craigslist.org  17000   \n",
       "7310943842               show low     https://showlow.craigslist.org   2795   \n",
       "7306101528             des moines   https://desmoines.craigslist.org  59950   \n",
       "7304168190                el paso      https://elpaso.craigslist.org  16999   \n",
       "7314722320          new hampshire          https://nh.craigslist.org  26500   \n",
       "...                           ...                                ...    ...   \n",
       "7316485896  ft myers / SW florida   https://fortmyers.craigslist.org  18500   \n",
       "7314148003        kansas city, MO  https://kansascity.craigslist.org   2999   \n",
       "7313696556     mcallen / edinburg     https://mcallen.craigslist.org   4500   \n",
       "7306697432              knoxville   https://knoxville.craigslist.org   3550   \n",
       "7311709925            great falls  https://greatfalls.craigslist.org   7000   \n",
       "\n",
       "              year manufacturer               model    fuel  odometer  \\\n",
       "id                                                                      \n",
       "7311516735  2003.0        dodge                3500  diesel    283466   \n",
       "7310943842  2004.0        mazda             tribute     gas    283466   \n",
       "7306101528  2013.0        other  CATERPILLAR CT660S  diesel    283466   \n",
       "7304168190  2016.0         jeep            renegade     gas    283466   \n",
       "7314722320  2015.0        other           HINO 268A  diesel    283466   \n",
       "...            ...          ...                 ...     ...       ...   \n",
       "7316485896  2021.0         ford     f450 super duty  diesel    283466   \n",
       "7314148003  2010.0    chevrolet              hhr ls     gas    283466   \n",
       "7313696556  2003.0    chevrolet           avalanche     gas    283466   \n",
       "7306697432  2012.0       nissan              nv2500     gas    283466   \n",
       "7311709925  2005.0    chevrolet           silverado     gas    283466   \n",
       "\n",
       "           title_status transmission  \\\n",
       "id                                     \n",
       "7311516735        clean    automatic   \n",
       "7310943842        clean    automatic   \n",
       "7306101528        clean    automatic   \n",
       "7304168190        clean    automatic   \n",
       "7314722320        clean    automatic   \n",
       "...                 ...          ...   \n",
       "7316485896        clean    automatic   \n",
       "7314148003        clean    automatic   \n",
       "7313696556        clean    automatic   \n",
       "7306697432        clean    automatic   \n",
       "7311709925        clean    automatic   \n",
       "\n",
       "                                                    image_url  \\\n",
       "id                                                              \n",
       "7311516735  https://images.craigslist.org/00Q0Q_8WsRzpw9LV...   \n",
       "7310943842  https://images.craigslist.org/00y0y_9hjvC3qkk3...   \n",
       "7306101528  https://images.craigslist.org/00I0I_UkoGuDPqYZ...   \n",
       "7304168190  https://images.craigslist.org/00Q0Q_ajHii9qB6e...   \n",
       "7314722320  https://images.craigslist.org/01111_aEpkHS4iop...   \n",
       "...                                                       ...   \n",
       "7316485896  https://images.craigslist.org/00W0W_bzRFeRTjqS...   \n",
       "7314148003  https://images.craigslist.org/00n0n_h4YYCjZeD9...   \n",
       "7313696556  https://images.craigslist.org/00m0m_ey8pcui9d1...   \n",
       "7306697432  https://images.craigslist.org/00404_guoJBc6u6o...   \n",
       "7311709925  https://images.craigslist.org/00808_hX52l6571o...   \n",
       "\n",
       "                                                  description state  \\\n",
       "id                                                                    \n",
       "7311516735  2003 Dodge 3500 4x4 diesel dually. It has 307k...    tx   \n",
       "7310943842  ACCUSHINE AUTO SALES 1827 E. WHITE MTN. BLVD. ...    az   \n",
       "7306101528  LA MOTORSPORTS DIESELTRUCKSMN.COM  2013 CATERP...    ia   \n",
       "7304168190  ‘16 Jeep Renegade Limited, auto, air, power wi...    tx   \n",
       "7314722320  2015 HINO 268A 24' REFRIG NCDL 260 HP, ALLISIO...    nh   \n",
       "...                                                       ...   ...   \n",
       "7316485896  2021 Ford F450, 4-Door Dully, Cold Ac, New Hea...    fl   \n",
       "7314148003  2010 CHEVY HHR LS --- POWER LOCKS/WINDOWS/MIRR...    ks   \n",
       "7313696556  Vendo mi Chevrolet Avalanche 2003 que está en ...    tx   \n",
       "7306697432                       Good running and driving van    tn   \n",
       "7311709925  2005 Chevy 1500 LS, has 290k miles on it but h...    mt   \n",
       "\n",
       "                  lat        long              posting_date price_category  \\\n",
       "id                                                                           \n",
       "7311516735  31.270000  -94.646900  2021-04-23T14:27:25-0500         medium   \n",
       "7310943842  34.117500 -109.919700  2021-04-22T10:52:07-0700            low   \n",
       "7306101528  43.863689  -95.113792  2021-04-13T08:34:24-0500           high   \n",
       "7304168190  32.288990 -106.781616  2021-04-09T09:26:05-0600         medium   \n",
       "7314722320  42.417300  -71.108700  2021-04-30T07:30:45-0400           high   \n",
       "...               ...         ...                       ...            ...   \n",
       "7316485896  26.558000  -81.903000  2021-05-03T18:56:13-0400         medium   \n",
       "7314148003  38.851800  -94.394400  2021-04-28T20:15:49-0500            low   \n",
       "7313696556  26.215400  -98.235900  2021-04-27T23:10:38-0500            low   \n",
       "7306697432  35.991800  -83.849600  2021-04-14T11:54:41-0400            low   \n",
       "7311709925  48.542862 -109.695310  2021-04-23T20:41:47-0600            low   \n",
       "\n",
       "                                 date  \n",
       "id                                     \n",
       "7311516735  2021-04-23 19:27:25+00:00  \n",
       "7310943842  2021-04-22 17:52:07+00:00  \n",
       "7306101528  2021-04-13 13:34:24+00:00  \n",
       "7304168190  2021-04-09 15:26:05+00:00  \n",
       "7314722320  2021-04-30 11:30:45+00:00  \n",
       "...                               ...  \n",
       "7316485896  2021-05-03 22:56:13+00:00  \n",
       "7314148003  2021-04-29 01:15:49+00:00  \n",
       "7313696556  2021-04-28 04:10:38+00:00  \n",
       "7306697432  2021-04-14 15:54:41+00:00  \n",
       "7311709925  2021-04-24 02:41:47+00:00  \n",
       "\n",
       "[91 rows x 19 columns]"
      ]
     },
     "execution_count": 37,
     "metadata": {},
     "output_type": "execute_result"
    }
   ],
   "source": [
    "df_c[(df_c['odometer'] > b_odometer[1])]"
   ]
  },
  {
   "cell_type": "code",
   "execution_count": null,
   "metadata": {
    "id": "4lsBOCE8-Mmv"
   },
   "outputs": [],
   "source": [
    "delete_vibros(df_c[df_c['odometer'] > b_odometer[1]])"
   ]
  },
  {
   "cell_type": "code",
   "execution_count": null,
   "metadata": {
    "colab": {
     "base_uri": "https://localhost:8080/"
    },
    "executionInfo": {
     "elapsed": 418,
     "status": "ok",
     "timestamp": 1679045305203,
     "user": {
      "displayName": "Юрий Осипов",
      "userId": "08137226283067646882"
     },
     "user_tz": -180
    },
    "id": "RAjR3dxi5cR7",
    "outputId": "9423acf5-d70d-4dcb-a799-52f952925a0c"
   },
   "outputs": [
    {
     "data": {
      "text/plain": [
       "(21.17488307600924, 56.048669909686296)"
      ]
     },
     "execution_count": 39,
     "metadata": {},
     "output_type": "execute_result"
    }
   ],
   "source": [
    "#Выбросы по столбцу lat.\n",
    "b_lat = calculate_outliers_3sigma(df_c.lat)\n",
    "b_lat"
   ]
  },
  {
   "cell_type": "code",
   "execution_count": null,
   "metadata": {
    "colab": {
     "base_uri": "https://localhost:8080/"
    },
    "executionInfo": {
     "elapsed": 11,
     "status": "ok",
     "timestamp": 1679045341964,
     "user": {
      "displayName": "Юрий Осипов",
      "userId": "08137226283067646882"
     },
     "user_tz": -180
    },
    "id": "ESzHuRIN5mNH",
    "outputId": "ad27deb8-b4b7-43ae-fca9-74ebefb2bf7f"
   },
   "outputs": [
    {
     "data": {
      "text/plain": [
       "102"
      ]
     },
     "execution_count": 40,
     "metadata": {},
     "output_type": "execute_result"
    }
   ],
   "source": [
    "vibros_lat = (df_c['lat'] < b_lat[0]) | (df_c['lat'] > b_lat[1])\n",
    "vibros_lat.sum()"
   ]
  },
  {
   "cell_type": "code",
   "execution_count": null,
   "metadata": {
    "colab": {
     "base_uri": "https://localhost:8080/"
    },
    "executionInfo": {
     "elapsed": 18,
     "status": "ok",
     "timestamp": 1679045471509,
     "user": {
      "displayName": "Юрий Осипов",
      "userId": "08137226283067646882"
     },
     "user_tz": -180
    },
    "id": "Cj5bjbtn5vAc",
    "outputId": "9427f0b6-a9ff-4f20-eaa9-7204536a2bb4"
   },
   "outputs": [
    {
     "data": {
      "text/html": [
       "\n",
       "  <div id=\"df-db7bacea-6054-4361-9a88-575ff66df4f4\">\n",
       "    <div class=\"colab-df-container\">\n",
       "      <div>\n",
       "<style scoped>\n",
       "    .dataframe tbody tr th:only-of-type {\n",
       "        vertical-align: middle;\n",
       "    }\n",
       "\n",
       "    .dataframe tbody tr th {\n",
       "        vertical-align: top;\n",
       "    }\n",
       "\n",
       "    .dataframe thead th {\n",
       "        text-align: right;\n",
       "    }\n",
       "</style>\n",
       "<table border=\"1\" class=\"dataframe\">\n",
       "  <thead>\n",
       "    <tr style=\"text-align: right;\">\n",
       "      <th></th>\n",
       "      <th>url</th>\n",
       "      <th>region</th>\n",
       "      <th>region_url</th>\n",
       "      <th>price</th>\n",
       "      <th>year</th>\n",
       "      <th>manufacturer</th>\n",
       "      <th>model</th>\n",
       "      <th>fuel</th>\n",
       "      <th>odometer</th>\n",
       "      <th>title_status</th>\n",
       "      <th>transmission</th>\n",
       "      <th>image_url</th>\n",
       "      <th>description</th>\n",
       "      <th>state</th>\n",
       "      <th>lat</th>\n",
       "      <th>long</th>\n",
       "      <th>posting_date</th>\n",
       "      <th>price_category</th>\n",
       "      <th>date</th>\n",
       "    </tr>\n",
       "    <tr>\n",
       "      <th>id</th>\n",
       "      <th></th>\n",
       "      <th></th>\n",
       "      <th></th>\n",
       "      <th></th>\n",
       "      <th></th>\n",
       "      <th></th>\n",
       "      <th></th>\n",
       "      <th></th>\n",
       "      <th></th>\n",
       "      <th></th>\n",
       "      <th></th>\n",
       "      <th></th>\n",
       "      <th></th>\n",
       "      <th></th>\n",
       "      <th></th>\n",
       "      <th></th>\n",
       "      <th></th>\n",
       "      <th></th>\n",
       "      <th></th>\n",
       "    </tr>\n",
       "  </thead>\n",
       "  <tbody>\n",
       "  </tbody>\n",
       "</table>\n",
       "</div>\n",
       "      <button class=\"colab-df-convert\" onclick=\"convertToInteractive('df-db7bacea-6054-4361-9a88-575ff66df4f4')\"\n",
       "              title=\"Convert this dataframe to an interactive table.\"\n",
       "              style=\"display:none;\">\n",
       "        \n",
       "  <svg xmlns=\"http://www.w3.org/2000/svg\" height=\"24px\"viewBox=\"0 0 24 24\"\n",
       "       width=\"24px\">\n",
       "    <path d=\"M0 0h24v24H0V0z\" fill=\"none\"/>\n",
       "    <path d=\"M18.56 5.44l.94 2.06.94-2.06 2.06-.94-2.06-.94-.94-2.06-.94 2.06-2.06.94zm-11 1L8.5 8.5l.94-2.06 2.06-.94-2.06-.94L8.5 2.5l-.94 2.06-2.06.94zm10 10l.94 2.06.94-2.06 2.06-.94-2.06-.94-.94-2.06-.94 2.06-2.06.94z\"/><path d=\"M17.41 7.96l-1.37-1.37c-.4-.4-.92-.59-1.43-.59-.52 0-1.04.2-1.43.59L10.3 9.45l-7.72 7.72c-.78.78-.78 2.05 0 2.83L4 21.41c.39.39.9.59 1.41.59.51 0 1.02-.2 1.41-.59l7.78-7.78 2.81-2.81c.8-.78.8-2.07 0-2.86zM5.41 20L4 18.59l7.72-7.72 1.47 1.35L5.41 20z\"/>\n",
       "  </svg>\n",
       "      </button>\n",
       "      \n",
       "  <style>\n",
       "    .colab-df-container {\n",
       "      display:flex;\n",
       "      flex-wrap:wrap;\n",
       "      gap: 12px;\n",
       "    }\n",
       "\n",
       "    .colab-df-convert {\n",
       "      background-color: #E8F0FE;\n",
       "      border: none;\n",
       "      border-radius: 50%;\n",
       "      cursor: pointer;\n",
       "      display: none;\n",
       "      fill: #1967D2;\n",
       "      height: 32px;\n",
       "      padding: 0 0 0 0;\n",
       "      width: 32px;\n",
       "    }\n",
       "\n",
       "    .colab-df-convert:hover {\n",
       "      background-color: #E2EBFA;\n",
       "      box-shadow: 0px 1px 2px rgba(60, 64, 67, 0.3), 0px 1px 3px 1px rgba(60, 64, 67, 0.15);\n",
       "      fill: #174EA6;\n",
       "    }\n",
       "\n",
       "    [theme=dark] .colab-df-convert {\n",
       "      background-color: #3B4455;\n",
       "      fill: #D2E3FC;\n",
       "    }\n",
       "\n",
       "    [theme=dark] .colab-df-convert:hover {\n",
       "      background-color: #434B5C;\n",
       "      box-shadow: 0px 1px 3px 1px rgba(0, 0, 0, 0.15);\n",
       "      filter: drop-shadow(0px 1px 2px rgba(0, 0, 0, 0.3));\n",
       "      fill: #FFFFFF;\n",
       "    }\n",
       "  </style>\n",
       "\n",
       "      <script>\n",
       "        const buttonEl =\n",
       "          document.querySelector('#df-db7bacea-6054-4361-9a88-575ff66df4f4 button.colab-df-convert');\n",
       "        buttonEl.style.display =\n",
       "          google.colab.kernel.accessAllowed ? 'block' : 'none';\n",
       "\n",
       "        async function convertToInteractive(key) {\n",
       "          const element = document.querySelector('#df-db7bacea-6054-4361-9a88-575ff66df4f4');\n",
       "          const dataTable =\n",
       "            await google.colab.kernel.invokeFunction('convertToInteractive',\n",
       "                                                     [key], {});\n",
       "          if (!dataTable) return;\n",
       "\n",
       "          const docLinkHtml = 'Like what you see? Visit the ' +\n",
       "            '<a target=\"_blank\" href=https://colab.research.google.com/notebooks/data_table.ipynb>data table notebook</a>'\n",
       "            + ' to learn more about interactive tables.';\n",
       "          element.innerHTML = '';\n",
       "          dataTable['output_type'] = 'display_data';\n",
       "          await google.colab.output.renderOutput(dataTable, element);\n",
       "          const docLink = document.createElement('div');\n",
       "          docLink.innerHTML = docLinkHtml;\n",
       "          element.appendChild(docLink);\n",
       "        }\n",
       "      </script>\n",
       "    </div>\n",
       "  </div>\n",
       "  "
      ],
      "text/plain": [
       "Empty DataFrame\n",
       "Columns: [url, region, region_url, price, year, manufacturer, model, fuel, odometer, title_status, transmission, image_url, description, state, lat, long, posting_date, price_category, date]\n",
       "Index: []"
      ]
     },
     "execution_count": 44,
     "metadata": {},
     "output_type": "execute_result"
    }
   ],
   "source": [
    "df_c[(df_c['lat'] > b_lat[1])]"
   ]
  },
  {
   "cell_type": "code",
   "execution_count": null,
   "metadata": {
    "id": "Yy0AtN7H529b"
   },
   "outputs": [],
   "source": [
    "delete_vibros(df_c[(df_c['lat'] > b_lat[1])])\n",
    "delete_vibros(df_c[(df_c['lat'] < b_lat[0])])"
   ]
  },
  {
   "cell_type": "code",
   "execution_count": null,
   "metadata": {
    "colab": {
     "base_uri": "https://localhost:8080/"
    },
    "executionInfo": {
     "elapsed": 427,
     "status": "ok",
     "timestamp": 1679045527110,
     "user": {
      "displayName": "Юрий Осипов",
      "userId": "08137226283067646882"
     },
     "user_tz": -180
    },
    "id": "Qy5Ldw5p6MNB",
    "outputId": "eb192715-1072-4325-fa57-feb50e6440ee"
   },
   "outputs": [
    {
     "data": {
      "text/plain": [
       "(-144.64092747763186, -42.49108058063412)"
      ]
     },
     "execution_count": 45,
     "metadata": {},
     "output_type": "execute_result"
    }
   ],
   "source": [
    "#Выбросы по столбцу long.\n",
    "b_long = calculate_outliers_3sigma(df_c.long)\n",
    "b_long"
   ]
  },
  {
   "cell_type": "code",
   "execution_count": null,
   "metadata": {
    "colab": {
     "base_uri": "https://localhost:8080/"
    },
    "executionInfo": {
     "elapsed": 12,
     "status": "ok",
     "timestamp": 1679045560939,
     "user": {
      "displayName": "Юрий Осипов",
      "userId": "08137226283067646882"
     },
     "user_tz": -180
    },
    "id": "82o-Feya6SIb",
    "outputId": "5b815e53-2dcc-445f-a4c6-96774eefc501"
   },
   "outputs": [
    {
     "data": {
      "text/plain": [
       "40"
      ]
     },
     "execution_count": 46,
     "metadata": {},
     "output_type": "execute_result"
    }
   ],
   "source": [
    "vibros_long = (df_c['long'] < b_long[0]) | (df_c['long'] > b_long[1])\n",
    "vibros_long.sum()"
   ]
  },
  {
   "cell_type": "code",
   "execution_count": null,
   "metadata": {
    "colab": {
     "base_uri": "https://localhost:8080/"
    },
    "executionInfo": {
     "elapsed": 22,
     "status": "ok",
     "timestamp": 1679045618154,
     "user": {
      "displayName": "Юрий Осипов",
      "userId": "08137226283067646882"
     },
     "user_tz": -180
    },
    "id": "03ziSbPJ6ka2",
    "outputId": "0328c59a-1c7c-4b0d-b3f0-6e5a759cd52b"
   },
   "outputs": [
    {
     "data": {
      "text/html": [
       "\n",
       "  <div id=\"df-03ddb1fa-16a3-4735-90c7-c2b15981cdbe\">\n",
       "    <div class=\"colab-df-container\">\n",
       "      <div>\n",
       "<style scoped>\n",
       "    .dataframe tbody tr th:only-of-type {\n",
       "        vertical-align: middle;\n",
       "    }\n",
       "\n",
       "    .dataframe tbody tr th {\n",
       "        vertical-align: top;\n",
       "    }\n",
       "\n",
       "    .dataframe thead th {\n",
       "        text-align: right;\n",
       "    }\n",
       "</style>\n",
       "<table border=\"1\" class=\"dataframe\">\n",
       "  <thead>\n",
       "    <tr style=\"text-align: right;\">\n",
       "      <th></th>\n",
       "      <th>url</th>\n",
       "      <th>region</th>\n",
       "      <th>region_url</th>\n",
       "      <th>price</th>\n",
       "      <th>year</th>\n",
       "      <th>manufacturer</th>\n",
       "      <th>model</th>\n",
       "      <th>fuel</th>\n",
       "      <th>odometer</th>\n",
       "      <th>title_status</th>\n",
       "      <th>transmission</th>\n",
       "      <th>image_url</th>\n",
       "      <th>description</th>\n",
       "      <th>state</th>\n",
       "      <th>lat</th>\n",
       "      <th>long</th>\n",
       "      <th>posting_date</th>\n",
       "      <th>price_category</th>\n",
       "      <th>date</th>\n",
       "    </tr>\n",
       "    <tr>\n",
       "      <th>id</th>\n",
       "      <th></th>\n",
       "      <th></th>\n",
       "      <th></th>\n",
       "      <th></th>\n",
       "      <th></th>\n",
       "      <th></th>\n",
       "      <th></th>\n",
       "      <th></th>\n",
       "      <th></th>\n",
       "      <th></th>\n",
       "      <th></th>\n",
       "      <th></th>\n",
       "      <th></th>\n",
       "      <th></th>\n",
       "      <th></th>\n",
       "      <th></th>\n",
       "      <th></th>\n",
       "      <th></th>\n",
       "      <th></th>\n",
       "    </tr>\n",
       "  </thead>\n",
       "  <tbody>\n",
       "    <tr>\n",
       "      <th>7311040095</th>\n",
       "      <td>https://stcloud.craigslist.org/ctd/d/2004-infi...</td>\n",
       "      <td>st cloud</td>\n",
       "      <td>https://stcloud.craigslist.org</td>\n",
       "      <td>3499</td>\n",
       "      <td>2004.0</td>\n",
       "      <td>infiniti</td>\n",
       "      <td>g35 sedan</td>\n",
       "      <td>gas</td>\n",
       "      <td>185738</td>\n",
       "      <td>clean</td>\n",
       "      <td>automatic</td>\n",
       "      <td>https://images.craigslist.org/00e0e_an5Srs55ku...</td>\n",
       "      <td>2004 Infiniti G35 Sedan 4dr Sdn AWD Auto w/Lea...</td>\n",
       "      <td>mn</td>\n",
       "      <td>45.5579</td>\n",
       "      <td>94.1632</td>\n",
       "      <td>2021-04-22T15:34:44-0500</td>\n",
       "      <td>low</td>\n",
       "      <td>2021-04-22 20:34:44+00:00</td>\n",
       "    </tr>\n",
       "  </tbody>\n",
       "</table>\n",
       "</div>\n",
       "      <button class=\"colab-df-convert\" onclick=\"convertToInteractive('df-03ddb1fa-16a3-4735-90c7-c2b15981cdbe')\"\n",
       "              title=\"Convert this dataframe to an interactive table.\"\n",
       "              style=\"display:none;\">\n",
       "        \n",
       "  <svg xmlns=\"http://www.w3.org/2000/svg\" height=\"24px\"viewBox=\"0 0 24 24\"\n",
       "       width=\"24px\">\n",
       "    <path d=\"M0 0h24v24H0V0z\" fill=\"none\"/>\n",
       "    <path d=\"M18.56 5.44l.94 2.06.94-2.06 2.06-.94-2.06-.94-.94-2.06-.94 2.06-2.06.94zm-11 1L8.5 8.5l.94-2.06 2.06-.94-2.06-.94L8.5 2.5l-.94 2.06-2.06.94zm10 10l.94 2.06.94-2.06 2.06-.94-2.06-.94-.94-2.06-.94 2.06-2.06.94z\"/><path d=\"M17.41 7.96l-1.37-1.37c-.4-.4-.92-.59-1.43-.59-.52 0-1.04.2-1.43.59L10.3 9.45l-7.72 7.72c-.78.78-.78 2.05 0 2.83L4 21.41c.39.39.9.59 1.41.59.51 0 1.02-.2 1.41-.59l7.78-7.78 2.81-2.81c.8-.78.8-2.07 0-2.86zM5.41 20L4 18.59l7.72-7.72 1.47 1.35L5.41 20z\"/>\n",
       "  </svg>\n",
       "      </button>\n",
       "      \n",
       "  <style>\n",
       "    .colab-df-container {\n",
       "      display:flex;\n",
       "      flex-wrap:wrap;\n",
       "      gap: 12px;\n",
       "    }\n",
       "\n",
       "    .colab-df-convert {\n",
       "      background-color: #E8F0FE;\n",
       "      border: none;\n",
       "      border-radius: 50%;\n",
       "      cursor: pointer;\n",
       "      display: none;\n",
       "      fill: #1967D2;\n",
       "      height: 32px;\n",
       "      padding: 0 0 0 0;\n",
       "      width: 32px;\n",
       "    }\n",
       "\n",
       "    .colab-df-convert:hover {\n",
       "      background-color: #E2EBFA;\n",
       "      box-shadow: 0px 1px 2px rgba(60, 64, 67, 0.3), 0px 1px 3px 1px rgba(60, 64, 67, 0.15);\n",
       "      fill: #174EA6;\n",
       "    }\n",
       "\n",
       "    [theme=dark] .colab-df-convert {\n",
       "      background-color: #3B4455;\n",
       "      fill: #D2E3FC;\n",
       "    }\n",
       "\n",
       "    [theme=dark] .colab-df-convert:hover {\n",
       "      background-color: #434B5C;\n",
       "      box-shadow: 0px 1px 3px 1px rgba(0, 0, 0, 0.15);\n",
       "      filter: drop-shadow(0px 1px 2px rgba(0, 0, 0, 0.3));\n",
       "      fill: #FFFFFF;\n",
       "    }\n",
       "  </style>\n",
       "\n",
       "      <script>\n",
       "        const buttonEl =\n",
       "          document.querySelector('#df-03ddb1fa-16a3-4735-90c7-c2b15981cdbe button.colab-df-convert');\n",
       "        buttonEl.style.display =\n",
       "          google.colab.kernel.accessAllowed ? 'block' : 'none';\n",
       "\n",
       "        async function convertToInteractive(key) {\n",
       "          const element = document.querySelector('#df-03ddb1fa-16a3-4735-90c7-c2b15981cdbe');\n",
       "          const dataTable =\n",
       "            await google.colab.kernel.invokeFunction('convertToInteractive',\n",
       "                                                     [key], {});\n",
       "          if (!dataTable) return;\n",
       "\n",
       "          const docLinkHtml = 'Like what you see? Visit the ' +\n",
       "            '<a target=\"_blank\" href=https://colab.research.google.com/notebooks/data_table.ipynb>data table notebook</a>'\n",
       "            + ' to learn more about interactive tables.';\n",
       "          element.innerHTML = '';\n",
       "          dataTable['output_type'] = 'display_data';\n",
       "          await google.colab.output.renderOutput(dataTable, element);\n",
       "          const docLink = document.createElement('div');\n",
       "          docLink.innerHTML = docLinkHtml;\n",
       "          element.appendChild(docLink);\n",
       "        }\n",
       "      </script>\n",
       "    </div>\n",
       "  </div>\n",
       "  "
      ],
      "text/plain": [
       "                                                          url    region  \\\n",
       "id                                                                        \n",
       "7311040095  https://stcloud.craigslist.org/ctd/d/2004-infi...  st cloud   \n",
       "\n",
       "                                region_url  price    year manufacturer  \\\n",
       "id                                                                       \n",
       "7311040095  https://stcloud.craigslist.org   3499  2004.0     infiniti   \n",
       "\n",
       "                model fuel  odometer title_status transmission  \\\n",
       "id                                                               \n",
       "7311040095  g35 sedan  gas    185738        clean    automatic   \n",
       "\n",
       "                                                    image_url  \\\n",
       "id                                                              \n",
       "7311040095  https://images.craigslist.org/00e0e_an5Srs55ku...   \n",
       "\n",
       "                                                  description state      lat  \\\n",
       "id                                                                             \n",
       "7311040095  2004 Infiniti G35 Sedan 4dr Sdn AWD Auto w/Lea...    mn  45.5579   \n",
       "\n",
       "               long              posting_date price_category  \\\n",
       "id                                                             \n",
       "7311040095  94.1632  2021-04-22T15:34:44-0500            low   \n",
       "\n",
       "                                 date  \n",
       "id                                     \n",
       "7311040095  2021-04-22 20:34:44+00:00  "
      ]
     },
     "execution_count": 49,
     "metadata": {},
     "output_type": "execute_result"
    }
   ],
   "source": [
    "df_c[(df_c['long'] > b_long[1])]"
   ]
  },
  {
   "cell_type": "code",
   "execution_count": null,
   "metadata": {
    "id": "EwsQepye6xSC"
   },
   "outputs": [],
   "source": [
    "delete_vibros(df_c[(df_c['long'] > b_long[1])])\n",
    "delete_vibros(df_c[(df_c['long'] < b_long[0])])"
   ]
  },
  {
   "cell_type": "code",
   "execution_count": null,
   "metadata": {
    "id": "XaLprvbw7V0z"
   },
   "outputs": [],
   "source": [
    "#Формат колонки года приводим к целому числу.\n",
    "df_c['year'] = df_c['year'].astype('int')"
   ]
  },
  {
   "cell_type": "code",
   "execution_count": null,
   "metadata": {
    "colab": {
     "base_uri": "https://localhost:8080/"
    },
    "executionInfo": {
     "elapsed": 4,
     "status": "ok",
     "timestamp": 1679045784424,
     "user": {
      "displayName": "Юрий Осипов",
      "userId": "08137226283067646882"
     },
     "user_tz": -180
    },
    "id": "W8s3c8Ep-RmA",
    "outputId": "71718d54-4a1b-4a95-cfb0-5723ecc4116e"
   },
   "outputs": [
    {
     "data": {
      "text/plain": [
       "(9729, 19)"
      ]
     },
     "execution_count": 53,
     "metadata": {},
     "output_type": "execute_result"
    }
   ],
   "source": [
    "df_c.shape"
   ]
  },
  {
   "cell_type": "markdown",
   "metadata": {
    "id": "nCwoIcCM-ksr"
   },
   "source": [
    "### Feature selection"
   ]
  },
  {
   "cell_type": "code",
   "execution_count": null,
   "metadata": {
    "colab": {
     "base_uri": "https://localhost:8080/"
    },
    "executionInfo": {
     "elapsed": 12,
     "status": "ok",
     "timestamp": 1679045803382,
     "user": {
      "displayName": "Юрий Осипов",
      "userId": "08137226283067646882"
     },
     "user_tz": -180
    },
    "id": "qSOiIDQA-nHR",
    "outputId": "7fc14330-659a-49fe-fd52-36f3e11f2e5d"
   },
   "outputs": [
    {
     "data": {
      "text/html": [
       "\n",
       "  <div id=\"df-b35bdabf-04c2-456b-9a4c-8bf947f166c3\">\n",
       "    <div class=\"colab-df-container\">\n",
       "      <div>\n",
       "<style scoped>\n",
       "    .dataframe tbody tr th:only-of-type {\n",
       "        vertical-align: middle;\n",
       "    }\n",
       "\n",
       "    .dataframe tbody tr th {\n",
       "        vertical-align: top;\n",
       "    }\n",
       "\n",
       "    .dataframe thead th {\n",
       "        text-align: right;\n",
       "    }\n",
       "</style>\n",
       "<table border=\"1\" class=\"dataframe\">\n",
       "  <thead>\n",
       "    <tr style=\"text-align: right;\">\n",
       "      <th></th>\n",
       "      <th>price</th>\n",
       "      <th>year</th>\n",
       "      <th>odometer</th>\n",
       "      <th>lat</th>\n",
       "      <th>long</th>\n",
       "    </tr>\n",
       "  </thead>\n",
       "  <tbody>\n",
       "    <tr>\n",
       "      <th>price</th>\n",
       "      <td>1.000000</td>\n",
       "      <td>0.326448</td>\n",
       "      <td>-0.507701</td>\n",
       "      <td>-0.013633</td>\n",
       "      <td>-0.084528</td>\n",
       "    </tr>\n",
       "    <tr>\n",
       "      <th>year</th>\n",
       "      <td>0.326448</td>\n",
       "      <td>1.000000</td>\n",
       "      <td>-0.281401</td>\n",
       "      <td>-0.035666</td>\n",
       "      <td>0.025992</td>\n",
       "    </tr>\n",
       "    <tr>\n",
       "      <th>odometer</th>\n",
       "      <td>-0.507701</td>\n",
       "      <td>-0.281401</td>\n",
       "      <td>1.000000</td>\n",
       "      <td>0.037408</td>\n",
       "      <td>-0.007293</td>\n",
       "    </tr>\n",
       "    <tr>\n",
       "      <th>lat</th>\n",
       "      <td>-0.013633</td>\n",
       "      <td>-0.035666</td>\n",
       "      <td>0.037408</td>\n",
       "      <td>1.000000</td>\n",
       "      <td>-0.115207</td>\n",
       "    </tr>\n",
       "    <tr>\n",
       "      <th>long</th>\n",
       "      <td>-0.084528</td>\n",
       "      <td>0.025992</td>\n",
       "      <td>-0.007293</td>\n",
       "      <td>-0.115207</td>\n",
       "      <td>1.000000</td>\n",
       "    </tr>\n",
       "  </tbody>\n",
       "</table>\n",
       "</div>\n",
       "      <button class=\"colab-df-convert\" onclick=\"convertToInteractive('df-b35bdabf-04c2-456b-9a4c-8bf947f166c3')\"\n",
       "              title=\"Convert this dataframe to an interactive table.\"\n",
       "              style=\"display:none;\">\n",
       "        \n",
       "  <svg xmlns=\"http://www.w3.org/2000/svg\" height=\"24px\"viewBox=\"0 0 24 24\"\n",
       "       width=\"24px\">\n",
       "    <path d=\"M0 0h24v24H0V0z\" fill=\"none\"/>\n",
       "    <path d=\"M18.56 5.44l.94 2.06.94-2.06 2.06-.94-2.06-.94-.94-2.06-.94 2.06-2.06.94zm-11 1L8.5 8.5l.94-2.06 2.06-.94-2.06-.94L8.5 2.5l-.94 2.06-2.06.94zm10 10l.94 2.06.94-2.06 2.06-.94-2.06-.94-.94-2.06-.94 2.06-2.06.94z\"/><path d=\"M17.41 7.96l-1.37-1.37c-.4-.4-.92-.59-1.43-.59-.52 0-1.04.2-1.43.59L10.3 9.45l-7.72 7.72c-.78.78-.78 2.05 0 2.83L4 21.41c.39.39.9.59 1.41.59.51 0 1.02-.2 1.41-.59l7.78-7.78 2.81-2.81c.8-.78.8-2.07 0-2.86zM5.41 20L4 18.59l7.72-7.72 1.47 1.35L5.41 20z\"/>\n",
       "  </svg>\n",
       "      </button>\n",
       "      \n",
       "  <style>\n",
       "    .colab-df-container {\n",
       "      display:flex;\n",
       "      flex-wrap:wrap;\n",
       "      gap: 12px;\n",
       "    }\n",
       "\n",
       "    .colab-df-convert {\n",
       "      background-color: #E8F0FE;\n",
       "      border: none;\n",
       "      border-radius: 50%;\n",
       "      cursor: pointer;\n",
       "      display: none;\n",
       "      fill: #1967D2;\n",
       "      height: 32px;\n",
       "      padding: 0 0 0 0;\n",
       "      width: 32px;\n",
       "    }\n",
       "\n",
       "    .colab-df-convert:hover {\n",
       "      background-color: #E2EBFA;\n",
       "      box-shadow: 0px 1px 2px rgba(60, 64, 67, 0.3), 0px 1px 3px 1px rgba(60, 64, 67, 0.15);\n",
       "      fill: #174EA6;\n",
       "    }\n",
       "\n",
       "    [theme=dark] .colab-df-convert {\n",
       "      background-color: #3B4455;\n",
       "      fill: #D2E3FC;\n",
       "    }\n",
       "\n",
       "    [theme=dark] .colab-df-convert:hover {\n",
       "      background-color: #434B5C;\n",
       "      box-shadow: 0px 1px 3px 1px rgba(0, 0, 0, 0.15);\n",
       "      filter: drop-shadow(0px 1px 2px rgba(0, 0, 0, 0.3));\n",
       "      fill: #FFFFFF;\n",
       "    }\n",
       "  </style>\n",
       "\n",
       "      <script>\n",
       "        const buttonEl =\n",
       "          document.querySelector('#df-b35bdabf-04c2-456b-9a4c-8bf947f166c3 button.colab-df-convert');\n",
       "        buttonEl.style.display =\n",
       "          google.colab.kernel.accessAllowed ? 'block' : 'none';\n",
       "\n",
       "        async function convertToInteractive(key) {\n",
       "          const element = document.querySelector('#df-b35bdabf-04c2-456b-9a4c-8bf947f166c3');\n",
       "          const dataTable =\n",
       "            await google.colab.kernel.invokeFunction('convertToInteractive',\n",
       "                                                     [key], {});\n",
       "          if (!dataTable) return;\n",
       "\n",
       "          const docLinkHtml = 'Like what you see? Visit the ' +\n",
       "            '<a target=\"_blank\" href=https://colab.research.google.com/notebooks/data_table.ipynb>data table notebook</a>'\n",
       "            + ' to learn more about interactive tables.';\n",
       "          element.innerHTML = '';\n",
       "          dataTable['output_type'] = 'display_data';\n",
       "          await google.colab.output.renderOutput(dataTable, element);\n",
       "          const docLink = document.createElement('div');\n",
       "          docLink.innerHTML = docLinkHtml;\n",
       "          element.appendChild(docLink);\n",
       "        }\n",
       "      </script>\n",
       "    </div>\n",
       "  </div>\n",
       "  "
      ],
      "text/plain": [
       "             price      year  odometer       lat      long\n",
       "price     1.000000  0.326448 -0.507701 -0.013633 -0.084528\n",
       "year      0.326448  1.000000 -0.281401 -0.035666  0.025992\n",
       "odometer -0.507701 -0.281401  1.000000  0.037408 -0.007293\n",
       "lat      -0.013633 -0.035666  0.037408  1.000000 -0.115207\n",
       "long     -0.084528  0.025992 -0.007293 -0.115207  1.000000"
      ]
     },
     "execution_count": 55,
     "metadata": {},
     "output_type": "execute_result"
    }
   ],
   "source": [
    "#Изучаем коррелирующие значения для их дальнейшего анализа и выбора фичей для модели.\n",
    "df_c.corr()"
   ]
  },
  {
   "cell_type": "code",
   "execution_count": null,
   "metadata": {
    "colab": {
     "base_uri": "https://localhost:8080/"
    },
    "executionInfo": {
     "elapsed": 11,
     "status": "ok",
     "timestamp": 1679045809726,
     "user": {
      "displayName": "Юрий Осипов",
      "userId": "08137226283067646882"
     },
     "user_tz": -180
    },
    "id": "uhBYN9sk-sVm",
    "outputId": "7c885e84-baf7-4667-c6ee-8872230f264f"
   },
   "outputs": [
    {
     "data": {
      "text/html": [
       "\n",
       "  <div id=\"df-e70275a5-7176-4c93-9e74-6d6631d7a208\">\n",
       "    <div class=\"colab-df-container\">\n",
       "      <div>\n",
       "<style scoped>\n",
       "    .dataframe tbody tr th:only-of-type {\n",
       "        vertical-align: middle;\n",
       "    }\n",
       "\n",
       "    .dataframe tbody tr th {\n",
       "        vertical-align: top;\n",
       "    }\n",
       "\n",
       "    .dataframe thead th {\n",
       "        text-align: right;\n",
       "    }\n",
       "</style>\n",
       "<table border=\"1\" class=\"dataframe\">\n",
       "  <thead>\n",
       "    <tr style=\"text-align: right;\">\n",
       "      <th></th>\n",
       "      <th>year</th>\n",
       "      <th>price</th>\n",
       "    </tr>\n",
       "  </thead>\n",
       "  <tbody>\n",
       "    <tr>\n",
       "      <th>0</th>\n",
       "      <td>1915</td>\n",
       "      <td>5000.000000</td>\n",
       "    </tr>\n",
       "    <tr>\n",
       "      <th>1</th>\n",
       "      <td>1923</td>\n",
       "      <td>14950.000000</td>\n",
       "    </tr>\n",
       "    <tr>\n",
       "      <th>2</th>\n",
       "      <td>1927</td>\n",
       "      <td>18500.000000</td>\n",
       "    </tr>\n",
       "    <tr>\n",
       "      <th>3</th>\n",
       "      <td>1928</td>\n",
       "      <td>26400.000000</td>\n",
       "    </tr>\n",
       "    <tr>\n",
       "      <th>4</th>\n",
       "      <td>1929</td>\n",
       "      <td>6981.666667</td>\n",
       "    </tr>\n",
       "    <tr>\n",
       "      <th>...</th>\n",
       "      <td>...</td>\n",
       "      <td>...</td>\n",
       "    </tr>\n",
       "    <tr>\n",
       "      <th>84</th>\n",
       "      <td>2018</td>\n",
       "      <td>29969.309824</td>\n",
       "    </tr>\n",
       "    <tr>\n",
       "      <th>85</th>\n",
       "      <td>2019</td>\n",
       "      <td>34865.229682</td>\n",
       "    </tr>\n",
       "    <tr>\n",
       "      <th>86</th>\n",
       "      <td>2020</td>\n",
       "      <td>37582.656250</td>\n",
       "    </tr>\n",
       "    <tr>\n",
       "      <th>87</th>\n",
       "      <td>2021</td>\n",
       "      <td>39713.446809</td>\n",
       "    </tr>\n",
       "    <tr>\n",
       "      <th>88</th>\n",
       "      <td>2022</td>\n",
       "      <td>15249.000000</td>\n",
       "    </tr>\n",
       "  </tbody>\n",
       "</table>\n",
       "<p>89 rows × 2 columns</p>\n",
       "</div>\n",
       "      <button class=\"colab-df-convert\" onclick=\"convertToInteractive('df-e70275a5-7176-4c93-9e74-6d6631d7a208')\"\n",
       "              title=\"Convert this dataframe to an interactive table.\"\n",
       "              style=\"display:none;\">\n",
       "        \n",
       "  <svg xmlns=\"http://www.w3.org/2000/svg\" height=\"24px\"viewBox=\"0 0 24 24\"\n",
       "       width=\"24px\">\n",
       "    <path d=\"M0 0h24v24H0V0z\" fill=\"none\"/>\n",
       "    <path d=\"M18.56 5.44l.94 2.06.94-2.06 2.06-.94-2.06-.94-.94-2.06-.94 2.06-2.06.94zm-11 1L8.5 8.5l.94-2.06 2.06-.94-2.06-.94L8.5 2.5l-.94 2.06-2.06.94zm10 10l.94 2.06.94-2.06 2.06-.94-2.06-.94-.94-2.06-.94 2.06-2.06.94z\"/><path d=\"M17.41 7.96l-1.37-1.37c-.4-.4-.92-.59-1.43-.59-.52 0-1.04.2-1.43.59L10.3 9.45l-7.72 7.72c-.78.78-.78 2.05 0 2.83L4 21.41c.39.39.9.59 1.41.59.51 0 1.02-.2 1.41-.59l7.78-7.78 2.81-2.81c.8-.78.8-2.07 0-2.86zM5.41 20L4 18.59l7.72-7.72 1.47 1.35L5.41 20z\"/>\n",
       "  </svg>\n",
       "      </button>\n",
       "      \n",
       "  <style>\n",
       "    .colab-df-container {\n",
       "      display:flex;\n",
       "      flex-wrap:wrap;\n",
       "      gap: 12px;\n",
       "    }\n",
       "\n",
       "    .colab-df-convert {\n",
       "      background-color: #E8F0FE;\n",
       "      border: none;\n",
       "      border-radius: 50%;\n",
       "      cursor: pointer;\n",
       "      display: none;\n",
       "      fill: #1967D2;\n",
       "      height: 32px;\n",
       "      padding: 0 0 0 0;\n",
       "      width: 32px;\n",
       "    }\n",
       "\n",
       "    .colab-df-convert:hover {\n",
       "      background-color: #E2EBFA;\n",
       "      box-shadow: 0px 1px 2px rgba(60, 64, 67, 0.3), 0px 1px 3px 1px rgba(60, 64, 67, 0.15);\n",
       "      fill: #174EA6;\n",
       "    }\n",
       "\n",
       "    [theme=dark] .colab-df-convert {\n",
       "      background-color: #3B4455;\n",
       "      fill: #D2E3FC;\n",
       "    }\n",
       "\n",
       "    [theme=dark] .colab-df-convert:hover {\n",
       "      background-color: #434B5C;\n",
       "      box-shadow: 0px 1px 3px 1px rgba(0, 0, 0, 0.15);\n",
       "      filter: drop-shadow(0px 1px 2px rgba(0, 0, 0, 0.3));\n",
       "      fill: #FFFFFF;\n",
       "    }\n",
       "  </style>\n",
       "\n",
       "      <script>\n",
       "        const buttonEl =\n",
       "          document.querySelector('#df-e70275a5-7176-4c93-9e74-6d6631d7a208 button.colab-df-convert');\n",
       "        buttonEl.style.display =\n",
       "          google.colab.kernel.accessAllowed ? 'block' : 'none';\n",
       "\n",
       "        async function convertToInteractive(key) {\n",
       "          const element = document.querySelector('#df-e70275a5-7176-4c93-9e74-6d6631d7a208');\n",
       "          const dataTable =\n",
       "            await google.colab.kernel.invokeFunction('convertToInteractive',\n",
       "                                                     [key], {});\n",
       "          if (!dataTable) return;\n",
       "\n",
       "          const docLinkHtml = 'Like what you see? Visit the ' +\n",
       "            '<a target=\"_blank\" href=https://colab.research.google.com/notebooks/data_table.ipynb>data table notebook</a>'\n",
       "            + ' to learn more about interactive tables.';\n",
       "          element.innerHTML = '';\n",
       "          dataTable['output_type'] = 'display_data';\n",
       "          await google.colab.output.renderOutput(dataTable, element);\n",
       "          const docLink = document.createElement('div');\n",
       "          docLink.innerHTML = docLinkHtml;\n",
       "          element.appendChild(docLink);\n",
       "        }\n",
       "      </script>\n",
       "    </div>\n",
       "  </div>\n",
       "  "
      ],
      "text/plain": [
       "    year         price\n",
       "0   1915   5000.000000\n",
       "1   1923  14950.000000\n",
       "2   1927  18500.000000\n",
       "3   1928  26400.000000\n",
       "4   1929   6981.666667\n",
       "..   ...           ...\n",
       "84  2018  29969.309824\n",
       "85  2019  34865.229682\n",
       "86  2020  37582.656250\n",
       "87  2021  39713.446809\n",
       "88  2022  15249.000000\n",
       "\n",
       "[89 rows x 2 columns]"
      ]
     },
     "execution_count": 56,
     "metadata": {},
     "output_type": "execute_result"
    }
   ],
   "source": [
    "#Создаем сводную таблицу со средним значением цены по году выпуска.\n",
    "price_year = df_c.groupby('year').price.mean().reset_index()\n",
    "price_year"
   ]
  },
  {
   "cell_type": "code",
   "execution_count": null,
   "metadata": {
    "id": "Wn_VBRi5-0Hm"
   },
   "outputs": [],
   "source": [
    "#С помощью фильрации отсекаем слабоинформативные по причине малого количества строки. \n",
    "years_20 = df_c.iloc[np.where(df_c['year'].value_counts() >= 10)].year.reset_index()"
   ]
  },
  {
   "cell_type": "code",
   "execution_count": null,
   "metadata": {
    "id": "0SRtdAzM_HiE"
   },
   "outputs": [],
   "source": [
    "years_20 = years_20.drop('id', axis=1)"
   ]
  },
  {
   "cell_type": "code",
   "execution_count": null,
   "metadata": {
    "id": "QJ7ifDKA_Mou"
   },
   "outputs": [],
   "source": [
    "price_year = price_year.merge(years_20)"
   ]
  },
  {
   "cell_type": "code",
   "execution_count": null,
   "metadata": {
    "colab": {
     "base_uri": "https://localhost:8080/"
    },
    "executionInfo": {
     "elapsed": 21,
     "status": "ok",
     "timestamp": 1679045897803,
     "user": {
      "displayName": "Юрий Осипов",
      "userId": "08137226283067646882"
     },
     "user_tz": -180
    },
    "id": "oWrHEFbx_lEF",
    "outputId": "39a0ad90-2deb-4612-edf2-b6f180787acc"
   },
   "outputs": [
    {
     "data": {
      "text/html": [
       "\n",
       "  <div id=\"df-e3215ce0-3ca4-4a05-ac92-bbcb4783adb9\">\n",
       "    <div class=\"colab-df-container\">\n",
       "      <div>\n",
       "<style scoped>\n",
       "    .dataframe tbody tr th:only-of-type {\n",
       "        vertical-align: middle;\n",
       "    }\n",
       "\n",
       "    .dataframe tbody tr th {\n",
       "        vertical-align: top;\n",
       "    }\n",
       "\n",
       "    .dataframe thead th {\n",
       "        text-align: right;\n",
       "    }\n",
       "</style>\n",
       "<table border=\"1\" class=\"dataframe\">\n",
       "  <thead>\n",
       "    <tr style=\"text-align: right;\">\n",
       "      <th></th>\n",
       "      <th>year</th>\n",
       "      <th>price</th>\n",
       "    </tr>\n",
       "  </thead>\n",
       "  <tbody>\n",
       "    <tr>\n",
       "      <th>0</th>\n",
       "      <td>1970</td>\n",
       "      <td>30213.571429</td>\n",
       "    </tr>\n",
       "    <tr>\n",
       "      <th>1</th>\n",
       "      <td>1994</td>\n",
       "      <td>8842.888889</td>\n",
       "    </tr>\n",
       "    <tr>\n",
       "      <th>2</th>\n",
       "      <td>2000</td>\n",
       "      <td>8608.680556</td>\n",
       "    </tr>\n",
       "    <tr>\n",
       "      <th>3</th>\n",
       "      <td>2001</td>\n",
       "      <td>7997.347458</td>\n",
       "    </tr>\n",
       "    <tr>\n",
       "      <th>4</th>\n",
       "      <td>2001</td>\n",
       "      <td>7997.347458</td>\n",
       "    </tr>\n",
       "  </tbody>\n",
       "</table>\n",
       "</div>\n",
       "      <button class=\"colab-df-convert\" onclick=\"convertToInteractive('df-e3215ce0-3ca4-4a05-ac92-bbcb4783adb9')\"\n",
       "              title=\"Convert this dataframe to an interactive table.\"\n",
       "              style=\"display:none;\">\n",
       "        \n",
       "  <svg xmlns=\"http://www.w3.org/2000/svg\" height=\"24px\"viewBox=\"0 0 24 24\"\n",
       "       width=\"24px\">\n",
       "    <path d=\"M0 0h24v24H0V0z\" fill=\"none\"/>\n",
       "    <path d=\"M18.56 5.44l.94 2.06.94-2.06 2.06-.94-2.06-.94-.94-2.06-.94 2.06-2.06.94zm-11 1L8.5 8.5l.94-2.06 2.06-.94-2.06-.94L8.5 2.5l-.94 2.06-2.06.94zm10 10l.94 2.06.94-2.06 2.06-.94-2.06-.94-.94-2.06-.94 2.06-2.06.94z\"/><path d=\"M17.41 7.96l-1.37-1.37c-.4-.4-.92-.59-1.43-.59-.52 0-1.04.2-1.43.59L10.3 9.45l-7.72 7.72c-.78.78-.78 2.05 0 2.83L4 21.41c.39.39.9.59 1.41.59.51 0 1.02-.2 1.41-.59l7.78-7.78 2.81-2.81c.8-.78.8-2.07 0-2.86zM5.41 20L4 18.59l7.72-7.72 1.47 1.35L5.41 20z\"/>\n",
       "  </svg>\n",
       "      </button>\n",
       "      \n",
       "  <style>\n",
       "    .colab-df-container {\n",
       "      display:flex;\n",
       "      flex-wrap:wrap;\n",
       "      gap: 12px;\n",
       "    }\n",
       "\n",
       "    .colab-df-convert {\n",
       "      background-color: #E8F0FE;\n",
       "      border: none;\n",
       "      border-radius: 50%;\n",
       "      cursor: pointer;\n",
       "      display: none;\n",
       "      fill: #1967D2;\n",
       "      height: 32px;\n",
       "      padding: 0 0 0 0;\n",
       "      width: 32px;\n",
       "    }\n",
       "\n",
       "    .colab-df-convert:hover {\n",
       "      background-color: #E2EBFA;\n",
       "      box-shadow: 0px 1px 2px rgba(60, 64, 67, 0.3), 0px 1px 3px 1px rgba(60, 64, 67, 0.15);\n",
       "      fill: #174EA6;\n",
       "    }\n",
       "\n",
       "    [theme=dark] .colab-df-convert {\n",
       "      background-color: #3B4455;\n",
       "      fill: #D2E3FC;\n",
       "    }\n",
       "\n",
       "    [theme=dark] .colab-df-convert:hover {\n",
       "      background-color: #434B5C;\n",
       "      box-shadow: 0px 1px 3px 1px rgba(0, 0, 0, 0.15);\n",
       "      filter: drop-shadow(0px 1px 2px rgba(0, 0, 0, 0.3));\n",
       "      fill: #FFFFFF;\n",
       "    }\n",
       "  </style>\n",
       "\n",
       "      <script>\n",
       "        const buttonEl =\n",
       "          document.querySelector('#df-e3215ce0-3ca4-4a05-ac92-bbcb4783adb9 button.colab-df-convert');\n",
       "        buttonEl.style.display =\n",
       "          google.colab.kernel.accessAllowed ? 'block' : 'none';\n",
       "\n",
       "        async function convertToInteractive(key) {\n",
       "          const element = document.querySelector('#df-e3215ce0-3ca4-4a05-ac92-bbcb4783adb9');\n",
       "          const dataTable =\n",
       "            await google.colab.kernel.invokeFunction('convertToInteractive',\n",
       "                                                     [key], {});\n",
       "          if (!dataTable) return;\n",
       "\n",
       "          const docLinkHtml = 'Like what you see? Visit the ' +\n",
       "            '<a target=\"_blank\" href=https://colab.research.google.com/notebooks/data_table.ipynb>data table notebook</a>'\n",
       "            + ' to learn more about interactive tables.';\n",
       "          element.innerHTML = '';\n",
       "          dataTable['output_type'] = 'display_data';\n",
       "          await google.colab.output.renderOutput(dataTable, element);\n",
       "          const docLink = document.createElement('div');\n",
       "          docLink.innerHTML = docLinkHtml;\n",
       "          element.appendChild(docLink);\n",
       "        }\n",
       "      </script>\n",
       "    </div>\n",
       "  </div>\n",
       "  "
      ],
      "text/plain": [
       "   year         price\n",
       "0  1970  30213.571429\n",
       "1  1994   8842.888889\n",
       "2  2000   8608.680556\n",
       "3  2001   7997.347458\n",
       "4  2001   7997.347458"
      ]
     },
     "execution_count": 62,
     "metadata": {},
     "output_type": "execute_result"
    }
   ],
   "source": [
    "price_year.head()"
   ]
  },
  {
   "cell_type": "code",
   "execution_count": null,
   "metadata": {
    "colab": {
     "base_uri": "https://localhost:8080/"
    },
    "executionInfo": {
     "elapsed": 21,
     "status": "ok",
     "timestamp": 1679045979355,
     "user": {
      "displayName": "Юрий Осипов",
      "userId": "08137226283067646882"
     },
     "user_tz": -180
    },
    "id": "y1uulPya8FAs",
    "outputId": "f2f047e3-6aa6-41a2-ce42-52096c42f527"
   },
   "outputs": [
    {
     "data": {
      "text/html": [
       "\n",
       "  <div id=\"df-bdac9160-d023-4034-942d-01aa60b11d01\">\n",
       "    <div class=\"colab-df-container\">\n",
       "      <div>\n",
       "<style scoped>\n",
       "    .dataframe tbody tr th:only-of-type {\n",
       "        vertical-align: middle;\n",
       "    }\n",
       "\n",
       "    .dataframe tbody tr th {\n",
       "        vertical-align: top;\n",
       "    }\n",
       "\n",
       "    .dataframe thead th {\n",
       "        text-align: right;\n",
       "    }\n",
       "</style>\n",
       "<table border=\"1\" class=\"dataframe\">\n",
       "  <thead>\n",
       "    <tr style=\"text-align: right;\">\n",
       "      <th></th>\n",
       "      <th>year</th>\n",
       "      <th>price</th>\n",
       "    </tr>\n",
       "  </thead>\n",
       "  <tbody>\n",
       "    <tr>\n",
       "      <th>year</th>\n",
       "      <td>1.000000</td>\n",
       "      <td>0.444603</td>\n",
       "    </tr>\n",
       "    <tr>\n",
       "      <th>price</th>\n",
       "      <td>0.444603</td>\n",
       "      <td>1.000000</td>\n",
       "    </tr>\n",
       "  </tbody>\n",
       "</table>\n",
       "</div>\n",
       "      <button class=\"colab-df-convert\" onclick=\"convertToInteractive('df-bdac9160-d023-4034-942d-01aa60b11d01')\"\n",
       "              title=\"Convert this dataframe to an interactive table.\"\n",
       "              style=\"display:none;\">\n",
       "        \n",
       "  <svg xmlns=\"http://www.w3.org/2000/svg\" height=\"24px\"viewBox=\"0 0 24 24\"\n",
       "       width=\"24px\">\n",
       "    <path d=\"M0 0h24v24H0V0z\" fill=\"none\"/>\n",
       "    <path d=\"M18.56 5.44l.94 2.06.94-2.06 2.06-.94-2.06-.94-.94-2.06-.94 2.06-2.06.94zm-11 1L8.5 8.5l.94-2.06 2.06-.94-2.06-.94L8.5 2.5l-.94 2.06-2.06.94zm10 10l.94 2.06.94-2.06 2.06-.94-2.06-.94-.94-2.06-.94 2.06-2.06.94z\"/><path d=\"M17.41 7.96l-1.37-1.37c-.4-.4-.92-.59-1.43-.59-.52 0-1.04.2-1.43.59L10.3 9.45l-7.72 7.72c-.78.78-.78 2.05 0 2.83L4 21.41c.39.39.9.59 1.41.59.51 0 1.02-.2 1.41-.59l7.78-7.78 2.81-2.81c.8-.78.8-2.07 0-2.86zM5.41 20L4 18.59l7.72-7.72 1.47 1.35L5.41 20z\"/>\n",
       "  </svg>\n",
       "      </button>\n",
       "      \n",
       "  <style>\n",
       "    .colab-df-container {\n",
       "      display:flex;\n",
       "      flex-wrap:wrap;\n",
       "      gap: 12px;\n",
       "    }\n",
       "\n",
       "    .colab-df-convert {\n",
       "      background-color: #E8F0FE;\n",
       "      border: none;\n",
       "      border-radius: 50%;\n",
       "      cursor: pointer;\n",
       "      display: none;\n",
       "      fill: #1967D2;\n",
       "      height: 32px;\n",
       "      padding: 0 0 0 0;\n",
       "      width: 32px;\n",
       "    }\n",
       "\n",
       "    .colab-df-convert:hover {\n",
       "      background-color: #E2EBFA;\n",
       "      box-shadow: 0px 1px 2px rgba(60, 64, 67, 0.3), 0px 1px 3px 1px rgba(60, 64, 67, 0.15);\n",
       "      fill: #174EA6;\n",
       "    }\n",
       "\n",
       "    [theme=dark] .colab-df-convert {\n",
       "      background-color: #3B4455;\n",
       "      fill: #D2E3FC;\n",
       "    }\n",
       "\n",
       "    [theme=dark] .colab-df-convert:hover {\n",
       "      background-color: #434B5C;\n",
       "      box-shadow: 0px 1px 3px 1px rgba(0, 0, 0, 0.15);\n",
       "      filter: drop-shadow(0px 1px 2px rgba(0, 0, 0, 0.3));\n",
       "      fill: #FFFFFF;\n",
       "    }\n",
       "  </style>\n",
       "\n",
       "      <script>\n",
       "        const buttonEl =\n",
       "          document.querySelector('#df-bdac9160-d023-4034-942d-01aa60b11d01 button.colab-df-convert');\n",
       "        buttonEl.style.display =\n",
       "          google.colab.kernel.accessAllowed ? 'block' : 'none';\n",
       "\n",
       "        async function convertToInteractive(key) {\n",
       "          const element = document.querySelector('#df-bdac9160-d023-4034-942d-01aa60b11d01');\n",
       "          const dataTable =\n",
       "            await google.colab.kernel.invokeFunction('convertToInteractive',\n",
       "                                                     [key], {});\n",
       "          if (!dataTable) return;\n",
       "\n",
       "          const docLinkHtml = 'Like what you see? Visit the ' +\n",
       "            '<a target=\"_blank\" href=https://colab.research.google.com/notebooks/data_table.ipynb>data table notebook</a>'\n",
       "            + ' to learn more about interactive tables.';\n",
       "          element.innerHTML = '';\n",
       "          dataTable['output_type'] = 'display_data';\n",
       "          await google.colab.output.renderOutput(dataTable, element);\n",
       "          const docLink = document.createElement('div');\n",
       "          docLink.innerHTML = docLinkHtml;\n",
       "          element.appendChild(docLink);\n",
       "        }\n",
       "      </script>\n",
       "    </div>\n",
       "  </div>\n",
       "  "
      ],
      "text/plain": [
       "           year     price\n",
       "year   1.000000  0.444603\n",
       "price  0.444603  1.000000"
      ]
     },
     "execution_count": 69,
     "metadata": {},
     "output_type": "execute_result"
    }
   ],
   "source": [
    "#Видим положительную корреляцию год/цена.\n",
    "price_year.corr()"
   ]
  },
  {
   "cell_type": "code",
   "execution_count": null,
   "metadata": {
    "colab": {
     "base_uri": "https://localhost:8080/"
    },
    "executionInfo": {
     "elapsed": 590,
     "status": "ok",
     "timestamp": 1679045906512,
     "user": {
      "displayName": "Юрий Осипов",
      "userId": "08137226283067646882"
     },
     "user_tz": -180
    },
    "id": "yG9EbT9e_ZLA",
    "outputId": "c77f6495-134d-4e38-8be7-83287c76de35"
   },
   "outputs": [
    {
     "data": {
      "text/plain": [
       "<function matplotlib.pyplot.show(close=None, block=None)>"
      ]
     },
     "execution_count": 63,
     "metadata": {},
     "output_type": "execute_result"
    },
    {
     "data": {
      "image/png": "[encoded data removed]",
      "text/plain": [
       "<Figure size 1080x720 with 1 Axes>"
      ]
     },
     "metadata": {
      "needs_background": "light"
     },
     "output_type": "display_data"
    }
   ],
   "source": [
    "#С помощью графика подтверждаем увеличение цены с новизной автомобилей. Также видим высокую цену на раритетные авто.\n",
    "plt.figure(figsize=(15,10))\n",
    "plt.plot(price_year['year'], price_year['price'],color = 'b', marker = 'D', markerfacecolor = 'orange')\n",
    "plt.show"
   ]
  },
  {
   "cell_type": "code",
   "execution_count": null,
   "metadata": {
    "colab": {
     "base_uri": "https://localhost:8080/"
    },
    "executionInfo": {
     "elapsed": 20,
     "status": "ok",
     "timestamp": 1679045990112,
     "user": {
      "displayName": "Юрий Осипов",
      "userId": "08137226283067646882"
     },
     "user_tz": -180
    },
    "id": "Nt3pGMTX_zrB",
    "outputId": "f08ac221-65bb-494d-a2bb-dfb311689afa"
   },
   "outputs": [
    {
     "data": {
      "text/html": [
       "\n",
       "  <div id=\"df-241a6a01-8197-4cbd-920e-c5fe20e14bf4\">\n",
       "    <div class=\"colab-df-container\">\n",
       "      <div>\n",
       "<style scoped>\n",
       "    .dataframe tbody tr th:only-of-type {\n",
       "        vertical-align: middle;\n",
       "    }\n",
       "\n",
       "    .dataframe tbody tr th {\n",
       "        vertical-align: top;\n",
       "    }\n",
       "\n",
       "    .dataframe thead th {\n",
       "        text-align: right;\n",
       "    }\n",
       "</style>\n",
       "<table border=\"1\" class=\"dataframe\">\n",
       "  <thead>\n",
       "    <tr style=\"text-align: right;\">\n",
       "      <th></th>\n",
       "      <th>year</th>\n",
       "      <th>price</th>\n",
       "      <th>odometer</th>\n",
       "    </tr>\n",
       "  </thead>\n",
       "  <tbody>\n",
       "    <tr>\n",
       "      <th>0</th>\n",
       "      <td>1915</td>\n",
       "      <td>5000.000000</td>\n",
       "      <td>12345.000000</td>\n",
       "    </tr>\n",
       "    <tr>\n",
       "      <th>1</th>\n",
       "      <td>1923</td>\n",
       "      <td>14950.000000</td>\n",
       "      <td>15000.000000</td>\n",
       "    </tr>\n",
       "    <tr>\n",
       "      <th>2</th>\n",
       "      <td>1927</td>\n",
       "      <td>18500.000000</td>\n",
       "      <td>100.000000</td>\n",
       "    </tr>\n",
       "    <tr>\n",
       "      <th>3</th>\n",
       "      <td>1928</td>\n",
       "      <td>26400.000000</td>\n",
       "      <td>1310.000000</td>\n",
       "    </tr>\n",
       "    <tr>\n",
       "      <th>4</th>\n",
       "      <td>1929</td>\n",
       "      <td>6981.666667</td>\n",
       "      <td>12074.666667</td>\n",
       "    </tr>\n",
       "  </tbody>\n",
       "</table>\n",
       "</div>\n",
       "      <button class=\"colab-df-convert\" onclick=\"convertToInteractive('df-241a6a01-8197-4cbd-920e-c5fe20e14bf4')\"\n",
       "              title=\"Convert this dataframe to an interactive table.\"\n",
       "              style=\"display:none;\">\n",
       "        \n",
       "  <svg xmlns=\"http://www.w3.org/2000/svg\" height=\"24px\"viewBox=\"0 0 24 24\"\n",
       "       width=\"24px\">\n",
       "    <path d=\"M0 0h24v24H0V0z\" fill=\"none\"/>\n",
       "    <path d=\"M18.56 5.44l.94 2.06.94-2.06 2.06-.94-2.06-.94-.94-2.06-.94 2.06-2.06.94zm-11 1L8.5 8.5l.94-2.06 2.06-.94-2.06-.94L8.5 2.5l-.94 2.06-2.06.94zm10 10l.94 2.06.94-2.06 2.06-.94-2.06-.94-.94-2.06-.94 2.06-2.06.94z\"/><path d=\"M17.41 7.96l-1.37-1.37c-.4-.4-.92-.59-1.43-.59-.52 0-1.04.2-1.43.59L10.3 9.45l-7.72 7.72c-.78.78-.78 2.05 0 2.83L4 21.41c.39.39.9.59 1.41.59.51 0 1.02-.2 1.41-.59l7.78-7.78 2.81-2.81c.8-.78.8-2.07 0-2.86zM5.41 20L4 18.59l7.72-7.72 1.47 1.35L5.41 20z\"/>\n",
       "  </svg>\n",
       "      </button>\n",
       "      \n",
       "  <style>\n",
       "    .colab-df-container {\n",
       "      display:flex;\n",
       "      flex-wrap:wrap;\n",
       "      gap: 12px;\n",
       "    }\n",
       "\n",
       "    .colab-df-convert {\n",
       "      background-color: #E8F0FE;\n",
       "      border: none;\n",
       "      border-radius: 50%;\n",
       "      cursor: pointer;\n",
       "      display: none;\n",
       "      fill: #1967D2;\n",
       "      height: 32px;\n",
       "      padding: 0 0 0 0;\n",
       "      width: 32px;\n",
       "    }\n",
       "\n",
       "    .colab-df-convert:hover {\n",
       "      background-color: #E2EBFA;\n",
       "      box-shadow: 0px 1px 2px rgba(60, 64, 67, 0.3), 0px 1px 3px 1px rgba(60, 64, 67, 0.15);\n",
       "      fill: #174EA6;\n",
       "    }\n",
       "\n",
       "    [theme=dark] .colab-df-convert {\n",
       "      background-color: #3B4455;\n",
       "      fill: #D2E3FC;\n",
       "    }\n",
       "\n",
       "    [theme=dark] .colab-df-convert:hover {\n",
       "      background-color: #434B5C;\n",
       "      box-shadow: 0px 1px 3px 1px rgba(0, 0, 0, 0.15);\n",
       "      filter: drop-shadow(0px 1px 2px rgba(0, 0, 0, 0.3));\n",
       "      fill: #FFFFFF;\n",
       "    }\n",
       "  </style>\n",
       "\n",
       "      <script>\n",
       "        const buttonEl =\n",
       "          document.querySelector('#df-241a6a01-8197-4cbd-920e-c5fe20e14bf4 button.colab-df-convert');\n",
       "        buttonEl.style.display =\n",
       "          google.colab.kernel.accessAllowed ? 'block' : 'none';\n",
       "\n",
       "        async function convertToInteractive(key) {\n",
       "          const element = document.querySelector('#df-241a6a01-8197-4cbd-920e-c5fe20e14bf4');\n",
       "          const dataTable =\n",
       "            await google.colab.kernel.invokeFunction('convertToInteractive',\n",
       "                                                     [key], {});\n",
       "          if (!dataTable) return;\n",
       "\n",
       "          const docLinkHtml = 'Like what you see? Visit the ' +\n",
       "            '<a target=\"_blank\" href=https://colab.research.google.com/notebooks/data_table.ipynb>data table notebook</a>'\n",
       "            + ' to learn more about interactive tables.';\n",
       "          element.innerHTML = '';\n",
       "          dataTable['output_type'] = 'display_data';\n",
       "          await google.colab.output.renderOutput(dataTable, element);\n",
       "          const docLink = document.createElement('div');\n",
       "          docLink.innerHTML = docLinkHtml;\n",
       "          element.appendChild(docLink);\n",
       "        }\n",
       "      </script>\n",
       "    </div>\n",
       "  </div>\n",
       "  "
      ],
      "text/plain": [
       "   year         price      odometer\n",
       "0  1915   5000.000000  12345.000000\n",
       "1  1923  14950.000000  15000.000000\n",
       "2  1927  18500.000000    100.000000\n",
       "3  1928  26400.000000   1310.000000\n",
       "4  1929   6981.666667  12074.666667"
      ]
     },
     "execution_count": 70,
     "metadata": {},
     "output_type": "execute_result"
    }
   ],
   "source": [
    "#Создаем сводную таблицу, чтобы проверить зависимость цены от пробега.\n",
    "svodka_y_o_p = df_c.groupby('year').agg({'price':'mean', 'odometer':'mean'}).reset_index()\n",
    "svodka_y_o_p.head()"
   ]
  },
  {
   "cell_type": "code",
   "execution_count": null,
   "metadata": {
    "colab": {
     "base_uri": "https://localhost:8080/"
    },
    "executionInfo": {
     "elapsed": 24,
     "status": "ok",
     "timestamp": 1679046000512,
     "user": {
      "displayName": "Юрий Осипов",
      "userId": "08137226283067646882"
     },
     "user_tz": -180
    },
    "id": "yqDNlLMR8Jss",
    "outputId": "d7f7bf80-38a4-4a71-8a0a-42bfc4f878c8"
   },
   "outputs": [
    {
     "data": {
      "text/html": [
       "\n",
       "  <div id=\"df-08327263-a105-4ef9-a23a-d0bdfad4ce6f\">\n",
       "    <div class=\"colab-df-container\">\n",
       "      <div>\n",
       "<style scoped>\n",
       "    .dataframe tbody tr th:only-of-type {\n",
       "        vertical-align: middle;\n",
       "    }\n",
       "\n",
       "    .dataframe tbody tr th {\n",
       "        vertical-align: top;\n",
       "    }\n",
       "\n",
       "    .dataframe thead th {\n",
       "        text-align: right;\n",
       "    }\n",
       "</style>\n",
       "<table border=\"1\" class=\"dataframe\">\n",
       "  <thead>\n",
       "    <tr style=\"text-align: right;\">\n",
       "      <th></th>\n",
       "      <th>year</th>\n",
       "      <th>price</th>\n",
       "      <th>odometer</th>\n",
       "    </tr>\n",
       "  </thead>\n",
       "  <tbody>\n",
       "    <tr>\n",
       "      <th>year</th>\n",
       "      <td>1.000000</td>\n",
       "      <td>0.005409</td>\n",
       "      <td>0.618006</td>\n",
       "    </tr>\n",
       "    <tr>\n",
       "      <th>price</th>\n",
       "      <td>0.005409</td>\n",
       "      <td>1.000000</td>\n",
       "      <td>-0.488542</td>\n",
       "    </tr>\n",
       "    <tr>\n",
       "      <th>odometer</th>\n",
       "      <td>0.618006</td>\n",
       "      <td>-0.488542</td>\n",
       "      <td>1.000000</td>\n",
       "    </tr>\n",
       "  </tbody>\n",
       "</table>\n",
       "</div>\n",
       "      <button class=\"colab-df-convert\" onclick=\"convertToInteractive('df-08327263-a105-4ef9-a23a-d0bdfad4ce6f')\"\n",
       "              title=\"Convert this dataframe to an interactive table.\"\n",
       "              style=\"display:none;\">\n",
       "        \n",
       "  <svg xmlns=\"http://www.w3.org/2000/svg\" height=\"24px\"viewBox=\"0 0 24 24\"\n",
       "       width=\"24px\">\n",
       "    <path d=\"M0 0h24v24H0V0z\" fill=\"none\"/>\n",
       "    <path d=\"M18.56 5.44l.94 2.06.94-2.06 2.06-.94-2.06-.94-.94-2.06-.94 2.06-2.06.94zm-11 1L8.5 8.5l.94-2.06 2.06-.94-2.06-.94L8.5 2.5l-.94 2.06-2.06.94zm10 10l.94 2.06.94-2.06 2.06-.94-2.06-.94-.94-2.06-.94 2.06-2.06.94z\"/><path d=\"M17.41 7.96l-1.37-1.37c-.4-.4-.92-.59-1.43-.59-.52 0-1.04.2-1.43.59L10.3 9.45l-7.72 7.72c-.78.78-.78 2.05 0 2.83L4 21.41c.39.39.9.59 1.41.59.51 0 1.02-.2 1.41-.59l7.78-7.78 2.81-2.81c.8-.78.8-2.07 0-2.86zM5.41 20L4 18.59l7.72-7.72 1.47 1.35L5.41 20z\"/>\n",
       "  </svg>\n",
       "      </button>\n",
       "      \n",
       "  <style>\n",
       "    .colab-df-container {\n",
       "      display:flex;\n",
       "      flex-wrap:wrap;\n",
       "      gap: 12px;\n",
       "    }\n",
       "\n",
       "    .colab-df-convert {\n",
       "      background-color: #E8F0FE;\n",
       "      border: none;\n",
       "      border-radius: 50%;\n",
       "      cursor: pointer;\n",
       "      display: none;\n",
       "      fill: #1967D2;\n",
       "      height: 32px;\n",
       "      padding: 0 0 0 0;\n",
       "      width: 32px;\n",
       "    }\n",
       "\n",
       "    .colab-df-convert:hover {\n",
       "      background-color: #E2EBFA;\n",
       "      box-shadow: 0px 1px 2px rgba(60, 64, 67, 0.3), 0px 1px 3px 1px rgba(60, 64, 67, 0.15);\n",
       "      fill: #174EA6;\n",
       "    }\n",
       "\n",
       "    [theme=dark] .colab-df-convert {\n",
       "      background-color: #3B4455;\n",
       "      fill: #D2E3FC;\n",
       "    }\n",
       "\n",
       "    [theme=dark] .colab-df-convert:hover {\n",
       "      background-color: #434B5C;\n",
       "      box-shadow: 0px 1px 3px 1px rgba(0, 0, 0, 0.15);\n",
       "      filter: drop-shadow(0px 1px 2px rgba(0, 0, 0, 0.3));\n",
       "      fill: #FFFFFF;\n",
       "    }\n",
       "  </style>\n",
       "\n",
       "      <script>\n",
       "        const buttonEl =\n",
       "          document.querySelector('#df-08327263-a105-4ef9-a23a-d0bdfad4ce6f button.colab-df-convert');\n",
       "        buttonEl.style.display =\n",
       "          google.colab.kernel.accessAllowed ? 'block' : 'none';\n",
       "\n",
       "        async function convertToInteractive(key) {\n",
       "          const element = document.querySelector('#df-08327263-a105-4ef9-a23a-d0bdfad4ce6f');\n",
       "          const dataTable =\n",
       "            await google.colab.kernel.invokeFunction('convertToInteractive',\n",
       "                                                     [key], {});\n",
       "          if (!dataTable) return;\n",
       "\n",
       "          const docLinkHtml = 'Like what you see? Visit the ' +\n",
       "            '<a target=\"_blank\" href=https://colab.research.google.com/notebooks/data_table.ipynb>data table notebook</a>'\n",
       "            + ' to learn more about interactive tables.';\n",
       "          element.innerHTML = '';\n",
       "          dataTable['output_type'] = 'display_data';\n",
       "          await google.colab.output.renderOutput(dataTable, element);\n",
       "          const docLink = document.createElement('div');\n",
       "          docLink.innerHTML = docLinkHtml;\n",
       "          element.appendChild(docLink);\n",
       "        }\n",
       "      </script>\n",
       "    </div>\n",
       "  </div>\n",
       "  "
      ],
      "text/plain": [
       "              year     price  odometer\n",
       "year      1.000000  0.005409  0.618006\n",
       "price     0.005409  1.000000 -0.488542\n",
       "odometer  0.618006 -0.488542  1.000000"
      ]
     },
     "execution_count": 71,
     "metadata": {},
     "output_type": "execute_result"
    }
   ],
   "source": [
    "#Видим отрицательную корреляцию, с увеличением пробега понижается цена.\n",
    "svodka_y_o_p.corr()"
   ]
  },
  {
   "cell_type": "code",
   "execution_count": null,
   "metadata": {
    "colab": {
     "base_uri": "https://localhost:8080/"
    },
    "executionInfo": {
     "elapsed": 11,
     "status": "ok",
     "timestamp": 1679046010633,
     "user": {
      "displayName": "Юрий Осипов",
      "userId": "08137226283067646882"
     },
     "user_tz": -180
    },
    "id": "8Lujqg05_2MO",
    "outputId": "c0f8459b-239e-4b72-fc06-d98660d774fa"
   },
   "outputs": [
    {
     "data": {
      "image/png": "[encoded data removed]",
      "text/plain": [
       "<Figure size 1080x360 with 1 Axes>"
      ]
     },
     "metadata": {
      "needs_background": "light"
     },
     "output_type": "display_data"
    }
   ],
   "source": [
    "#На графике небольшой разброс значений, но общая тенденция видна: подтверждается отрицательная корреляция.\n",
    "plt.figure(figsize=(15,5))\n",
    "sns.scatterplot(x = svodka_y_o_p['odometer'], y = svodka_y_o_p['price'])\n",
    "plt.title('Зависимость пробега и цены')\n",
    "plt.xlabel('Пробег')\n",
    "plt.ylabel('Цена')\n",
    "plt.show()"
   ]
  },
  {
   "cell_type": "code",
   "execution_count": null,
   "metadata": {
    "colab": {
     "base_uri": "https://localhost:8080/"
    },
    "executionInfo": {
     "elapsed": 484,
     "status": "ok",
     "timestamp": 1679046270286,
     "user": {
      "displayName": "Юрий Осипов",
      "userId": "08137226283067646882"
     },
     "user_tz": -180
    },
    "id": "7puHF8s__5HL",
    "outputId": "3efabacd-73eb-417b-cf86-ccc684b0c9c3"
   },
   "outputs": [
    {
     "data": {
      "image/png": "[encoded data removed]",
      "text/plain": [
       "<Figure size 864x576 with 1 Axes>"
      ]
     },
     "metadata": {
      "needs_background": "light"
     },
     "output_type": "display_data"
    }
   ],
   "source": [
    "#Наглядное представление распределения количества автомобилей в зависимости от ценовой категории по годам выпуска. \n",
    "colors = {'low':'green', 'medium':'orange', 'high':'red'}\n",
    "fig, ax = plt.subplots(figsize=(12, 8))\n",
    "for price_category in colors:\n",
    "    color = colors[price_category]\n",
    "    data = df_c[df_c['price_category']==price_category]\n",
    "    \n",
    "    \n",
    "    ax.scatter(data['price'], data['year'], color=color, alpha=0.7)\n",
    "plt.ylabel('Год')\n",
    "plt.xlabel('Цена')\n",
    "plt.title('Распределение')\n",
    "plt.legend(colors, title='Ценовая категория');"
   ]
  },
  {
   "cell_type": "markdown",
   "metadata": {
    "id": "O8akU_ArAXfW"
   },
   "source": [
    "## Feature engineering"
   ]
  },
  {
   "cell_type": "code",
   "execution_count": null,
   "metadata": {
    "colab": {
     "base_uri": "https://localhost:8080/"
    },
    "executionInfo": {
     "elapsed": 565,
     "status": "ok",
     "timestamp": 1679046366827,
     "user": {
      "displayName": "Юрий Осипов",
      "userId": "08137226283067646882"
     },
     "user_tz": -180
    },
    "id": "w0Su92yiAYjP",
    "outputId": "d2742cb1-a961-4867-ecb5-bad337182d73"
   },
   "outputs": [
    {
     "name": "stdout",
     "output_type": "stream",
     "text": [
      "transmission = 3\n",
      "region = 389\n",
      "manufacturer = 40\n",
      "title_status = 6\n",
      "price_category = 3\n"
     ]
    }
   ],
   "source": [
    "print(f'transmission = {len(df_c.transmission.unique())}')\n",
    "print(f'region = {len(df_c.region.unique())}')\n",
    "print(f'manufacturer = {len(df_c.manufacturer.unique())}')\n",
    "print(f'title_status = {len(df_c.title_status.unique())}')\n",
    "print(f'price_category = {len(df_c.price_category.unique())}')"
   ]
  },
  {
   "cell_type": "code",
   "execution_count": null,
   "metadata": {
    "colab": {
     "base_uri": "https://localhost:8080/"
    },
    "executionInfo": {
     "elapsed": 11,
     "status": "ok",
     "timestamp": 1679046372518,
     "user": {
      "displayName": "Юрий Осипов",
      "userId": "08137226283067646882"
     },
     "user_tz": -180
    },
    "id": "7683zzIXAi92",
    "outputId": "2cf8194d-875e-4ae6-c3ba-1298995ef6a2"
   },
   "outputs": [
    {
     "data": {
      "text/html": [
       "\n",
       "  <div id=\"df-a51cf151-2d5c-4be7-ac6d-961dac09f590\">\n",
       "    <div class=\"colab-df-container\">\n",
       "      <div>\n",
       "<style scoped>\n",
       "    .dataframe tbody tr th:only-of-type {\n",
       "        vertical-align: middle;\n",
       "    }\n",
       "\n",
       "    .dataframe tbody tr th {\n",
       "        vertical-align: top;\n",
       "    }\n",
       "\n",
       "    .dataframe thead th {\n",
       "        text-align: right;\n",
       "    }\n",
       "</style>\n",
       "<table border=\"1\" class=\"dataframe\">\n",
       "  <thead>\n",
       "    <tr style=\"text-align: right;\">\n",
       "      <th></th>\n",
       "      <th>url</th>\n",
       "      <th>region</th>\n",
       "      <th>region_url</th>\n",
       "      <th>price</th>\n",
       "      <th>year</th>\n",
       "      <th>manufacturer</th>\n",
       "      <th>model</th>\n",
       "      <th>fuel</th>\n",
       "      <th>odometer</th>\n",
       "      <th>title_status</th>\n",
       "      <th>transmission</th>\n",
       "      <th>image_url</th>\n",
       "      <th>description</th>\n",
       "      <th>state</th>\n",
       "      <th>lat</th>\n",
       "      <th>long</th>\n",
       "      <th>posting_date</th>\n",
       "      <th>price_category</th>\n",
       "      <th>date</th>\n",
       "    </tr>\n",
       "    <tr>\n",
       "      <th>id</th>\n",
       "      <th></th>\n",
       "      <th></th>\n",
       "      <th></th>\n",
       "      <th></th>\n",
       "      <th></th>\n",
       "      <th></th>\n",
       "      <th></th>\n",
       "      <th></th>\n",
       "      <th></th>\n",
       "      <th></th>\n",
       "      <th></th>\n",
       "      <th></th>\n",
       "      <th></th>\n",
       "      <th></th>\n",
       "      <th></th>\n",
       "      <th></th>\n",
       "      <th></th>\n",
       "      <th></th>\n",
       "      <th></th>\n",
       "    </tr>\n",
       "  </thead>\n",
       "  <tbody>\n",
       "    <tr>\n",
       "      <th>7308295377</th>\n",
       "      <td>https://chattanooga.craigslist.org/ctd/d/chatt...</td>\n",
       "      <td>chattanooga</td>\n",
       "      <td>https://chattanooga.craigslist.org</td>\n",
       "      <td>54990</td>\n",
       "      <td>2020</td>\n",
       "      <td>ram</td>\n",
       "      <td>2500 crew cab big horn</td>\n",
       "      <td>diesel</td>\n",
       "      <td>27442</td>\n",
       "      <td>clean</td>\n",
       "      <td>other</td>\n",
       "      <td>https://images.craigslist.org/00N0N_1xMPvfxRAI...</td>\n",
       "      <td>Carvana is the safer way to buy a car During t...</td>\n",
       "      <td>tn</td>\n",
       "      <td>35.060000</td>\n",
       "      <td>-85.250000</td>\n",
       "      <td>2021-04-17T12:30:50-0400</td>\n",
       "      <td>high</td>\n",
       "      <td>2021-04-17 16:30:50+00:00</td>\n",
       "    </tr>\n",
       "    <tr>\n",
       "      <th>7316380095</th>\n",
       "      <td>https://newjersey.craigslist.org/ctd/d/carlsta...</td>\n",
       "      <td>north jersey</td>\n",
       "      <td>https://newjersey.craigslist.org</td>\n",
       "      <td>16942</td>\n",
       "      <td>2016</td>\n",
       "      <td>ford</td>\n",
       "      <td>explorer 4wd 4dr xlt</td>\n",
       "      <td>gas</td>\n",
       "      <td>60023</td>\n",
       "      <td>clean</td>\n",
       "      <td>automatic</td>\n",
       "      <td>https://images.craigslist.org/00x0x_26jl9F0cnL...</td>\n",
       "      <td>***Call Us for more information at: 201-635-14...</td>\n",
       "      <td>nj</td>\n",
       "      <td>40.821805</td>\n",
       "      <td>-74.061962</td>\n",
       "      <td>2021-05-03T15:40:21-0400</td>\n",
       "      <td>medium</td>\n",
       "      <td>2021-05-03 19:40:21+00:00</td>\n",
       "    </tr>\n",
       "    <tr>\n",
       "      <th>7313733749</th>\n",
       "      <td>https://reno.craigslist.org/ctd/d/atlanta-2017...</td>\n",
       "      <td>reno / tahoe</td>\n",
       "      <td>https://reno.craigslist.org</td>\n",
       "      <td>35590</td>\n",
       "      <td>2017</td>\n",
       "      <td>volkswagen</td>\n",
       "      <td>golf r hatchback</td>\n",
       "      <td>gas</td>\n",
       "      <td>14048</td>\n",
       "      <td>clean</td>\n",
       "      <td>other</td>\n",
       "      <td>https://images.craigslist.org/00y0y_eeZjWeiSfb...</td>\n",
       "      <td>Carvana is the safer way to buy a car During t...</td>\n",
       "      <td>ca</td>\n",
       "      <td>33.779214</td>\n",
       "      <td>-84.411811</td>\n",
       "      <td>2021-04-28T03:52:20-0700</td>\n",
       "      <td>high</td>\n",
       "      <td>2021-04-28 10:52:20+00:00</td>\n",
       "    </tr>\n",
       "    <tr>\n",
       "      <th>7308210929</th>\n",
       "      <td>https://fayetteville.craigslist.org/ctd/d/rale...</td>\n",
       "      <td>fayetteville</td>\n",
       "      <td>https://fayetteville.craigslist.org</td>\n",
       "      <td>14500</td>\n",
       "      <td>2013</td>\n",
       "      <td>toyota</td>\n",
       "      <td>rav4</td>\n",
       "      <td>gas</td>\n",
       "      <td>117291</td>\n",
       "      <td>clean</td>\n",
       "      <td>automatic</td>\n",
       "      <td>https://images.craigslist.org/00606_iGe5iXidib...</td>\n",
       "      <td>2013 Toyota RAV4 XLE 4dr SUV     Offered by: R...</td>\n",
       "      <td>nc</td>\n",
       "      <td>35.715954</td>\n",
       "      <td>-78.655304</td>\n",
       "      <td>2021-04-17T10:08:57-0400</td>\n",
       "      <td>medium</td>\n",
       "      <td>2021-04-17 14:08:57+00:00</td>\n",
       "    </tr>\n",
       "    <tr>\n",
       "      <th>7316474668</th>\n",
       "      <td>https://newyork.craigslist.org/lgi/cto/d/baldw...</td>\n",
       "      <td>new york city</td>\n",
       "      <td>https://newyork.craigslist.org</td>\n",
       "      <td>21800</td>\n",
       "      <td>2021</td>\n",
       "      <td>nissan</td>\n",
       "      <td>altima</td>\n",
       "      <td>gas</td>\n",
       "      <td>8000</td>\n",
       "      <td>clean</td>\n",
       "      <td>automatic</td>\n",
       "      <td>https://images.craigslist.org/00V0V_3pSOiPZ3Sd...</td>\n",
       "      <td>2021 Nissan Altima Sv with Only 8 K Miles Titl...</td>\n",
       "      <td>ny</td>\n",
       "      <td>40.654800</td>\n",
       "      <td>-73.609700</td>\n",
       "      <td>2021-05-03T18:32:06-0400</td>\n",
       "      <td>medium</td>\n",
       "      <td>2021-05-03 22:32:06+00:00</td>\n",
       "    </tr>\n",
       "  </tbody>\n",
       "</table>\n",
       "</div>\n",
       "      <button class=\"colab-df-convert\" onclick=\"convertToInteractive('df-a51cf151-2d5c-4be7-ac6d-961dac09f590')\"\n",
       "              title=\"Convert this dataframe to an interactive table.\"\n",
       "              style=\"display:none;\">\n",
       "        \n",
       "  <svg xmlns=\"http://www.w3.org/2000/svg\" height=\"24px\"viewBox=\"0 0 24 24\"\n",
       "       width=\"24px\">\n",
       "    <path d=\"M0 0h24v24H0V0z\" fill=\"none\"/>\n",
       "    <path d=\"M18.56 5.44l.94 2.06.94-2.06 2.06-.94-2.06-.94-.94-2.06-.94 2.06-2.06.94zm-11 1L8.5 8.5l.94-2.06 2.06-.94-2.06-.94L8.5 2.5l-.94 2.06-2.06.94zm10 10l.94 2.06.94-2.06 2.06-.94-2.06-.94-.94-2.06-.94 2.06-2.06.94z\"/><path d=\"M17.41 7.96l-1.37-1.37c-.4-.4-.92-.59-1.43-.59-.52 0-1.04.2-1.43.59L10.3 9.45l-7.72 7.72c-.78.78-.78 2.05 0 2.83L4 21.41c.39.39.9.59 1.41.59.51 0 1.02-.2 1.41-.59l7.78-7.78 2.81-2.81c.8-.78.8-2.07 0-2.86zM5.41 20L4 18.59l7.72-7.72 1.47 1.35L5.41 20z\"/>\n",
       "  </svg>\n",
       "      </button>\n",
       "      \n",
       "  <style>\n",
       "    .colab-df-container {\n",
       "      display:flex;\n",
       "      flex-wrap:wrap;\n",
       "      gap: 12px;\n",
       "    }\n",
       "\n",
       "    .colab-df-convert {\n",
       "      background-color: #E8F0FE;\n",
       "      border: none;\n",
       "      border-radius: 50%;\n",
       "      cursor: pointer;\n",
       "      display: none;\n",
       "      fill: #1967D2;\n",
       "      height: 32px;\n",
       "      padding: 0 0 0 0;\n",
       "      width: 32px;\n",
       "    }\n",
       "\n",
       "    .colab-df-convert:hover {\n",
       "      background-color: #E2EBFA;\n",
       "      box-shadow: 0px 1px 2px rgba(60, 64, 67, 0.3), 0px 1px 3px 1px rgba(60, 64, 67, 0.15);\n",
       "      fill: #174EA6;\n",
       "    }\n",
       "\n",
       "    [theme=dark] .colab-df-convert {\n",
       "      background-color: #3B4455;\n",
       "      fill: #D2E3FC;\n",
       "    }\n",
       "\n",
       "    [theme=dark] .colab-df-convert:hover {\n",
       "      background-color: #434B5C;\n",
       "      box-shadow: 0px 1px 3px 1px rgba(0, 0, 0, 0.15);\n",
       "      filter: drop-shadow(0px 1px 2px rgba(0, 0, 0, 0.3));\n",
       "      fill: #FFFFFF;\n",
       "    }\n",
       "  </style>\n",
       "\n",
       "      <script>\n",
       "        const buttonEl =\n",
       "          document.querySelector('#df-a51cf151-2d5c-4be7-ac6d-961dac09f590 button.colab-df-convert');\n",
       "        buttonEl.style.display =\n",
       "          google.colab.kernel.accessAllowed ? 'block' : 'none';\n",
       "\n",
       "        async function convertToInteractive(key) {\n",
       "          const element = document.querySelector('#df-a51cf151-2d5c-4be7-ac6d-961dac09f590');\n",
       "          const dataTable =\n",
       "            await google.colab.kernel.invokeFunction('convertToInteractive',\n",
       "                                                     [key], {});\n",
       "          if (!dataTable) return;\n",
       "\n",
       "          const docLinkHtml = 'Like what you see? Visit the ' +\n",
       "            '<a target=\"_blank\" href=https://colab.research.google.com/notebooks/data_table.ipynb>data table notebook</a>'\n",
       "            + ' to learn more about interactive tables.';\n",
       "          element.innerHTML = '';\n",
       "          dataTable['output_type'] = 'display_data';\n",
       "          await google.colab.output.renderOutput(dataTable, element);\n",
       "          const docLink = document.createElement('div');\n",
       "          docLink.innerHTML = docLinkHtml;\n",
       "          element.appendChild(docLink);\n",
       "        }\n",
       "      </script>\n",
       "    </div>\n",
       "  </div>\n",
       "  "
      ],
      "text/plain": [
       "                                                          url         region  \\\n",
       "id                                                                             \n",
       "7308295377  https://chattanooga.craigslist.org/ctd/d/chatt...    chattanooga   \n",
       "7316380095  https://newjersey.craigslist.org/ctd/d/carlsta...   north jersey   \n",
       "7313733749  https://reno.craigslist.org/ctd/d/atlanta-2017...   reno / tahoe   \n",
       "7308210929  https://fayetteville.craigslist.org/ctd/d/rale...   fayetteville   \n",
       "7316474668  https://newyork.craigslist.org/lgi/cto/d/baldw...  new york city   \n",
       "\n",
       "                                     region_url  price  year manufacturer  \\\n",
       "id                                                                          \n",
       "7308295377   https://chattanooga.craigslist.org  54990  2020          ram   \n",
       "7316380095     https://newjersey.craigslist.org  16942  2016         ford   \n",
       "7313733749          https://reno.craigslist.org  35590  2017   volkswagen   \n",
       "7308210929  https://fayetteville.craigslist.org  14500  2013       toyota   \n",
       "7316474668       https://newyork.craigslist.org  21800  2021       nissan   \n",
       "\n",
       "                             model    fuel  odometer title_status  \\\n",
       "id                                                                  \n",
       "7308295377  2500 crew cab big horn  diesel     27442        clean   \n",
       "7316380095    explorer 4wd 4dr xlt     gas     60023        clean   \n",
       "7313733749        golf r hatchback     gas     14048        clean   \n",
       "7308210929                    rav4     gas    117291        clean   \n",
       "7316474668                  altima     gas      8000        clean   \n",
       "\n",
       "           transmission                                          image_url  \\\n",
       "id                                                                           \n",
       "7308295377        other  https://images.craigslist.org/00N0N_1xMPvfxRAI...   \n",
       "7316380095    automatic  https://images.craigslist.org/00x0x_26jl9F0cnL...   \n",
       "7313733749        other  https://images.craigslist.org/00y0y_eeZjWeiSfb...   \n",
       "7308210929    automatic  https://images.craigslist.org/00606_iGe5iXidib...   \n",
       "7316474668    automatic  https://images.craigslist.org/00V0V_3pSOiPZ3Sd...   \n",
       "\n",
       "                                                  description state  \\\n",
       "id                                                                    \n",
       "7308295377  Carvana is the safer way to buy a car During t...    tn   \n",
       "7316380095  ***Call Us for more information at: 201-635-14...    nj   \n",
       "7313733749  Carvana is the safer way to buy a car During t...    ca   \n",
       "7308210929  2013 Toyota RAV4 XLE 4dr SUV     Offered by: R...    nc   \n",
       "7316474668  2021 Nissan Altima Sv with Only 8 K Miles Titl...    ny   \n",
       "\n",
       "                  lat       long              posting_date price_category  \\\n",
       "id                                                                          \n",
       "7308295377  35.060000 -85.250000  2021-04-17T12:30:50-0400           high   \n",
       "7316380095  40.821805 -74.061962  2021-05-03T15:40:21-0400         medium   \n",
       "7313733749  33.779214 -84.411811  2021-04-28T03:52:20-0700           high   \n",
       "7308210929  35.715954 -78.655304  2021-04-17T10:08:57-0400         medium   \n",
       "7316474668  40.654800 -73.609700  2021-05-03T18:32:06-0400         medium   \n",
       "\n",
       "                                 date  \n",
       "id                                     \n",
       "7308295377  2021-04-17 16:30:50+00:00  \n",
       "7316380095  2021-05-03 19:40:21+00:00  \n",
       "7313733749  2021-04-28 10:52:20+00:00  \n",
       "7308210929  2021-04-17 14:08:57+00:00  \n",
       "7316474668  2021-05-03 22:32:06+00:00  "
      ]
     },
     "execution_count": 82,
     "metadata": {},
     "output_type": "execute_result"
    }
   ],
   "source": [
    "df_c.head()"
   ]
  },
  {
   "cell_type": "code",
   "execution_count": null,
   "metadata": {
    "id": "e2bafw5H9obi"
   },
   "outputs": [],
   "source": [
    "#Создаем новую колонку зависимости пробега от цены.\n",
    "df_c['odometer/price'] = df_c.odometer/df_c.price"
   ]
  },
  {
   "cell_type": "code",
   "execution_count": null,
   "metadata": {
    "colab": {
     "base_uri": "https://localhost:8080/"
    },
    "executionInfo": {
     "elapsed": 10,
     "status": "ok",
     "timestamp": 1679046387162,
     "user": {
      "displayName": "Юрий Осипов",
      "userId": "08137226283067646882"
     },
     "user_tz": -180
    },
    "id": "vfIojKqwAnMK",
    "outputId": "ec5922ec-d381-41a9-b5ef-3cfc3b57d9be"
   },
   "outputs": [
    {
     "data": {
      "text/html": [
       "\n",
       "  <div id=\"df-3b958c73-7d54-4824-a4bf-b8cafc409a49\">\n",
       "    <div class=\"colab-df-container\">\n",
       "      <div>\n",
       "<style scoped>\n",
       "    .dataframe tbody tr th:only-of-type {\n",
       "        vertical-align: middle;\n",
       "    }\n",
       "\n",
       "    .dataframe tbody tr th {\n",
       "        vertical-align: top;\n",
       "    }\n",
       "\n",
       "    .dataframe thead th {\n",
       "        text-align: right;\n",
       "    }\n",
       "</style>\n",
       "<table border=\"1\" class=\"dataframe\">\n",
       "  <thead>\n",
       "    <tr style=\"text-align: right;\">\n",
       "      <th></th>\n",
       "      <th>region</th>\n",
       "      <th>region_url</th>\n",
       "    </tr>\n",
       "    <tr>\n",
       "      <th>id</th>\n",
       "      <th></th>\n",
       "      <th></th>\n",
       "    </tr>\n",
       "  </thead>\n",
       "  <tbody>\n",
       "    <tr>\n",
       "      <th>7308295377</th>\n",
       "      <td>chattanooga</td>\n",
       "      <td>https://chattanooga.craigslist.org</td>\n",
       "    </tr>\n",
       "    <tr>\n",
       "      <th>7316380095</th>\n",
       "      <td>north jersey</td>\n",
       "      <td>https://newjersey.craigslist.org</td>\n",
       "    </tr>\n",
       "    <tr>\n",
       "      <th>7313733749</th>\n",
       "      <td>reno / tahoe</td>\n",
       "      <td>https://reno.craigslist.org</td>\n",
       "    </tr>\n",
       "    <tr>\n",
       "      <th>7308210929</th>\n",
       "      <td>fayetteville</td>\n",
       "      <td>https://fayetteville.craigslist.org</td>\n",
       "    </tr>\n",
       "    <tr>\n",
       "      <th>7316474668</th>\n",
       "      <td>new york city</td>\n",
       "      <td>https://newyork.craigslist.org</td>\n",
       "    </tr>\n",
       "    <tr>\n",
       "      <th>...</th>\n",
       "      <td>...</td>\n",
       "      <td>...</td>\n",
       "    </tr>\n",
       "    <tr>\n",
       "      <th>7304876387</th>\n",
       "      <td>chautauqua</td>\n",
       "      <td>https://chautauqua.craigslist.org</td>\n",
       "    </tr>\n",
       "    <tr>\n",
       "      <th>7316152972</th>\n",
       "      <td>binghamton</td>\n",
       "      <td>https://binghamton.craigslist.org</td>\n",
       "    </tr>\n",
       "    <tr>\n",
       "      <th>7310993818</th>\n",
       "      <td>salem</td>\n",
       "      <td>https://salem.craigslist.org</td>\n",
       "    </tr>\n",
       "    <tr>\n",
       "      <th>7306637427</th>\n",
       "      <td>madison</td>\n",
       "      <td>https://madison.craigslist.org</td>\n",
       "    </tr>\n",
       "    <tr>\n",
       "      <th>7311960763</th>\n",
       "      <td>norfolk / hampton roads</td>\n",
       "      <td>https://norfolk.craigslist.org</td>\n",
       "    </tr>\n",
       "  </tbody>\n",
       "</table>\n",
       "<p>9729 rows × 2 columns</p>\n",
       "</div>\n",
       "      <button class=\"colab-df-convert\" onclick=\"convertToInteractive('df-3b958c73-7d54-4824-a4bf-b8cafc409a49')\"\n",
       "              title=\"Convert this dataframe to an interactive table.\"\n",
       "              style=\"display:none;\">\n",
       "        \n",
       "  <svg xmlns=\"http://www.w3.org/2000/svg\" height=\"24px\"viewBox=\"0 0 24 24\"\n",
       "       width=\"24px\">\n",
       "    <path d=\"M0 0h24v24H0V0z\" fill=\"none\"/>\n",
       "    <path d=\"M18.56 5.44l.94 2.06.94-2.06 2.06-.94-2.06-.94-.94-2.06-.94 2.06-2.06.94zm-11 1L8.5 8.5l.94-2.06 2.06-.94-2.06-.94L8.5 2.5l-.94 2.06-2.06.94zm10 10l.94 2.06.94-2.06 2.06-.94-2.06-.94-.94-2.06-.94 2.06-2.06.94z\"/><path d=\"M17.41 7.96l-1.37-1.37c-.4-.4-.92-.59-1.43-.59-.52 0-1.04.2-1.43.59L10.3 9.45l-7.72 7.72c-.78.78-.78 2.05 0 2.83L4 21.41c.39.39.9.59 1.41.59.51 0 1.02-.2 1.41-.59l7.78-7.78 2.81-2.81c.8-.78.8-2.07 0-2.86zM5.41 20L4 18.59l7.72-7.72 1.47 1.35L5.41 20z\"/>\n",
       "  </svg>\n",
       "      </button>\n",
       "      \n",
       "  <style>\n",
       "    .colab-df-container {\n",
       "      display:flex;\n",
       "      flex-wrap:wrap;\n",
       "      gap: 12px;\n",
       "    }\n",
       "\n",
       "    .colab-df-convert {\n",
       "      background-color: #E8F0FE;\n",
       "      border: none;\n",
       "      border-radius: 50%;\n",
       "      cursor: pointer;\n",
       "      display: none;\n",
       "      fill: #1967D2;\n",
       "      height: 32px;\n",
       "      padding: 0 0 0 0;\n",
       "      width: 32px;\n",
       "    }\n",
       "\n",
       "    .colab-df-convert:hover {\n",
       "      background-color: #E2EBFA;\n",
       "      box-shadow: 0px 1px 2px rgba(60, 64, 67, 0.3), 0px 1px 3px 1px rgba(60, 64, 67, 0.15);\n",
       "      fill: #174EA6;\n",
       "    }\n",
       "\n",
       "    [theme=dark] .colab-df-convert {\n",
       "      background-color: #3B4455;\n",
       "      fill: #D2E3FC;\n",
       "    }\n",
       "\n",
       "    [theme=dark] .colab-df-convert:hover {\n",
       "      background-color: #434B5C;\n",
       "      box-shadow: 0px 1px 3px 1px rgba(0, 0, 0, 0.15);\n",
       "      filter: drop-shadow(0px 1px 2px rgba(0, 0, 0, 0.3));\n",
       "      fill: #FFFFFF;\n",
       "    }\n",
       "  </style>\n",
       "\n",
       "      <script>\n",
       "        const buttonEl =\n",
       "          document.querySelector('#df-3b958c73-7d54-4824-a4bf-b8cafc409a49 button.colab-df-convert');\n",
       "        buttonEl.style.display =\n",
       "          google.colab.kernel.accessAllowed ? 'block' : 'none';\n",
       "\n",
       "        async function convertToInteractive(key) {\n",
       "          const element = document.querySelector('#df-3b958c73-7d54-4824-a4bf-b8cafc409a49');\n",
       "          const dataTable =\n",
       "            await google.colab.kernel.invokeFunction('convertToInteractive',\n",
       "                                                     [key], {});\n",
       "          if (!dataTable) return;\n",
       "\n",
       "          const docLinkHtml = 'Like what you see? Visit the ' +\n",
       "            '<a target=\"_blank\" href=https://colab.research.google.com/notebooks/data_table.ipynb>data table notebook</a>'\n",
       "            + ' to learn more about interactive tables.';\n",
       "          element.innerHTML = '';\n",
       "          dataTable['output_type'] = 'display_data';\n",
       "          await google.colab.output.renderOutput(dataTable, element);\n",
       "          const docLink = document.createElement('div');\n",
       "          docLink.innerHTML = docLinkHtml;\n",
       "          element.appendChild(docLink);\n",
       "        }\n",
       "      </script>\n",
       "    </div>\n",
       "  </div>\n",
       "  "
      ],
      "text/plain": [
       "                             region                           region_url\n",
       "id                                                                      \n",
       "7308295377              chattanooga   https://chattanooga.craigslist.org\n",
       "7316380095             north jersey     https://newjersey.craigslist.org\n",
       "7313733749             reno / tahoe          https://reno.craigslist.org\n",
       "7308210929             fayetteville  https://fayetteville.craigslist.org\n",
       "7316474668            new york city       https://newyork.craigslist.org\n",
       "...                             ...                                  ...\n",
       "7304876387               chautauqua    https://chautauqua.craigslist.org\n",
       "7316152972               binghamton    https://binghamton.craigslist.org\n",
       "7310993818                    salem         https://salem.craigslist.org\n",
       "7306637427                  madison       https://madison.craigslist.org\n",
       "7311960763  norfolk / hampton roads       https://norfolk.craigslist.org\n",
       "\n",
       "[9729 rows x 2 columns]"
      ]
     },
     "execution_count": 84,
     "metadata": {},
     "output_type": "execute_result"
    }
   ],
   "source": [
    "#Наблюдаем некорректное написание региона и модели в некоторых строках.\n",
    "df_c[['region', 'region_url']]"
   ]
  },
  {
   "cell_type": "code",
   "execution_count": null,
   "metadata": {
    "id": "93OgwyBMAovc"
   },
   "outputs": [],
   "source": [
    "#Приводим к общим значениям.\n",
    "region = [i.split('//')[1].split('.')[0] for i in df_c.region_url]"
   ]
  },
  {
   "cell_type": "code",
   "execution_count": null,
   "metadata": {
    "id": "3d_asHmzAq4e"
   },
   "outputs": [],
   "source": [
    "df_c['region_n'] = region"
   ]
  },
  {
   "cell_type": "code",
   "execution_count": null,
   "metadata": {
    "colab": {
     "base_uri": "https://localhost:8080/"
    },
    "executionInfo": {
     "elapsed": 7,
     "status": "ok",
     "timestamp": 1679046415381,
     "user": {
      "displayName": "Юрий Осипов",
      "userId": "08137226283067646882"
     },
     "user_tz": -180
    },
    "id": "FG7aQHR6A5r_",
    "outputId": "837a3a81-fb10-4b91-9210-e7a90b3262df"
   },
   "outputs": [
    {
     "data": {
      "text/plain": [
       "id\n",
       "7308295377       2500 crew cab big horn\n",
       "7316380095         explorer 4wd 4dr xlt\n",
       "7313733749             golf r hatchback\n",
       "7308210929                         rav4\n",
       "7316474668                       altima\n",
       "                        ...            \n",
       "7304876387                         rav4\n",
       "7316152972                     wrangler\n",
       "7310993818    a3 2.0t premium plus pzev\n",
       "7306637427                      cayenne\n",
       "7311960763       1500 crew cab big horn\n",
       "Name: model, Length: 9729, dtype: object"
      ]
     },
     "execution_count": 88,
     "metadata": {},
     "output_type": "execute_result"
    }
   ],
   "source": [
    "#Видно, что наименование модели пишется первым словом строки. Приводим к общим значениям.\n",
    "df_c.model"
   ]
  },
  {
   "cell_type": "code",
   "execution_count": null,
   "metadata": {
    "id": "3ZlRCQoFA7P_"
   },
   "outputs": [],
   "source": [
    "model = [i.split(' ')[0] for i in df_c.model]"
   ]
  },
  {
   "cell_type": "code",
   "execution_count": null,
   "metadata": {
    "id": "y4W2uEhEA9Q3"
   },
   "outputs": [],
   "source": [
    "df_c['model_n'] = model"
   ]
  },
  {
   "cell_type": "code",
   "execution_count": null,
   "metadata": {
    "id": "sNXYtt3fBC_t"
   },
   "outputs": [],
   "source": [
    "#Создаем новую колонку с длиной описания объявления, так как само описание не сможет использоваться при обучении модели.\n",
    "len_descript = []\n",
    "for i in df_c.description:\n",
    "    len_descript.append(len(i))"
   ]
  },
  {
   "cell_type": "code",
   "execution_count": null,
   "metadata": {
    "id": "aRCZ-PrCBGGV"
   },
   "outputs": [],
   "source": [
    "df_c['description_len'] = len_descript"
   ]
  },
  {
   "cell_type": "code",
   "execution_count": null,
   "metadata": {
    "colab": {
     "base_uri": "https://localhost:8080/"
    },
    "executionInfo": {
     "elapsed": 941,
     "status": "ok",
     "timestamp": 1679046481489,
     "user": {
      "displayName": "Юрий Осипов",
      "userId": "08137226283067646882"
     },
     "user_tz": -180
    },
    "id": "WCQazI9_99_F",
    "outputId": "0f718c81-da6f-4027-bd06-0b2c1df56ffc"
   },
   "outputs": [
    {
     "data": {
      "text/plain": [
       "Index(['url', 'region', 'region_url', 'price', 'year', 'manufacturer', 'model',\n",
       "       'fuel', 'odometer', 'title_status', 'transmission', 'image_url',\n",
       "       'description', 'state', 'lat', 'long', 'posting_date', 'price_category',\n",
       "       'date', 'odometer/price', 'region_n', 'model_n', 'description_len'],\n",
       "      dtype='object')"
      ]
     },
     "execution_count": 95,
     "metadata": {},
     "output_type": "execute_result"
    }
   ],
   "source": [
    "df_c.columns"
   ]
  },
  {
   "cell_type": "code",
   "execution_count": null,
   "metadata": {
    "id": "MG19IDBqCC1Q"
   },
   "outputs": [],
   "source": [
    "# Категориальные данные с большим количеством значений преобразуем с помощью LabaleEncoder. \n",
    "lb = LabelEncoder().fit(df_c.manufacturer)"
   ]
  },
  {
   "cell_type": "code",
   "execution_count": null,
   "metadata": {
    "id": "VQvRE9LxCQxV"
   },
   "outputs": [],
   "source": [
    "lb_manufacturer = lb.transform(df_c.manufacturer)"
   ]
  },
  {
   "cell_type": "code",
   "execution_count": null,
   "metadata": {
    "id": "9_kDXS-2CSOX"
   },
   "outputs": [],
   "source": [
    "df_c['lb_manufacturer'] = lb_manufacturer"
   ]
  },
  {
   "cell_type": "code",
   "execution_count": null,
   "metadata": {
    "id": "OWZROd4WCU67"
   },
   "outputs": [],
   "source": [
    "lb = LabelEncoder().fit(df_c.region_n)"
   ]
  },
  {
   "cell_type": "code",
   "execution_count": null,
   "metadata": {
    "id": "ZparDwD7Cdzi"
   },
   "outputs": [],
   "source": [
    "lb_region = lb.transform(df_c.region_n)"
   ]
  },
  {
   "cell_type": "code",
   "execution_count": null,
   "metadata": {
    "id": "VFWA4Bf6Cjju"
   },
   "outputs": [],
   "source": [
    "df_c['lb_region'] = lb_region"
   ]
  },
  {
   "cell_type": "code",
   "execution_count": null,
   "metadata": {
    "id": "OPx-0UxKCnSx"
   },
   "outputs": [],
   "source": [
    "lb = LabelEncoder().fit(df_c.model_n)"
   ]
  },
  {
   "cell_type": "code",
   "execution_count": null,
   "metadata": {
    "id": "OIysORSNCo13"
   },
   "outputs": [],
   "source": [
    "lb_model = lb.transform(df_c.model_n)"
   ]
  },
  {
   "cell_type": "code",
   "execution_count": null,
   "metadata": {
    "id": "FbUq3Mw8CsDf"
   },
   "outputs": [],
   "source": [
    "df_c['lb_model'] = lb_model"
   ]
  },
  {
   "cell_type": "code",
   "execution_count": null,
   "metadata": {
    "colab": {
     "base_uri": "https://localhost:8080/"
    },
    "executionInfo": {
     "elapsed": 4,
     "status": "ok",
     "timestamp": 1679046544232,
     "user": {
      "displayName": "Юрий Осипов",
      "userId": "08137226283067646882"
     },
     "user_tz": -180
    },
    "id": "sxm9_7ONCvci",
    "outputId": "a12bd4ec-9f43-4d3b-87f6-bae149e1c040"
   },
   "outputs": [
    {
     "data": {
      "text/plain": [
       "Index(['url', 'region', 'region_url', 'price', 'year', 'manufacturer', 'model',\n",
       "       'fuel', 'odometer', 'title_status', 'transmission', 'image_url',\n",
       "       'description', 'state', 'lat', 'long', 'posting_date', 'price_category',\n",
       "       'date', 'odometer/price', 'region_n', 'model_n', 'description_len',\n",
       "       'lb_manufacturer', 'lb_region', 'lb_model'],\n",
       "      dtype='object')"
      ]
     },
     "execution_count": 105,
     "metadata": {},
     "output_type": "execute_result"
    }
   ],
   "source": [
    "df_c.columns"
   ]
  },
  {
   "cell_type": "code",
   "execution_count": null,
   "metadata": {
    "colab": {
     "base_uri": "https://localhost:8080/"
    },
    "executionInfo": {
     "elapsed": 19,
     "status": "ok",
     "timestamp": 1679046586650,
     "user": {
      "displayName": "Юрий Осипов",
      "userId": "08137226283067646882"
     },
     "user_tz": -180
    },
    "id": "znBgTCvwCxF1",
    "outputId": "baaa0017-782b-42fe-fd88-490f047edf10"
   },
   "outputs": [
    {
     "data": {
      "text/html": [
       "\n",
       "  <div id=\"df-26b5a76e-7756-4525-8c42-2546acd0d105\">\n",
       "    <div class=\"colab-df-container\">\n",
       "      <div>\n",
       "<style scoped>\n",
       "    .dataframe tbody tr th:only-of-type {\n",
       "        vertical-align: middle;\n",
       "    }\n",
       "\n",
       "    .dataframe tbody tr th {\n",
       "        vertical-align: top;\n",
       "    }\n",
       "\n",
       "    .dataframe thead th {\n",
       "        text-align: right;\n",
       "    }\n",
       "</style>\n",
       "<table border=\"1\" class=\"dataframe\">\n",
       "  <thead>\n",
       "    <tr style=\"text-align: right;\">\n",
       "      <th></th>\n",
       "      <th>lat</th>\n",
       "      <th>long</th>\n",
       "      <th>year</th>\n",
       "      <th>odometer/price</th>\n",
       "      <th>description_len</th>\n",
       "    </tr>\n",
       "    <tr>\n",
       "      <th>id</th>\n",
       "      <th></th>\n",
       "      <th></th>\n",
       "      <th></th>\n",
       "      <th></th>\n",
       "      <th></th>\n",
       "    </tr>\n",
       "  </thead>\n",
       "  <tbody>\n",
       "    <tr>\n",
       "      <th>7308295377</th>\n",
       "      <td>35.060000</td>\n",
       "      <td>-85.250000</td>\n",
       "      <td>2020</td>\n",
       "      <td>0.499036</td>\n",
       "      <td>4482</td>\n",
       "    </tr>\n",
       "    <tr>\n",
       "      <th>7316380095</th>\n",
       "      <td>40.821805</td>\n",
       "      <td>-74.061962</td>\n",
       "      <td>2016</td>\n",
       "      <td>3.542852</td>\n",
       "      <td>968</td>\n",
       "    </tr>\n",
       "    <tr>\n",
       "      <th>7313733749</th>\n",
       "      <td>33.779214</td>\n",
       "      <td>-84.411811</td>\n",
       "      <td>2017</td>\n",
       "      <td>0.394718</td>\n",
       "      <td>4286</td>\n",
       "    </tr>\n",
       "    <tr>\n",
       "      <th>7308210929</th>\n",
       "      <td>35.715954</td>\n",
       "      <td>-78.655304</td>\n",
       "      <td>2013</td>\n",
       "      <td>8.089034</td>\n",
       "      <td>3241</td>\n",
       "    </tr>\n",
       "    <tr>\n",
       "      <th>7316474668</th>\n",
       "      <td>40.654800</td>\n",
       "      <td>-73.609700</td>\n",
       "      <td>2021</td>\n",
       "      <td>0.366972</td>\n",
       "      <td>538</td>\n",
       "    </tr>\n",
       "    <tr>\n",
       "      <th>...</th>\n",
       "      <td>...</td>\n",
       "      <td>...</td>\n",
       "      <td>...</td>\n",
       "      <td>...</td>\n",
       "      <td>...</td>\n",
       "    </tr>\n",
       "    <tr>\n",
       "      <th>7304876387</th>\n",
       "      <td>42.123900</td>\n",
       "      <td>-79.189500</td>\n",
       "      <td>2002</td>\n",
       "      <td>33.370412</td>\n",
       "      <td>1710</td>\n",
       "    </tr>\n",
       "    <tr>\n",
       "      <th>7316152972</th>\n",
       "      <td>43.216990</td>\n",
       "      <td>-77.755610</td>\n",
       "      <td>2008</td>\n",
       "      <td>7.835323</td>\n",
       "      <td>948</td>\n",
       "    </tr>\n",
       "    <tr>\n",
       "      <th>7310993818</th>\n",
       "      <td>44.925908</td>\n",
       "      <td>-122.982753</td>\n",
       "      <td>2011</td>\n",
       "      <td>16.696387</td>\n",
       "      <td>909</td>\n",
       "    </tr>\n",
       "    <tr>\n",
       "      <th>7306637427</th>\n",
       "      <td>43.029559</td>\n",
       "      <td>-89.397796</td>\n",
       "      <td>2015</td>\n",
       "      <td>1.941787</td>\n",
       "      <td>3644</td>\n",
       "    </tr>\n",
       "    <tr>\n",
       "      <th>7311960763</th>\n",
       "      <td>36.670000</td>\n",
       "      <td>-76.300000</td>\n",
       "      <td>2017</td>\n",
       "      <td>1.122882</td>\n",
       "      <td>4483</td>\n",
       "    </tr>\n",
       "  </tbody>\n",
       "</table>\n",
       "<p>9729 rows × 5 columns</p>\n",
       "</div>\n",
       "      <button class=\"colab-df-convert\" onclick=\"convertToInteractive('df-26b5a76e-7756-4525-8c42-2546acd0d105')\"\n",
       "              title=\"Convert this dataframe to an interactive table.\"\n",
       "              style=\"display:none;\">\n",
       "        \n",
       "  <svg xmlns=\"http://www.w3.org/2000/svg\" height=\"24px\"viewBox=\"0 0 24 24\"\n",
       "       width=\"24px\">\n",
       "    <path d=\"M0 0h24v24H0V0z\" fill=\"none\"/>\n",
       "    <path d=\"M18.56 5.44l.94 2.06.94-2.06 2.06-.94-2.06-.94-.94-2.06-.94 2.06-2.06.94zm-11 1L8.5 8.5l.94-2.06 2.06-.94-2.06-.94L8.5 2.5l-.94 2.06-2.06.94zm10 10l.94 2.06.94-2.06 2.06-.94-2.06-.94-.94-2.06-.94 2.06-2.06.94z\"/><path d=\"M17.41 7.96l-1.37-1.37c-.4-.4-.92-.59-1.43-.59-.52 0-1.04.2-1.43.59L10.3 9.45l-7.72 7.72c-.78.78-.78 2.05 0 2.83L4 21.41c.39.39.9.59 1.41.59.51 0 1.02-.2 1.41-.59l7.78-7.78 2.81-2.81c.8-.78.8-2.07 0-2.86zM5.41 20L4 18.59l7.72-7.72 1.47 1.35L5.41 20z\"/>\n",
       "  </svg>\n",
       "      </button>\n",
       "      \n",
       "  <style>\n",
       "    .colab-df-container {\n",
       "      display:flex;\n",
       "      flex-wrap:wrap;\n",
       "      gap: 12px;\n",
       "    }\n",
       "\n",
       "    .colab-df-convert {\n",
       "      background-color: #E8F0FE;\n",
       "      border: none;\n",
       "      border-radius: 50%;\n",
       "      cursor: pointer;\n",
       "      display: none;\n",
       "      fill: #1967D2;\n",
       "      height: 32px;\n",
       "      padding: 0 0 0 0;\n",
       "      width: 32px;\n",
       "    }\n",
       "\n",
       "    .colab-df-convert:hover {\n",
       "      background-color: #E2EBFA;\n",
       "      box-shadow: 0px 1px 2px rgba(60, 64, 67, 0.3), 0px 1px 3px 1px rgba(60, 64, 67, 0.15);\n",
       "      fill: #174EA6;\n",
       "    }\n",
       "\n",
       "    [theme=dark] .colab-df-convert {\n",
       "      background-color: #3B4455;\n",
       "      fill: #D2E3FC;\n",
       "    }\n",
       "\n",
       "    [theme=dark] .colab-df-convert:hover {\n",
       "      background-color: #434B5C;\n",
       "      box-shadow: 0px 1px 3px 1px rgba(0, 0, 0, 0.15);\n",
       "      filter: drop-shadow(0px 1px 2px rgba(0, 0, 0, 0.3));\n",
       "      fill: #FFFFFF;\n",
       "    }\n",
       "  </style>\n",
       "\n",
       "      <script>\n",
       "        const buttonEl =\n",
       "          document.querySelector('#df-26b5a76e-7756-4525-8c42-2546acd0d105 button.colab-df-convert');\n",
       "        buttonEl.style.display =\n",
       "          google.colab.kernel.accessAllowed ? 'block' : 'none';\n",
       "\n",
       "        async function convertToInteractive(key) {\n",
       "          const element = document.querySelector('#df-26b5a76e-7756-4525-8c42-2546acd0d105');\n",
       "          const dataTable =\n",
       "            await google.colab.kernel.invokeFunction('convertToInteractive',\n",
       "                                                     [key], {});\n",
       "          if (!dataTable) return;\n",
       "\n",
       "          const docLinkHtml = 'Like what you see? Visit the ' +\n",
       "            '<a target=\"_blank\" href=https://colab.research.google.com/notebooks/data_table.ipynb>data table notebook</a>'\n",
       "            + ' to learn more about interactive tables.';\n",
       "          element.innerHTML = '';\n",
       "          dataTable['output_type'] = 'display_data';\n",
       "          await google.colab.output.renderOutput(dataTable, element);\n",
       "          const docLink = document.createElement('div');\n",
       "          docLink.innerHTML = docLinkHtml;\n",
       "          element.appendChild(docLink);\n",
       "        }\n",
       "      </script>\n",
       "    </div>\n",
       "  </div>\n",
       "  "
      ],
      "text/plain": [
       "                  lat        long  year  odometer/price  description_len\n",
       "id                                                                      \n",
       "7308295377  35.060000  -85.250000  2020        0.499036             4482\n",
       "7316380095  40.821805  -74.061962  2016        3.542852              968\n",
       "7313733749  33.779214  -84.411811  2017        0.394718             4286\n",
       "7308210929  35.715954  -78.655304  2013        8.089034             3241\n",
       "7316474668  40.654800  -73.609700  2021        0.366972              538\n",
       "...               ...         ...   ...             ...              ...\n",
       "7304876387  42.123900  -79.189500  2002       33.370412             1710\n",
       "7316152972  43.216990  -77.755610  2008        7.835323              948\n",
       "7310993818  44.925908 -122.982753  2011       16.696387              909\n",
       "7306637427  43.029559  -89.397796  2015        1.941787             3644\n",
       "7311960763  36.670000  -76.300000  2017        1.122882             4483\n",
       "\n",
       "[9729 rows x 5 columns]"
      ]
     },
     "execution_count": 106,
     "metadata": {},
     "output_type": "execute_result"
    }
   ],
   "source": [
    "#Численные значения преобразуем с помощью StandartScaler, MinMaxScaler.\n",
    "data1 = df_c[['lat', 'long', 'year', 'odometer/price', 'description_len']]\n",
    "data1"
   ]
  },
  {
   "cell_type": "code",
   "execution_count": null,
   "metadata": {
    "id": "Z0uit4l7Czi6"
   },
   "outputs": [],
   "source": [
    "std_scaler = StandardScaler().fit(data1)"
   ]
  },
  {
   "cell_type": "code",
   "execution_count": null,
   "metadata": {
    "id": "dSHH6B4yC4Mj"
   },
   "outputs": [],
   "source": [
    "standartized_x = std_scaler.transform(data1)"
   ]
  },
  {
   "cell_type": "code",
   "execution_count": null,
   "metadata": {
    "id": "11GHJvR_C5v_"
   },
   "outputs": [],
   "source": [
    "new_names = ['lat_std', 'long_std', 'year_std', 'odometer/price_std', 'description_len_std']\n",
    "df_c[new_names] = standartized_x\n"
   ]
  },
  {
   "cell_type": "code",
   "execution_count": null,
   "metadata": {
    "id": "RzB90yrmC-Bs"
   },
   "outputs": [],
   "source": [
    "data2 = df_c[['price', 'odometer']]"
   ]
  },
  {
   "cell_type": "code",
   "execution_count": null,
   "metadata": {
    "id": "SVfmPGTGDDj9"
   },
   "outputs": [],
   "source": [
    "mm = MinMaxScaler().fit(data2)"
   ]
  },
  {
   "cell_type": "code",
   "execution_count": null,
   "metadata": {
    "id": "5nASE2LxDFCn"
   },
   "outputs": [],
   "source": [
    "scaler_minmax = mm.transform(data2)"
   ]
  },
  {
   "cell_type": "code",
   "execution_count": null,
   "metadata": {
    "id": "Q28JoG6ODHRe"
   },
   "outputs": [],
   "source": [
    "new_names_mm = ['price_mm', 'odometer_mm']\n",
    "df_c[new_names_mm] = scaler_minmax"
   ]
  },
  {
   "cell_type": "code",
   "execution_count": null,
   "metadata": {
    "colab": {
     "base_uri": "https://localhost:8080/"
    },
    "executionInfo": {
     "elapsed": 8,
     "status": "ok",
     "timestamp": 1679046639374,
     "user": {
      "displayName": "Юрий Осипов",
      "userId": "08137226283067646882"
     },
     "user_tz": -180
    },
    "id": "y9eGqdgV-mEP",
    "outputId": "9ad5b8e4-e57d-4f01-b0c4-b9a185f8ab6f"
   },
   "outputs": [
    {
     "data": {
      "text/plain": [
       "Index(['url', 'region', 'region_url', 'price', 'year', 'manufacturer', 'model',\n",
       "       'fuel', 'odometer', 'title_status', 'transmission', 'image_url',\n",
       "       'description', 'state', 'lat', 'long', 'posting_date', 'price_category',\n",
       "       'date', 'odometer/price', 'region_n', 'model_n', 'description_len',\n",
       "       'lb_manufacturer', 'lb_region', 'lb_model', 'lat_std', 'long_std',\n",
       "       'year_std', 'odometer/price_std', 'description_len_std', 'price_mm',\n",
       "       'odometer_mm'],\n",
       "      dtype='object')"
      ]
     },
     "execution_count": 115,
     "metadata": {},
     "output_type": "execute_result"
    }
   ],
   "source": [
    "df_c.columns"
   ]
  },
  {
   "cell_type": "code",
   "execution_count": null,
   "metadata": {
    "id": "B-MdTuhKDLDi"
   },
   "outputs": [],
   "source": [
    "#Колонки с малым количеством значений преобразуем с помощью OneHotEncoder.\n",
    "ohe = OneHotEncoder(sparse=False)"
   ]
  },
  {
   "cell_type": "code",
   "execution_count": null,
   "metadata": {
    "colab": {
     "base_uri": "https://localhost:8080/"
    },
    "executionInfo": {
     "elapsed": 524,
     "status": "ok",
     "timestamp": 1679046663650,
     "user": {
      "displayName": "Юрий Осипов",
      "userId": "08137226283067646882"
     },
     "user_tz": -180
    },
    "id": "HuhTSOqlDOJc",
    "outputId": "8d7bd322-f02a-4281-db91-2a613b706608"
   },
   "outputs": [
    {
     "name": "stderr",
     "output_type": "stream",
     "text": [
      "/usr/local/lib/python3.9/dist-packages/sklearn/preprocessing/_encoders.py:868: FutureWarning: `sparse` was renamed to `sparse_output` in version 1.2 and will be removed in 1.4. `sparse_output` is ignored unless you leave `sparse` to its default value.\n",
      "  warnings.warn(\n"
     ]
    },
    {
     "data": {
      "text/html": [
       "<style>#sk-container-id-1 {color: black;background-color: white;}#sk-container-id-1 pre{padding: 0;}#sk-container-id-1 div.sk-toggleable {background-color: white;}#sk-container-id-1 label.sk-toggleable__label {cursor: pointer;display: block;width: 100%;margin-bottom: 0;padding: 0.3em;box-sizing: border-box;text-align: center;}#sk-container-id-1 label.sk-toggleable__label-arrow:before {content: \"▸\";float: left;margin-right: 0.25em;color: #696969;}#sk-container-id-1 label.sk-toggleable__label-arrow:hover:before {color: black;}#sk-container-id-1 div.sk-estimator:hover label.sk-toggleable__label-arrow:before {color: black;}#sk-container-id-1 div.sk-toggleable__content {max-height: 0;max-width: 0;overflow: hidden;text-align: left;background-color: #f0f8ff;}#sk-container-id-1 div.sk-toggleable__content pre {margin: 0.2em;color: black;border-radius: 0.25em;background-color: #f0f8ff;}#sk-container-id-1 input.sk-toggleable__control:checked~div.sk-toggleable__content {max-height: 200px;max-width: 100%;overflow: auto;}#sk-container-id-1 input.sk-toggleable__control:checked~label.sk-toggleable__label-arrow:before {content: \"▾\";}#sk-container-id-1 div.sk-estimator input.sk-toggleable__control:checked~label.sk-toggleable__label {background-color: #d4ebff;}#sk-container-id-1 div.sk-label input.sk-toggleable__control:checked~label.sk-toggleable__label {background-color: #d4ebff;}#sk-container-id-1 input.sk-hidden--visually {border: 0;clip: rect(1px 1px 1px 1px);clip: rect(1px, 1px, 1px, 1px);height: 1px;margin: -1px;overflow: hidden;padding: 0;position: absolute;width: 1px;}#sk-container-id-1 div.sk-estimator {font-family: monospace;background-color: #f0f8ff;border: 1px dotted black;border-radius: 0.25em;box-sizing: border-box;margin-bottom: 0.5em;}#sk-container-id-1 div.sk-estimator:hover {background-color: #d4ebff;}#sk-container-id-1 div.sk-parallel-item::after {content: \"\";width: 100%;border-bottom: 1px solid gray;flex-grow: 1;}#sk-container-id-1 div.sk-label:hover label.sk-toggleable__label {background-color: #d4ebff;}#sk-container-id-1 div.sk-serial::before {content: \"\";position: absolute;border-left: 1px solid gray;box-sizing: border-box;top: 0;bottom: 0;left: 50%;z-index: 0;}#sk-container-id-1 div.sk-serial {display: flex;flex-direction: column;align-items: center;background-color: white;padding-right: 0.2em;padding-left: 0.2em;position: relative;}#sk-container-id-1 div.sk-item {position: relative;z-index: 1;}#sk-container-id-1 div.sk-parallel {display: flex;align-items: stretch;justify-content: center;background-color: white;position: relative;}#sk-container-id-1 div.sk-item::before, #sk-container-id-1 div.sk-parallel-item::before {content: \"\";position: absolute;border-left: 1px solid gray;box-sizing: border-box;top: 0;bottom: 0;left: 50%;z-index: -1;}#sk-container-id-1 div.sk-parallel-item {display: flex;flex-direction: column;z-index: 1;position: relative;background-color: white;}#sk-container-id-1 div.sk-parallel-item:first-child::after {align-self: flex-end;width: 50%;}#sk-container-id-1 div.sk-parallel-item:last-child::after {align-self: flex-start;width: 50%;}#sk-container-id-1 div.sk-parallel-item:only-child::after {width: 0;}#sk-container-id-1 div.sk-dashed-wrapped {border: 1px dashed gray;margin: 0 0.4em 0.5em 0.4em;box-sizing: border-box;padding-bottom: 0.4em;background-color: white;}#sk-container-id-1 div.sk-label label {font-family: monospace;font-weight: bold;display: inline-block;line-height: 1.2em;}#sk-container-id-1 div.sk-label-container {text-align: center;}#sk-container-id-1 div.sk-container {/* jupyter's `normalize.less` sets `[hidden] { display: none; }` but bootstrap.min.css set `[hidden] { display: none !important; }` so we also need the `!important` here to be able to override the default hidden behavior on the sphinx rendered scikit-learn.org. See: https://github.com/scikit-learn/scikit-learn/issues/21755 */display: inline-block !important;position: relative;}#sk-container-id-1 div.sk-text-repr-fallback {display: none;}</style><div id=\"sk-container-id-1\" class=\"sk-top-container\"><div class=\"sk-text-repr-fallback\"><pre>OneHotEncoder(sparse=False, sparse_output=False)</pre><b>In a Jupyter environment, please rerun this cell to show the HTML representation or trust the notebook. <br />On GitHub, the HTML representation is unable to render, please try loading this page with nbviewer.org.</b></div><div class=\"sk-container\" hidden><div class=\"sk-item\"><div class=\"sk-estimator sk-toggleable\"><input class=\"sk-toggleable__control sk-hidden--visually\" id=\"sk-estimator-id-1\" type=\"checkbox\" checked><label for=\"sk-estimator-id-1\" class=\"sk-toggleable__label sk-toggleable__label-arrow\">OneHotEncoder</label><div class=\"sk-toggleable__content\"><pre>OneHotEncoder(sparse=False, sparse_output=False)</pre></div></div></div></div></div>"
      ],
      "text/plain": [
       "OneHotEncoder(sparse=False, sparse_output=False)"
      ]
     },
     "execution_count": 116,
     "metadata": {},
     "output_type": "execute_result"
    }
   ],
   "source": [
    "ohe.fit(df_c[['fuel']])"
   ]
  },
  {
   "cell_type": "code",
   "execution_count": null,
   "metadata": {
    "id": "sUOlGeNmDPWt"
   },
   "outputs": [],
   "source": [
    "ohe_fuel = ohe.transform(df_c[['fuel']])"
   ]
  },
  {
   "cell_type": "code",
   "execution_count": null,
   "metadata": {
    "id": "JShX1QzzDQxB"
   },
   "outputs": [],
   "source": [
    "df_c[ohe.get_feature_names_out()] = ohe_fuel"
   ]
  },
  {
   "cell_type": "code",
   "execution_count": null,
   "metadata": {
    "colab": {
     "base_uri": "https://localhost:8080/"
    },
    "executionInfo": {
     "elapsed": 21,
     "status": "ok",
     "timestamp": 1679046675343,
     "user": {
      "displayName": "Юрий Осипов",
      "userId": "08137226283067646882"
     },
     "user_tz": -180
    },
    "id": "xwT9-CECEVBq",
    "outputId": "e113bdd1-91dc-4609-8cd4-9c63c0a155c0"
   },
   "outputs": [
    {
     "name": "stderr",
     "output_type": "stream",
     "text": [
      "/usr/local/lib/python3.9/dist-packages/sklearn/preprocessing/_encoders.py:868: FutureWarning: `sparse` was renamed to `sparse_output` in version 1.2 and will be removed in 1.4. `sparse_output` is ignored unless you leave `sparse` to its default value.\n",
      "  warnings.warn(\n"
     ]
    },
    {
     "data": {
      "text/html": [
       "<style>#sk-container-id-2 {color: black;background-color: white;}#sk-container-id-2 pre{padding: 0;}#sk-container-id-2 div.sk-toggleable {background-color: white;}#sk-container-id-2 label.sk-toggleable__label {cursor: pointer;display: block;width: 100%;margin-bottom: 0;padding: 0.3em;box-sizing: border-box;text-align: center;}#sk-container-id-2 label.sk-toggleable__label-arrow:before {content: \"▸\";float: left;margin-right: 0.25em;color: #696969;}#sk-container-id-2 label.sk-toggleable__label-arrow:hover:before {color: black;}#sk-container-id-2 div.sk-estimator:hover label.sk-toggleable__label-arrow:before {color: black;}#sk-container-id-2 div.sk-toggleable__content {max-height: 0;max-width: 0;overflow: hidden;text-align: left;background-color: #f0f8ff;}#sk-container-id-2 div.sk-toggleable__content pre {margin: 0.2em;color: black;border-radius: 0.25em;background-color: #f0f8ff;}#sk-container-id-2 input.sk-toggleable__control:checked~div.sk-toggleable__content {max-height: 200px;max-width: 100%;overflow: auto;}#sk-container-id-2 input.sk-toggleable__control:checked~label.sk-toggleable__label-arrow:before {content: \"▾\";}#sk-container-id-2 div.sk-estimator input.sk-toggleable__control:checked~label.sk-toggleable__label {background-color: #d4ebff;}#sk-container-id-2 div.sk-label input.sk-toggleable__control:checked~label.sk-toggleable__label {background-color: #d4ebff;}#sk-container-id-2 input.sk-hidden--visually {border: 0;clip: rect(1px 1px 1px 1px);clip: rect(1px, 1px, 1px, 1px);height: 1px;margin: -1px;overflow: hidden;padding: 0;position: absolute;width: 1px;}#sk-container-id-2 div.sk-estimator {font-family: monospace;background-color: #f0f8ff;border: 1px dotted black;border-radius: 0.25em;box-sizing: border-box;margin-bottom: 0.5em;}#sk-container-id-2 div.sk-estimator:hover {background-color: #d4ebff;}#sk-container-id-2 div.sk-parallel-item::after {content: \"\";width: 100%;border-bottom: 1px solid gray;flex-grow: 1;}#sk-container-id-2 div.sk-label:hover label.sk-toggleable__label {background-color: #d4ebff;}#sk-container-id-2 div.sk-serial::before {content: \"\";position: absolute;border-left: 1px solid gray;box-sizing: border-box;top: 0;bottom: 0;left: 50%;z-index: 0;}#sk-container-id-2 div.sk-serial {display: flex;flex-direction: column;align-items: center;background-color: white;padding-right: 0.2em;padding-left: 0.2em;position: relative;}#sk-container-id-2 div.sk-item {position: relative;z-index: 1;}#sk-container-id-2 div.sk-parallel {display: flex;align-items: stretch;justify-content: center;background-color: white;position: relative;}#sk-container-id-2 div.sk-item::before, #sk-container-id-2 div.sk-parallel-item::before {content: \"\";position: absolute;border-left: 1px solid gray;box-sizing: border-box;top: 0;bottom: 0;left: 50%;z-index: -1;}#sk-container-id-2 div.sk-parallel-item {display: flex;flex-direction: column;z-index: 1;position: relative;background-color: white;}#sk-container-id-2 div.sk-parallel-item:first-child::after {align-self: flex-end;width: 50%;}#sk-container-id-2 div.sk-parallel-item:last-child::after {align-self: flex-start;width: 50%;}#sk-container-id-2 div.sk-parallel-item:only-child::after {width: 0;}#sk-container-id-2 div.sk-dashed-wrapped {border: 1px dashed gray;margin: 0 0.4em 0.5em 0.4em;box-sizing: border-box;padding-bottom: 0.4em;background-color: white;}#sk-container-id-2 div.sk-label label {font-family: monospace;font-weight: bold;display: inline-block;line-height: 1.2em;}#sk-container-id-2 div.sk-label-container {text-align: center;}#sk-container-id-2 div.sk-container {/* jupyter's `normalize.less` sets `[hidden] { display: none; }` but bootstrap.min.css set `[hidden] { display: none !important; }` so we also need the `!important` here to be able to override the default hidden behavior on the sphinx rendered scikit-learn.org. See: https://github.com/scikit-learn/scikit-learn/issues/21755 */display: inline-block !important;position: relative;}#sk-container-id-2 div.sk-text-repr-fallback {display: none;}</style><div id=\"sk-container-id-2\" class=\"sk-top-container\"><div class=\"sk-text-repr-fallback\"><pre>OneHotEncoder(sparse=False, sparse_output=False)</pre><b>In a Jupyter environment, please rerun this cell to show the HTML representation or trust the notebook. <br />On GitHub, the HTML representation is unable to render, please try loading this page with nbviewer.org.</b></div><div class=\"sk-container\" hidden><div class=\"sk-item\"><div class=\"sk-estimator sk-toggleable\"><input class=\"sk-toggleable__control sk-hidden--visually\" id=\"sk-estimator-id-2\" type=\"checkbox\" checked><label for=\"sk-estimator-id-2\" class=\"sk-toggleable__label sk-toggleable__label-arrow\">OneHotEncoder</label><div class=\"sk-toggleable__content\"><pre>OneHotEncoder(sparse=False, sparse_output=False)</pre></div></div></div></div></div>"
      ],
      "text/plain": [
       "OneHotEncoder(sparse=False, sparse_output=False)"
      ]
     },
     "execution_count": 119,
     "metadata": {},
     "output_type": "execute_result"
    }
   ],
   "source": [
    "ohe.fit(df_c[['transmission']])"
   ]
  },
  {
   "cell_type": "code",
   "execution_count": null,
   "metadata": {
    "id": "raQ-AwUxExLn"
   },
   "outputs": [],
   "source": [
    "ohe_transmission = ohe.transform(df_c[['transmission']])"
   ]
  },
  {
   "cell_type": "code",
   "execution_count": null,
   "metadata": {
    "id": "Ox0b3f6WEc3C"
   },
   "outputs": [],
   "source": [
    "df_c[ohe.get_feature_names_out()] = ohe_transmission"
   ]
  },
  {
   "cell_type": "code",
   "execution_count": null,
   "metadata": {
    "colab": {
     "base_uri": "https://localhost:8080/"
    },
    "executionInfo": {
     "elapsed": 10,
     "status": "ok",
     "timestamp": 1679046681464,
     "user": {
      "displayName": "Юрий Осипов",
      "userId": "08137226283067646882"
     },
     "user_tz": -180
    },
    "id": "-dvaRWiSEe1o",
    "outputId": "e7653509-8a58-4f1a-a549-3dc42f58c280"
   },
   "outputs": [
    {
     "name": "stderr",
     "output_type": "stream",
     "text": [
      "/usr/local/lib/python3.9/dist-packages/sklearn/preprocessing/_encoders.py:868: FutureWarning: `sparse` was renamed to `sparse_output` in version 1.2 and will be removed in 1.4. `sparse_output` is ignored unless you leave `sparse` to its default value.\n",
      "  warnings.warn(\n"
     ]
    }
   ],
   "source": [
    "ohe.fit(df_c[['title_status']])\n",
    "ohe_title_status = ohe.transform(df_c[['title_status']])"
   ]
  },
  {
   "cell_type": "code",
   "execution_count": null,
   "metadata": {
    "id": "eSmMUI5rE9WR"
   },
   "outputs": [],
   "source": [
    "df_c[ohe.get_feature_names_out()] = ohe_title_status"
   ]
  },
  {
   "cell_type": "code",
   "execution_count": null,
   "metadata": {
    "id": "65SyU9hZE_4a"
   },
   "outputs": [],
   "source": [
    "df_c['price_category'] = df_c['price_category'].map({'low': 0, 'medium': 1, 'high': 2})"
   ]
  },
  {
   "cell_type": "code",
   "execution_count": null,
   "metadata": {
    "colab": {
     "base_uri": "https://localhost:8080/"
    },
    "executionInfo": {
     "elapsed": 499,
     "status": "ok",
     "timestamp": 1679047019112,
     "user": {
      "displayName": "Юрий Осипов",
      "userId": "08137226283067646882"
     },
     "user_tz": -180
    },
    "id": "epKqLyVT-3qp",
    "outputId": "a2245686-b89d-4532-fadd-b2081312ea20"
   },
   "outputs": [
    {
     "data": {
      "text/plain": [
       "Index(['price_category', 'lb_manufacturer', 'lb_region', 'lb_model', 'lat_std',\n",
       "       'long_std', 'year_std', 'odometer/price_std', 'description_len_std',\n",
       "       'price_mm', 'odometer_mm', 'fuel_diesel', 'fuel_electric', 'fuel_gas',\n",
       "       'fuel_hybrid', 'fuel_other', 'transmission_automatic',\n",
       "       'transmission_manual', 'transmission_other', 'title_status_clean',\n",
       "       'title_status_lien', 'title_status_missing', 'title_status_parts only',\n",
       "       'title_status_rebuilt', 'title_status_salvage'],\n",
       "      dtype='object')"
      ]
     },
     "execution_count": 133,
     "metadata": {},
     "output_type": "execute_result"
    }
   ],
   "source": [
    "df_c.columns"
   ]
  },
  {
   "cell_type": "code",
   "execution_count": null,
   "metadata": {
    "id": "sV2EDSAzFFoI"
   },
   "outputs": [],
   "source": [
    "#Удалим ненужные колонки.\n",
    "df_c = df_c.drop(['url', 'region', 'region_url', 'price', 'year', 'manufacturer', 'model', 'fuel', 'odometer', 'title_status', 'transmission', 'image_url', 'description', 'state', 'lat', 'long', 'posting_date', 'date', 'odometer/price', 'region_n', 'model_n', 'description_len'], axis=1)"
   ]
  },
  {
   "cell_type": "code",
   "execution_count": null,
   "metadata": {
    "colab": {
     "base_uri": "https://localhost:8080/"
    },
    "executionInfo": {
     "elapsed": 23,
     "status": "ok",
     "timestamp": 1679046996560,
     "user": {
      "displayName": "Юрий Осипов",
      "userId": "08137226283067646882"
     },
     "user_tz": -180
    },
    "id": "CK1COsFxFIy4",
    "outputId": "1064579c-3ab5-403c-c715-9ae6b44447b6"
   },
   "outputs": [
    {
     "data": {
      "text/html": [
       "\n",
       "  <div id=\"df-895f2234-2640-44fa-9895-284f10dec9a9\">\n",
       "    <div class=\"colab-df-container\">\n",
       "      <div>\n",
       "<style scoped>\n",
       "    .dataframe tbody tr th:only-of-type {\n",
       "        vertical-align: middle;\n",
       "    }\n",
       "\n",
       "    .dataframe tbody tr th {\n",
       "        vertical-align: top;\n",
       "    }\n",
       "\n",
       "    .dataframe thead th {\n",
       "        text-align: right;\n",
       "    }\n",
       "</style>\n",
       "<table border=\"1\" class=\"dataframe\">\n",
       "  <thead>\n",
       "    <tr style=\"text-align: right;\">\n",
       "      <th></th>\n",
       "      <th>price_category</th>\n",
       "      <th>lb_manufacturer</th>\n",
       "      <th>lb_region</th>\n",
       "      <th>lb_model</th>\n",
       "      <th>lat_std</th>\n",
       "      <th>long_std</th>\n",
       "      <th>year_std</th>\n",
       "      <th>odometer/price_std</th>\n",
       "      <th>description_len_std</th>\n",
       "      <th>price_mm</th>\n",
       "      <th>...</th>\n",
       "      <th>fuel_other</th>\n",
       "      <th>transmission_automatic</th>\n",
       "      <th>transmission_manual</th>\n",
       "      <th>transmission_other</th>\n",
       "      <th>title_status_clean</th>\n",
       "      <th>title_status_lien</th>\n",
       "      <th>title_status_missing</th>\n",
       "      <th>title_status_parts only</th>\n",
       "      <th>title_status_rebuilt</th>\n",
       "      <th>title_status_salvage</th>\n",
       "    </tr>\n",
       "    <tr>\n",
       "      <th>id</th>\n",
       "      <th></th>\n",
       "      <th></th>\n",
       "      <th></th>\n",
       "      <th></th>\n",
       "      <th></th>\n",
       "      <th></th>\n",
       "      <th></th>\n",
       "      <th></th>\n",
       "      <th></th>\n",
       "      <th></th>\n",
       "      <th></th>\n",
       "      <th></th>\n",
       "      <th></th>\n",
       "      <th></th>\n",
       "      <th></th>\n",
       "      <th></th>\n",
       "      <th></th>\n",
       "      <th></th>\n",
       "      <th></th>\n",
       "      <th></th>\n",
       "      <th></th>\n",
       "    </tr>\n",
       "  </thead>\n",
       "  <tbody>\n",
       "    <tr>\n",
       "      <th>7308295377</th>\n",
       "      <td>2</td>\n",
       "      <td>32</td>\n",
       "      <td>60</td>\n",
       "      <td>36</td>\n",
       "      <td>-0.667802</td>\n",
       "      <td>0.490901</td>\n",
       "      <td>0.934509</td>\n",
       "      <td>-0.513902</td>\n",
       "      <td>0.596306</td>\n",
       "      <td>0.178952</td>\n",
       "      <td>...</td>\n",
       "      <td>0.0</td>\n",
       "      <td>0.0</td>\n",
       "      <td>0.0</td>\n",
       "      <td>1.0</td>\n",
       "      <td>1.0</td>\n",
       "      <td>0.0</td>\n",
       "      <td>0.0</td>\n",
       "      <td>0.0</td>\n",
       "      <td>0.0</td>\n",
       "      <td>0.0</td>\n",
       "    </tr>\n",
       "    <tr>\n",
       "      <th>7316380095</th>\n",
       "      <td>1</td>\n",
       "      <td>12</td>\n",
       "      <td>238</td>\n",
       "      <td>449</td>\n",
       "      <td>0.444893</td>\n",
       "      <td>1.170846</td>\n",
       "      <td>0.521155</td>\n",
       "      <td>-0.398526</td>\n",
       "      <td>-0.664938</td>\n",
       "      <td>0.053998</td>\n",
       "      <td>...</td>\n",
       "      <td>0.0</td>\n",
       "      <td>1.0</td>\n",
       "      <td>0.0</td>\n",
       "      <td>0.0</td>\n",
       "      <td>1.0</td>\n",
       "      <td>0.0</td>\n",
       "      <td>0.0</td>\n",
       "      <td>0.0</td>\n",
       "      <td>0.0</td>\n",
       "      <td>0.0</td>\n",
       "    </tr>\n",
       "    <tr>\n",
       "      <th>7313733749</th>\n",
       "      <td>2</td>\n",
       "      <td>38</td>\n",
       "      <td>290</td>\n",
       "      <td>539</td>\n",
       "      <td>-0.915141</td>\n",
       "      <td>0.541841</td>\n",
       "      <td>0.624493</td>\n",
       "      <td>-0.517856</td>\n",
       "      <td>0.525958</td>\n",
       "      <td>0.115240</td>\n",
       "      <td>...</td>\n",
       "      <td>0.0</td>\n",
       "      <td>0.0</td>\n",
       "      <td>0.0</td>\n",
       "      <td>1.0</td>\n",
       "      <td>1.0</td>\n",
       "      <td>0.0</td>\n",
       "      <td>0.0</td>\n",
       "      <td>0.0</td>\n",
       "      <td>0.0</td>\n",
       "      <td>0.0</td>\n",
       "    </tr>\n",
       "    <tr>\n",
       "      <th>7308210929</th>\n",
       "      <td>1</td>\n",
       "      <td>37</td>\n",
       "      <td>110</td>\n",
       "      <td>742</td>\n",
       "      <td>-0.541127</td>\n",
       "      <td>0.891689</td>\n",
       "      <td>0.211139</td>\n",
       "      <td>-0.226203</td>\n",
       "      <td>0.150887</td>\n",
       "      <td>0.045978</td>\n",
       "      <td>...</td>\n",
       "      <td>0.0</td>\n",
       "      <td>1.0</td>\n",
       "      <td>0.0</td>\n",
       "      <td>0.0</td>\n",
       "      <td>1.0</td>\n",
       "      <td>0.0</td>\n",
       "      <td>0.0</td>\n",
       "      <td>0.0</td>\n",
       "      <td>0.0</td>\n",
       "      <td>0.0</td>\n",
       "    </tr>\n",
       "    <tr>\n",
       "      <th>7316474668</th>\n",
       "      <td>1</td>\n",
       "      <td>28</td>\n",
       "      <td>241</td>\n",
       "      <td>231</td>\n",
       "      <td>0.412642</td>\n",
       "      <td>1.198332</td>\n",
       "      <td>1.037848</td>\n",
       "      <td>-0.518908</td>\n",
       "      <td>-0.819274</td>\n",
       "      <td>0.069952</td>\n",
       "      <td>...</td>\n",
       "      <td>0.0</td>\n",
       "      <td>1.0</td>\n",
       "      <td>0.0</td>\n",
       "      <td>0.0</td>\n",
       "      <td>1.0</td>\n",
       "      <td>0.0</td>\n",
       "      <td>0.0</td>\n",
       "      <td>0.0</td>\n",
       "      <td>0.0</td>\n",
       "      <td>0.0</td>\n",
       "    </tr>\n",
       "  </tbody>\n",
       "</table>\n",
       "<p>5 rows × 25 columns</p>\n",
       "</div>\n",
       "      <button class=\"colab-df-convert\" onclick=\"convertToInteractive('df-895f2234-2640-44fa-9895-284f10dec9a9')\"\n",
       "              title=\"Convert this dataframe to an interactive table.\"\n",
       "              style=\"display:none;\">\n",
       "        \n",
       "  <svg xmlns=\"http://www.w3.org/2000/svg\" height=\"24px\"viewBox=\"0 0 24 24\"\n",
       "       width=\"24px\">\n",
       "    <path d=\"M0 0h24v24H0V0z\" fill=\"none\"/>\n",
       "    <path d=\"M18.56 5.44l.94 2.06.94-2.06 2.06-.94-2.06-.94-.94-2.06-.94 2.06-2.06.94zm-11 1L8.5 8.5l.94-2.06 2.06-.94-2.06-.94L8.5 2.5l-.94 2.06-2.06.94zm10 10l.94 2.06.94-2.06 2.06-.94-2.06-.94-.94-2.06-.94 2.06-2.06.94z\"/><path d=\"M17.41 7.96l-1.37-1.37c-.4-.4-.92-.59-1.43-.59-.52 0-1.04.2-1.43.59L10.3 9.45l-7.72 7.72c-.78.78-.78 2.05 0 2.83L4 21.41c.39.39.9.59 1.41.59.51 0 1.02-.2 1.41-.59l7.78-7.78 2.81-2.81c.8-.78.8-2.07 0-2.86zM5.41 20L4 18.59l7.72-7.72 1.47 1.35L5.41 20z\"/>\n",
       "  </svg>\n",
       "      </button>\n",
       "      \n",
       "  <style>\n",
       "    .colab-df-container {\n",
       "      display:flex;\n",
       "      flex-wrap:wrap;\n",
       "      gap: 12px;\n",
       "    }\n",
       "\n",
       "    .colab-df-convert {\n",
       "      background-color: #E8F0FE;\n",
       "      border: none;\n",
       "      border-radius: 50%;\n",
       "      cursor: pointer;\n",
       "      display: none;\n",
       "      fill: #1967D2;\n",
       "      height: 32px;\n",
       "      padding: 0 0 0 0;\n",
       "      width: 32px;\n",
       "    }\n",
       "\n",
       "    .colab-df-convert:hover {\n",
       "      background-color: #E2EBFA;\n",
       "      box-shadow: 0px 1px 2px rgba(60, 64, 67, 0.3), 0px 1px 3px 1px rgba(60, 64, 67, 0.15);\n",
       "      fill: #174EA6;\n",
       "    }\n",
       "\n",
       "    [theme=dark] .colab-df-convert {\n",
       "      background-color: #3B4455;\n",
       "      fill: #D2E3FC;\n",
       "    }\n",
       "\n",
       "    [theme=dark] .colab-df-convert:hover {\n",
       "      background-color: #434B5C;\n",
       "      box-shadow: 0px 1px 3px 1px rgba(0, 0, 0, 0.15);\n",
       "      filter: drop-shadow(0px 1px 2px rgba(0, 0, 0, 0.3));\n",
       "      fill: #FFFFFF;\n",
       "    }\n",
       "  </style>\n",
       "\n",
       "      <script>\n",
       "        const buttonEl =\n",
       "          document.querySelector('#df-895f2234-2640-44fa-9895-284f10dec9a9 button.colab-df-convert');\n",
       "        buttonEl.style.display =\n",
       "          google.colab.kernel.accessAllowed ? 'block' : 'none';\n",
       "\n",
       "        async function convertToInteractive(key) {\n",
       "          const element = document.querySelector('#df-895f2234-2640-44fa-9895-284f10dec9a9');\n",
       "          const dataTable =\n",
       "            await google.colab.kernel.invokeFunction('convertToInteractive',\n",
       "                                                     [key], {});\n",
       "          if (!dataTable) return;\n",
       "\n",
       "          const docLinkHtml = 'Like what you see? Visit the ' +\n",
       "            '<a target=\"_blank\" href=https://colab.research.google.com/notebooks/data_table.ipynb>data table notebook</a>'\n",
       "            + ' to learn more about interactive tables.';\n",
       "          element.innerHTML = '';\n",
       "          dataTable['output_type'] = 'display_data';\n",
       "          await google.colab.output.renderOutput(dataTable, element);\n",
       "          const docLink = document.createElement('div');\n",
       "          docLink.innerHTML = docLinkHtml;\n",
       "          element.appendChild(docLink);\n",
       "        }\n",
       "      </script>\n",
       "    </div>\n",
       "  </div>\n",
       "  "
      ],
      "text/plain": [
       "            price_category  lb_manufacturer  lb_region  lb_model   lat_std  \\\n",
       "id                                                                           \n",
       "7308295377               2               32         60        36 -0.667802   \n",
       "7316380095               1               12        238       449  0.444893   \n",
       "7313733749               2               38        290       539 -0.915141   \n",
       "7308210929               1               37        110       742 -0.541127   \n",
       "7316474668               1               28        241       231  0.412642   \n",
       "\n",
       "            long_std  year_std  odometer/price_std  description_len_std  \\\n",
       "id                                                                        \n",
       "7308295377  0.490901  0.934509           -0.513902             0.596306   \n",
       "7316380095  1.170846  0.521155           -0.398526            -0.664938   \n",
       "7313733749  0.541841  0.624493           -0.517856             0.525958   \n",
       "7308210929  0.891689  0.211139           -0.226203             0.150887   \n",
       "7316474668  1.198332  1.037848           -0.518908            -0.819274   \n",
       "\n",
       "            price_mm  ...  fuel_other  transmission_automatic  \\\n",
       "id                    ...                                       \n",
       "7308295377  0.178952  ...         0.0                     0.0   \n",
       "7316380095  0.053998  ...         0.0                     1.0   \n",
       "7313733749  0.115240  ...         0.0                     0.0   \n",
       "7308210929  0.045978  ...         0.0                     1.0   \n",
       "7316474668  0.069952  ...         0.0                     1.0   \n",
       "\n",
       "            transmission_manual  transmission_other  title_status_clean  \\\n",
       "id                                                                        \n",
       "7308295377                  0.0                 1.0                 1.0   \n",
       "7316380095                  0.0                 0.0                 1.0   \n",
       "7313733749                  0.0                 1.0                 1.0   \n",
       "7308210929                  0.0                 0.0                 1.0   \n",
       "7316474668                  0.0                 0.0                 1.0   \n",
       "\n",
       "            title_status_lien  title_status_missing  title_status_parts only  \\\n",
       "id                                                                             \n",
       "7308295377                0.0                   0.0                      0.0   \n",
       "7316380095                0.0                   0.0                      0.0   \n",
       "7313733749                0.0                   0.0                      0.0   \n",
       "7308210929                0.0                   0.0                      0.0   \n",
       "7316474668                0.0                   0.0                      0.0   \n",
       "\n",
       "            title_status_rebuilt  title_status_salvage  \n",
       "id                                                      \n",
       "7308295377                   0.0                   0.0  \n",
       "7316380095                   0.0                   0.0  \n",
       "7313733749                   0.0                   0.0  \n",
       "7308210929                   0.0                   0.0  \n",
       "7316474668                   0.0                   0.0  \n",
       "\n",
       "[5 rows x 25 columns]"
      ]
     },
     "execution_count": 132,
     "metadata": {},
     "output_type": "execute_result"
    }
   ],
   "source": [
    "df_c.head()"
   ]
  },
  {
   "cell_type": "code",
   "execution_count": null,
   "metadata": {
    "id": "7Ny1mXTaG6d-"
   },
   "outputs": [],
   "source": [
    "df_c.to_csv('df_ready_for_modeling')"
   ]
  },
  {
   "cell_type": "markdown",
   "metadata": {
    "id": "zXKAC4DmAwMQ"
   },
   "source": [
    "## Modeling"
   ]
  },
  {
   "cell_type": "code",
   "execution_count": null,
   "metadata": {
    "colab": {
     "base_uri": "https://localhost:8080/"
    },
    "executionInfo": {
     "elapsed": 7,
     "status": "ok",
     "timestamp": 1679047223693,
     "user": {
      "displayName": "Юрий Осипов",
      "userId": "08137226283067646882"
     },
     "user_tz": -180
    },
    "id": "Q31qYRHBA0mQ",
    "outputId": "3d7376a4-fe43-4958-e365-0a4495af2cd7"
   },
   "outputs": [
    {
     "data": {
      "text/html": [
       "\n",
       "  <div id=\"df-bbfdd1d0-09bc-447b-9811-bd08ed486fc2\">\n",
       "    <div class=\"colab-df-container\">\n",
       "      <div>\n",
       "<style scoped>\n",
       "    .dataframe tbody tr th:only-of-type {\n",
       "        vertical-align: middle;\n",
       "    }\n",
       "\n",
       "    .dataframe tbody tr th {\n",
       "        vertical-align: top;\n",
       "    }\n",
       "\n",
       "    .dataframe thead th {\n",
       "        text-align: right;\n",
       "    }\n",
       "</style>\n",
       "<table border=\"1\" class=\"dataframe\">\n",
       "  <thead>\n",
       "    <tr style=\"text-align: right;\">\n",
       "      <th></th>\n",
       "      <th>price_category</th>\n",
       "      <th>lb_manufacturer</th>\n",
       "      <th>lb_region</th>\n",
       "      <th>lb_model</th>\n",
       "      <th>lat_std</th>\n",
       "      <th>long_std</th>\n",
       "      <th>year_std</th>\n",
       "      <th>odometer/price_std</th>\n",
       "      <th>description_len_std</th>\n",
       "      <th>price_mm</th>\n",
       "      <th>...</th>\n",
       "      <th>fuel_other</th>\n",
       "      <th>transmission_automatic</th>\n",
       "      <th>transmission_manual</th>\n",
       "      <th>transmission_other</th>\n",
       "      <th>title_status_clean</th>\n",
       "      <th>title_status_lien</th>\n",
       "      <th>title_status_missing</th>\n",
       "      <th>title_status_parts only</th>\n",
       "      <th>title_status_rebuilt</th>\n",
       "      <th>title_status_salvage</th>\n",
       "    </tr>\n",
       "    <tr>\n",
       "      <th>id</th>\n",
       "      <th></th>\n",
       "      <th></th>\n",
       "      <th></th>\n",
       "      <th></th>\n",
       "      <th></th>\n",
       "      <th></th>\n",
       "      <th></th>\n",
       "      <th></th>\n",
       "      <th></th>\n",
       "      <th></th>\n",
       "      <th></th>\n",
       "      <th></th>\n",
       "      <th></th>\n",
       "      <th></th>\n",
       "      <th></th>\n",
       "      <th></th>\n",
       "      <th></th>\n",
       "      <th></th>\n",
       "      <th></th>\n",
       "      <th></th>\n",
       "      <th></th>\n",
       "    </tr>\n",
       "  </thead>\n",
       "  <tbody>\n",
       "    <tr>\n",
       "      <th>7308295377</th>\n",
       "      <td>2</td>\n",
       "      <td>32</td>\n",
       "      <td>60</td>\n",
       "      <td>36</td>\n",
       "      <td>-0.667802</td>\n",
       "      <td>0.490901</td>\n",
       "      <td>0.934509</td>\n",
       "      <td>-0.513902</td>\n",
       "      <td>0.596306</td>\n",
       "      <td>0.178952</td>\n",
       "      <td>...</td>\n",
       "      <td>0.0</td>\n",
       "      <td>0.0</td>\n",
       "      <td>0.0</td>\n",
       "      <td>1.0</td>\n",
       "      <td>1.0</td>\n",
       "      <td>0.0</td>\n",
       "      <td>0.0</td>\n",
       "      <td>0.0</td>\n",
       "      <td>0.0</td>\n",
       "      <td>0.0</td>\n",
       "    </tr>\n",
       "    <tr>\n",
       "      <th>7316380095</th>\n",
       "      <td>1</td>\n",
       "      <td>12</td>\n",
       "      <td>238</td>\n",
       "      <td>449</td>\n",
       "      <td>0.444893</td>\n",
       "      <td>1.170846</td>\n",
       "      <td>0.521155</td>\n",
       "      <td>-0.398526</td>\n",
       "      <td>-0.664938</td>\n",
       "      <td>0.053998</td>\n",
       "      <td>...</td>\n",
       "      <td>0.0</td>\n",
       "      <td>1.0</td>\n",
       "      <td>0.0</td>\n",
       "      <td>0.0</td>\n",
       "      <td>1.0</td>\n",
       "      <td>0.0</td>\n",
       "      <td>0.0</td>\n",
       "      <td>0.0</td>\n",
       "      <td>0.0</td>\n",
       "      <td>0.0</td>\n",
       "    </tr>\n",
       "    <tr>\n",
       "      <th>7313733749</th>\n",
       "      <td>2</td>\n",
       "      <td>38</td>\n",
       "      <td>290</td>\n",
       "      <td>539</td>\n",
       "      <td>-0.915141</td>\n",
       "      <td>0.541841</td>\n",
       "      <td>0.624493</td>\n",
       "      <td>-0.517856</td>\n",
       "      <td>0.525958</td>\n",
       "      <td>0.115240</td>\n",
       "      <td>...</td>\n",
       "      <td>0.0</td>\n",
       "      <td>0.0</td>\n",
       "      <td>0.0</td>\n",
       "      <td>1.0</td>\n",
       "      <td>1.0</td>\n",
       "      <td>0.0</td>\n",
       "      <td>0.0</td>\n",
       "      <td>0.0</td>\n",
       "      <td>0.0</td>\n",
       "      <td>0.0</td>\n",
       "    </tr>\n",
       "    <tr>\n",
       "      <th>7308210929</th>\n",
       "      <td>1</td>\n",
       "      <td>37</td>\n",
       "      <td>110</td>\n",
       "      <td>742</td>\n",
       "      <td>-0.541127</td>\n",
       "      <td>0.891689</td>\n",
       "      <td>0.211139</td>\n",
       "      <td>-0.226203</td>\n",
       "      <td>0.150887</td>\n",
       "      <td>0.045978</td>\n",
       "      <td>...</td>\n",
       "      <td>0.0</td>\n",
       "      <td>1.0</td>\n",
       "      <td>0.0</td>\n",
       "      <td>0.0</td>\n",
       "      <td>1.0</td>\n",
       "      <td>0.0</td>\n",
       "      <td>0.0</td>\n",
       "      <td>0.0</td>\n",
       "      <td>0.0</td>\n",
       "      <td>0.0</td>\n",
       "    </tr>\n",
       "    <tr>\n",
       "      <th>7316474668</th>\n",
       "      <td>1</td>\n",
       "      <td>28</td>\n",
       "      <td>241</td>\n",
       "      <td>231</td>\n",
       "      <td>0.412642</td>\n",
       "      <td>1.198332</td>\n",
       "      <td>1.037848</td>\n",
       "      <td>-0.518908</td>\n",
       "      <td>-0.819274</td>\n",
       "      <td>0.069952</td>\n",
       "      <td>...</td>\n",
       "      <td>0.0</td>\n",
       "      <td>1.0</td>\n",
       "      <td>0.0</td>\n",
       "      <td>0.0</td>\n",
       "      <td>1.0</td>\n",
       "      <td>0.0</td>\n",
       "      <td>0.0</td>\n",
       "      <td>0.0</td>\n",
       "      <td>0.0</td>\n",
       "      <td>0.0</td>\n",
       "    </tr>\n",
       "  </tbody>\n",
       "</table>\n",
       "<p>5 rows × 25 columns</p>\n",
       "</div>\n",
       "      <button class=\"colab-df-convert\" onclick=\"convertToInteractive('df-bbfdd1d0-09bc-447b-9811-bd08ed486fc2')\"\n",
       "              title=\"Convert this dataframe to an interactive table.\"\n",
       "              style=\"display:none;\">\n",
       "        \n",
       "  <svg xmlns=\"http://www.w3.org/2000/svg\" height=\"24px\"viewBox=\"0 0 24 24\"\n",
       "       width=\"24px\">\n",
       "    <path d=\"M0 0h24v24H0V0z\" fill=\"none\"/>\n",
       "    <path d=\"M18.56 5.44l.94 2.06.94-2.06 2.06-.94-2.06-.94-.94-2.06-.94 2.06-2.06.94zm-11 1L8.5 8.5l.94-2.06 2.06-.94-2.06-.94L8.5 2.5l-.94 2.06-2.06.94zm10 10l.94 2.06.94-2.06 2.06-.94-2.06-.94-.94-2.06-.94 2.06-2.06.94z\"/><path d=\"M17.41 7.96l-1.37-1.37c-.4-.4-.92-.59-1.43-.59-.52 0-1.04.2-1.43.59L10.3 9.45l-7.72 7.72c-.78.78-.78 2.05 0 2.83L4 21.41c.39.39.9.59 1.41.59.51 0 1.02-.2 1.41-.59l7.78-7.78 2.81-2.81c.8-.78.8-2.07 0-2.86zM5.41 20L4 18.59l7.72-7.72 1.47 1.35L5.41 20z\"/>\n",
       "  </svg>\n",
       "      </button>\n",
       "      \n",
       "  <style>\n",
       "    .colab-df-container {\n",
       "      display:flex;\n",
       "      flex-wrap:wrap;\n",
       "      gap: 12px;\n",
       "    }\n",
       "\n",
       "    .colab-df-convert {\n",
       "      background-color: #E8F0FE;\n",
       "      border: none;\n",
       "      border-radius: 50%;\n",
       "      cursor: pointer;\n",
       "      display: none;\n",
       "      fill: #1967D2;\n",
       "      height: 32px;\n",
       "      padding: 0 0 0 0;\n",
       "      width: 32px;\n",
       "    }\n",
       "\n",
       "    .colab-df-convert:hover {\n",
       "      background-color: #E2EBFA;\n",
       "      box-shadow: 0px 1px 2px rgba(60, 64, 67, 0.3), 0px 1px 3px 1px rgba(60, 64, 67, 0.15);\n",
       "      fill: #174EA6;\n",
       "    }\n",
       "\n",
       "    [theme=dark] .colab-df-convert {\n",
       "      background-color: #3B4455;\n",
       "      fill: #D2E3FC;\n",
       "    }\n",
       "\n",
       "    [theme=dark] .colab-df-convert:hover {\n",
       "      background-color: #434B5C;\n",
       "      box-shadow: 0px 1px 3px 1px rgba(0, 0, 0, 0.15);\n",
       "      filter: drop-shadow(0px 1px 2px rgba(0, 0, 0, 0.3));\n",
       "      fill: #FFFFFF;\n",
       "    }\n",
       "  </style>\n",
       "\n",
       "      <script>\n",
       "        const buttonEl =\n",
       "          document.querySelector('#df-bbfdd1d0-09bc-447b-9811-bd08ed486fc2 button.colab-df-convert');\n",
       "        buttonEl.style.display =\n",
       "          google.colab.kernel.accessAllowed ? 'block' : 'none';\n",
       "\n",
       "        async function convertToInteractive(key) {\n",
       "          const element = document.querySelector('#df-bbfdd1d0-09bc-447b-9811-bd08ed486fc2');\n",
       "          const dataTable =\n",
       "            await google.colab.kernel.invokeFunction('convertToInteractive',\n",
       "                                                     [key], {});\n",
       "          if (!dataTable) return;\n",
       "\n",
       "          const docLinkHtml = 'Like what you see? Visit the ' +\n",
       "            '<a target=\"_blank\" href=https://colab.research.google.com/notebooks/data_table.ipynb>data table notebook</a>'\n",
       "            + ' to learn more about interactive tables.';\n",
       "          element.innerHTML = '';\n",
       "          dataTable['output_type'] = 'display_data';\n",
       "          await google.colab.output.renderOutput(dataTable, element);\n",
       "          const docLink = document.createElement('div');\n",
       "          docLink.innerHTML = docLinkHtml;\n",
       "          element.appendChild(docLink);\n",
       "        }\n",
       "      </script>\n",
       "    </div>\n",
       "  </div>\n",
       "  "
      ],
      "text/plain": [
       "            price_category  lb_manufacturer  lb_region  lb_model   lat_std  \\\n",
       "id                                                                           \n",
       "7308295377               2               32         60        36 -0.667802   \n",
       "7316380095               1               12        238       449  0.444893   \n",
       "7313733749               2               38        290       539 -0.915141   \n",
       "7308210929               1               37        110       742 -0.541127   \n",
       "7316474668               1               28        241       231  0.412642   \n",
       "\n",
       "            long_std  year_std  odometer/price_std  description_len_std  \\\n",
       "id                                                                        \n",
       "7308295377  0.490901  0.934509           -0.513902             0.596306   \n",
       "7316380095  1.170846  0.521155           -0.398526            -0.664938   \n",
       "7313733749  0.541841  0.624493           -0.517856             0.525958   \n",
       "7308210929  0.891689  0.211139           -0.226203             0.150887   \n",
       "7316474668  1.198332  1.037848           -0.518908            -0.819274   \n",
       "\n",
       "            price_mm  ...  fuel_other  transmission_automatic  \\\n",
       "id                    ...                                       \n",
       "7308295377  0.178952  ...         0.0                     0.0   \n",
       "7316380095  0.053998  ...         0.0                     1.0   \n",
       "7313733749  0.115240  ...         0.0                     0.0   \n",
       "7308210929  0.045978  ...         0.0                     1.0   \n",
       "7316474668  0.069952  ...         0.0                     1.0   \n",
       "\n",
       "            transmission_manual  transmission_other  title_status_clean  \\\n",
       "id                                                                        \n",
       "7308295377                  0.0                 1.0                 1.0   \n",
       "7316380095                  0.0                 0.0                 1.0   \n",
       "7313733749                  0.0                 1.0                 1.0   \n",
       "7308210929                  0.0                 0.0                 1.0   \n",
       "7316474668                  0.0                 0.0                 1.0   \n",
       "\n",
       "            title_status_lien  title_status_missing  title_status_parts only  \\\n",
       "id                                                                             \n",
       "7308295377                0.0                   0.0                      0.0   \n",
       "7316380095                0.0                   0.0                      0.0   \n",
       "7313733749                0.0                   0.0                      0.0   \n",
       "7308210929                0.0                   0.0                      0.0   \n",
       "7316474668                0.0                   0.0                      0.0   \n",
       "\n",
       "            title_status_rebuilt  title_status_salvage  \n",
       "id                                                      \n",
       "7308295377                   0.0                   0.0  \n",
       "7316380095                   0.0                   0.0  \n",
       "7313733749                   0.0                   0.0  \n",
       "7308210929                   0.0                   0.0  \n",
       "7316474668                   0.0                   0.0  \n",
       "\n",
       "[5 rows x 25 columns]"
      ]
     },
     "execution_count": 135,
     "metadata": {},
     "output_type": "execute_result"
    }
   ],
   "source": [
    "df_c.head()"
   ]
  },
  {
   "cell_type": "code",
   "execution_count": null,
   "metadata": {
    "id": "IWR_7pXTA2I7"
   },
   "outputs": [],
   "source": [
    "#Инициализируем фичи и целевую переменную.\n",
    "x = df_c.drop('price_category', axis=1)\n",
    "y = df_c.price_category"
   ]
  },
  {
   "cell_type": "code",
   "execution_count": null,
   "metadata": {
    "id": "mlRB74nCBBeU"
   },
   "outputs": [],
   "source": [
    "#Разбиваем датафрейм на тренировочную и тестовую выборки.\n",
    "x_train, x_test, y_train, y_test = train_test_split(x, y, test_size=0.3, random_state=42)"
   ]
  },
  {
   "cell_type": "code",
   "execution_count": null,
   "metadata": {
    "id": "hn7oobkFKWgS"
   },
   "outputs": [],
   "source": [
    "clf = RandomForestClassifier(random_state=42)\n",
    "log = LogisticRegression(C = 2.5, penalty = 'l2', solver = 'newton-cg')\n",
    "mlp = MLPClassifier(random_state=42, max_iter=500)"
   ]
  },
  {
   "cell_type": "code",
   "execution_count": null,
   "metadata": {
    "id": "kzt8Z9MJKWi9"
   },
   "outputs": [],
   "source": [
    "#Проведем кросс валидацию среди трех моделей, чтобы выбрать лучшую.\n",
    "cv_score_clf = cross_val_score(clf, x_train, y_train, cv=4)\n",
    "res_clf = [cv_score_clf.mean(), cv_score_clf.std()]"
   ]
  },
  {
   "cell_type": "code",
   "execution_count": null,
   "metadata": {
    "id": "1PgnYYQ3Lcm9"
   },
   "outputs": [],
   "source": [
    "cv_score_log = cross_val_score(log, x_train, y_train, cv=4)\n",
    "res_log = [cv_score_log.mean(), cv_score_log.std()]"
   ]
  },
  {
   "cell_type": "code",
   "execution_count": null,
   "metadata": {
    "id": "hKNX1-rdMqXw"
   },
   "outputs": [],
   "source": [
    "cv_score_mlp = cross_val_score(mlp, x_train, y_train, cv=4)\n",
    "res_mlp = [cv_score_mlp.mean(), cv_score_mlp.std()]"
   ]
  },
  {
   "cell_type": "code",
   "execution_count": null,
   "metadata": {
    "colab": {
     "base_uri": "https://localhost:8080/"
    },
    "executionInfo": {
     "elapsed": 515,
     "status": "ok",
     "timestamp": 1679050578109,
     "user": {
      "displayName": "Юрий Осипов",
      "userId": "08137226283067646882"
     },
     "user_tz": -180
    },
    "id": "O_HMrcnHMwQf",
    "outputId": "d342470a-9dd5-43ee-9b36-edcb345b7750"
   },
   "outputs": [
    {
     "name": "stdout",
     "output_type": "stream",
     "text": [
      "clf = [0.9997063142184284, 0.00029368580690241497], log = [0.9386207066675039, 0.005752052863311964], mlp = [0.7534494494750055, 0.032175142946325445]\n"
     ]
    }
   ],
   "source": [
    "print(f'clf = {res_clf}, log = {res_log}, mlp = {res_mlp}')"
   ]
  },
  {
   "cell_type": "code",
   "execution_count": null,
   "metadata": {
    "colab": {
     "base_uri": "https://localhost:8080/"
    },
    "executionInfo": {
     "elapsed": 1075,
     "status": "ok",
     "timestamp": 1679050589249,
     "user": {
      "displayName": "Юрий Осипов",
      "userId": "08137226283067646882"
     },
     "user_tz": -180
    },
    "id": "VfqD-7unBEBe",
    "outputId": "b945aed1-a1e2-401c-ede0-136932e6baad"
   },
   "outputs": [
    {
     "data": {
      "text/html": [
       "<style>#sk-container-id-7 {color: black;background-color: white;}#sk-container-id-7 pre{padding: 0;}#sk-container-id-7 div.sk-toggleable {background-color: white;}#sk-container-id-7 label.sk-toggleable__label {cursor: pointer;display: block;width: 100%;margin-bottom: 0;padding: 0.3em;box-sizing: border-box;text-align: center;}#sk-container-id-7 label.sk-toggleable__label-arrow:before {content: \"▸\";float: left;margin-right: 0.25em;color: #696969;}#sk-container-id-7 label.sk-toggleable__label-arrow:hover:before {color: black;}#sk-container-id-7 div.sk-estimator:hover label.sk-toggleable__label-arrow:before {color: black;}#sk-container-id-7 div.sk-toggleable__content {max-height: 0;max-width: 0;overflow: hidden;text-align: left;background-color: #f0f8ff;}#sk-container-id-7 div.sk-toggleable__content pre {margin: 0.2em;color: black;border-radius: 0.25em;background-color: #f0f8ff;}#sk-container-id-7 input.sk-toggleable__control:checked~div.sk-toggleable__content {max-height: 200px;max-width: 100%;overflow: auto;}#sk-container-id-7 input.sk-toggleable__control:checked~label.sk-toggleable__label-arrow:before {content: \"▾\";}#sk-container-id-7 div.sk-estimator input.sk-toggleable__control:checked~label.sk-toggleable__label {background-color: #d4ebff;}#sk-container-id-7 div.sk-label input.sk-toggleable__control:checked~label.sk-toggleable__label {background-color: #d4ebff;}#sk-container-id-7 input.sk-hidden--visually {border: 0;clip: rect(1px 1px 1px 1px);clip: rect(1px, 1px, 1px, 1px);height: 1px;margin: -1px;overflow: hidden;padding: 0;position: absolute;width: 1px;}#sk-container-id-7 div.sk-estimator {font-family: monospace;background-color: #f0f8ff;border: 1px dotted black;border-radius: 0.25em;box-sizing: border-box;margin-bottom: 0.5em;}#sk-container-id-7 div.sk-estimator:hover {background-color: #d4ebff;}#sk-container-id-7 div.sk-parallel-item::after {content: \"\";width: 100%;border-bottom: 1px solid gray;flex-grow: 1;}#sk-container-id-7 div.sk-label:hover label.sk-toggleable__label {background-color: #d4ebff;}#sk-container-id-7 div.sk-serial::before {content: \"\";position: absolute;border-left: 1px solid gray;box-sizing: border-box;top: 0;bottom: 0;left: 50%;z-index: 0;}#sk-container-id-7 div.sk-serial {display: flex;flex-direction: column;align-items: center;background-color: white;padding-right: 0.2em;padding-left: 0.2em;position: relative;}#sk-container-id-7 div.sk-item {position: relative;z-index: 1;}#sk-container-id-7 div.sk-parallel {display: flex;align-items: stretch;justify-content: center;background-color: white;position: relative;}#sk-container-id-7 div.sk-item::before, #sk-container-id-7 div.sk-parallel-item::before {content: \"\";position: absolute;border-left: 1px solid gray;box-sizing: border-box;top: 0;bottom: 0;left: 50%;z-index: -1;}#sk-container-id-7 div.sk-parallel-item {display: flex;flex-direction: column;z-index: 1;position: relative;background-color: white;}#sk-container-id-7 div.sk-parallel-item:first-child::after {align-self: flex-end;width: 50%;}#sk-container-id-7 div.sk-parallel-item:last-child::after {align-self: flex-start;width: 50%;}#sk-container-id-7 div.sk-parallel-item:only-child::after {width: 0;}#sk-container-id-7 div.sk-dashed-wrapped {border: 1px dashed gray;margin: 0 0.4em 0.5em 0.4em;box-sizing: border-box;padding-bottom: 0.4em;background-color: white;}#sk-container-id-7 div.sk-label label {font-family: monospace;font-weight: bold;display: inline-block;line-height: 1.2em;}#sk-container-id-7 div.sk-label-container {text-align: center;}#sk-container-id-7 div.sk-container {/* jupyter's `normalize.less` sets `[hidden] { display: none; }` but bootstrap.min.css set `[hidden] { display: none !important; }` so we also need the `!important` here to be able to override the default hidden behavior on the sphinx rendered scikit-learn.org. See: https://github.com/scikit-learn/scikit-learn/issues/21755 */display: inline-block !important;position: relative;}#sk-container-id-7 div.sk-text-repr-fallback {display: none;}</style><div id=\"sk-container-id-7\" class=\"sk-top-container\"><div class=\"sk-text-repr-fallback\"><pre>RandomForestClassifier(random_state=42)</pre><b>In a Jupyter environment, please rerun this cell to show the HTML representation or trust the notebook. <br />On GitHub, the HTML representation is unable to render, please try loading this page with nbviewer.org.</b></div><div class=\"sk-container\" hidden><div class=\"sk-item\"><div class=\"sk-estimator sk-toggleable\"><input class=\"sk-toggleable__control sk-hidden--visually\" id=\"sk-estimator-id-7\" type=\"checkbox\" checked><label for=\"sk-estimator-id-7\" class=\"sk-toggleable__label sk-toggleable__label-arrow\">RandomForestClassifier</label><div class=\"sk-toggleable__content\"><pre>RandomForestClassifier(random_state=42)</pre></div></div></div></div></div>"
      ],
      "text/plain": [
       "RandomForestClassifier(random_state=42)"
      ]
     },
     "execution_count": 187,
     "metadata": {},
     "output_type": "execute_result"
    }
   ],
   "source": [
    "#Модель случайного леса.\n",
    "clf = RandomForestClassifier(random_state=42)\n",
    "clf.fit(x_train, y_train)"
   ]
  },
  {
   "cell_type": "code",
   "execution_count": null,
   "metadata": {
    "colab": {
     "base_uri": "https://localhost:8080/"
    },
    "executionInfo": {
     "elapsed": 7,
     "status": "ok",
     "timestamp": 1679050596948,
     "user": {
      "displayName": "Юрий Осипов",
      "userId": "08137226283067646882"
     },
     "user_tz": -180
    },
    "id": "e0P2hOXCBPyE",
    "outputId": "ef2320b3-9f92-4df1-d54a-04625cc69472"
   },
   "outputs": [
    {
     "data": {
      "text/plain": [
       "0.999314833847208"
      ]
     },
     "execution_count": 189,
     "metadata": {},
     "output_type": "execute_result"
    }
   ],
   "source": [
    "clf_pred_test = clf.predict(x_test)\n",
    "accuracy_score(clf_pred_test, y_test)"
   ]
  },
  {
   "cell_type": "markdown",
   "metadata": {
    "id": "F1T10oopYqrF"
   },
   "source": [
    "Видим что модель не подверглась переобучению на тренировачных данных и демонстрирует отличные результаты на тестовой выборке."
   ]
  },
  {
   "cell_type": "markdown",
   "metadata": {
    "id": "zl2UQfbjN8U3"
   },
   "source": [
    "## Results\n"
   ]
  },
  {
   "cell_type": "markdown",
   "metadata": {
    "id": "8sqRtaF3OAkq"
   },
   "source": [
    "По резульататам кросс валидации и обучения модели на тестовой выборке, лучше всего себя показала модель случайного леса. Используем ее для обучения на всем датафрейме."
   ]
  },
  {
   "cell_type": "code",
   "execution_count": null,
   "metadata": {
    "colab": {
     "base_uri": "https://localhost:8080/"
    },
    "executionInfo": {
     "elapsed": 513,
     "status": "ok",
     "timestamp": 1679050744918,
     "user": {
      "displayName": "Юрий Осипов",
      "userId": "08137226283067646882"
     },
     "user_tz": -180
    },
    "id": "uwcWadPoONrU",
    "outputId": "a3e07d71-1112-47d9-ac64-b5af1dabb2e7"
   },
   "outputs": [
    {
     "data": {
      "text/html": [
       "\n",
       "  <div id=\"df-16295245-bd63-43cb-af82-b65cdd32a982\">\n",
       "    <div class=\"colab-df-container\">\n",
       "      <div>\n",
       "<style scoped>\n",
       "    .dataframe tbody tr th:only-of-type {\n",
       "        vertical-align: middle;\n",
       "    }\n",
       "\n",
       "    .dataframe tbody tr th {\n",
       "        vertical-align: top;\n",
       "    }\n",
       "\n",
       "    .dataframe thead th {\n",
       "        text-align: right;\n",
       "    }\n",
       "</style>\n",
       "<table border=\"1\" class=\"dataframe\">\n",
       "  <thead>\n",
       "    <tr style=\"text-align: right;\">\n",
       "      <th></th>\n",
       "      <th>price_category</th>\n",
       "      <th>lb_manufacturer</th>\n",
       "      <th>lb_region</th>\n",
       "      <th>lb_model</th>\n",
       "      <th>lat_std</th>\n",
       "      <th>long_std</th>\n",
       "      <th>year_std</th>\n",
       "      <th>odometer/price_std</th>\n",
       "      <th>description_len_std</th>\n",
       "      <th>price_mm</th>\n",
       "      <th>...</th>\n",
       "      <th>fuel_other</th>\n",
       "      <th>transmission_automatic</th>\n",
       "      <th>transmission_manual</th>\n",
       "      <th>transmission_other</th>\n",
       "      <th>title_status_clean</th>\n",
       "      <th>title_status_lien</th>\n",
       "      <th>title_status_missing</th>\n",
       "      <th>title_status_parts only</th>\n",
       "      <th>title_status_rebuilt</th>\n",
       "      <th>title_status_salvage</th>\n",
       "    </tr>\n",
       "    <tr>\n",
       "      <th>id</th>\n",
       "      <th></th>\n",
       "      <th></th>\n",
       "      <th></th>\n",
       "      <th></th>\n",
       "      <th></th>\n",
       "      <th></th>\n",
       "      <th></th>\n",
       "      <th></th>\n",
       "      <th></th>\n",
       "      <th></th>\n",
       "      <th></th>\n",
       "      <th></th>\n",
       "      <th></th>\n",
       "      <th></th>\n",
       "      <th></th>\n",
       "      <th></th>\n",
       "      <th></th>\n",
       "      <th></th>\n",
       "      <th></th>\n",
       "      <th></th>\n",
       "      <th></th>\n",
       "    </tr>\n",
       "  </thead>\n",
       "  <tbody>\n",
       "    <tr>\n",
       "      <th>7308295377</th>\n",
       "      <td>2</td>\n",
       "      <td>32</td>\n",
       "      <td>60</td>\n",
       "      <td>36</td>\n",
       "      <td>-0.667802</td>\n",
       "      <td>0.490901</td>\n",
       "      <td>0.934509</td>\n",
       "      <td>-0.513902</td>\n",
       "      <td>0.596306</td>\n",
       "      <td>0.178952</td>\n",
       "      <td>...</td>\n",
       "      <td>0.0</td>\n",
       "      <td>0.0</td>\n",
       "      <td>0.0</td>\n",
       "      <td>1.0</td>\n",
       "      <td>1.0</td>\n",
       "      <td>0.0</td>\n",
       "      <td>0.0</td>\n",
       "      <td>0.0</td>\n",
       "      <td>0.0</td>\n",
       "      <td>0.0</td>\n",
       "    </tr>\n",
       "    <tr>\n",
       "      <th>7316380095</th>\n",
       "      <td>1</td>\n",
       "      <td>12</td>\n",
       "      <td>238</td>\n",
       "      <td>449</td>\n",
       "      <td>0.444893</td>\n",
       "      <td>1.170846</td>\n",
       "      <td>0.521155</td>\n",
       "      <td>-0.398526</td>\n",
       "      <td>-0.664938</td>\n",
       "      <td>0.053998</td>\n",
       "      <td>...</td>\n",
       "      <td>0.0</td>\n",
       "      <td>1.0</td>\n",
       "      <td>0.0</td>\n",
       "      <td>0.0</td>\n",
       "      <td>1.0</td>\n",
       "      <td>0.0</td>\n",
       "      <td>0.0</td>\n",
       "      <td>0.0</td>\n",
       "      <td>0.0</td>\n",
       "      <td>0.0</td>\n",
       "    </tr>\n",
       "    <tr>\n",
       "      <th>7313733749</th>\n",
       "      <td>2</td>\n",
       "      <td>38</td>\n",
       "      <td>290</td>\n",
       "      <td>539</td>\n",
       "      <td>-0.915141</td>\n",
       "      <td>0.541841</td>\n",
       "      <td>0.624493</td>\n",
       "      <td>-0.517856</td>\n",
       "      <td>0.525958</td>\n",
       "      <td>0.115240</td>\n",
       "      <td>...</td>\n",
       "      <td>0.0</td>\n",
       "      <td>0.0</td>\n",
       "      <td>0.0</td>\n",
       "      <td>1.0</td>\n",
       "      <td>1.0</td>\n",
       "      <td>0.0</td>\n",
       "      <td>0.0</td>\n",
       "      <td>0.0</td>\n",
       "      <td>0.0</td>\n",
       "      <td>0.0</td>\n",
       "    </tr>\n",
       "    <tr>\n",
       "      <th>7308210929</th>\n",
       "      <td>1</td>\n",
       "      <td>37</td>\n",
       "      <td>110</td>\n",
       "      <td>742</td>\n",
       "      <td>-0.541127</td>\n",
       "      <td>0.891689</td>\n",
       "      <td>0.211139</td>\n",
       "      <td>-0.226203</td>\n",
       "      <td>0.150887</td>\n",
       "      <td>0.045978</td>\n",
       "      <td>...</td>\n",
       "      <td>0.0</td>\n",
       "      <td>1.0</td>\n",
       "      <td>0.0</td>\n",
       "      <td>0.0</td>\n",
       "      <td>1.0</td>\n",
       "      <td>0.0</td>\n",
       "      <td>0.0</td>\n",
       "      <td>0.0</td>\n",
       "      <td>0.0</td>\n",
       "      <td>0.0</td>\n",
       "    </tr>\n",
       "    <tr>\n",
       "      <th>7316474668</th>\n",
       "      <td>1</td>\n",
       "      <td>28</td>\n",
       "      <td>241</td>\n",
       "      <td>231</td>\n",
       "      <td>0.412642</td>\n",
       "      <td>1.198332</td>\n",
       "      <td>1.037848</td>\n",
       "      <td>-0.518908</td>\n",
       "      <td>-0.819274</td>\n",
       "      <td>0.069952</td>\n",
       "      <td>...</td>\n",
       "      <td>0.0</td>\n",
       "      <td>1.0</td>\n",
       "      <td>0.0</td>\n",
       "      <td>0.0</td>\n",
       "      <td>1.0</td>\n",
       "      <td>0.0</td>\n",
       "      <td>0.0</td>\n",
       "      <td>0.0</td>\n",
       "      <td>0.0</td>\n",
       "      <td>0.0</td>\n",
       "    </tr>\n",
       "  </tbody>\n",
       "</table>\n",
       "<p>5 rows × 25 columns</p>\n",
       "</div>\n",
       "      <button class=\"colab-df-convert\" onclick=\"convertToInteractive('df-16295245-bd63-43cb-af82-b65cdd32a982')\"\n",
       "              title=\"Convert this dataframe to an interactive table.\"\n",
       "              style=\"display:none;\">\n",
       "        \n",
       "  <svg xmlns=\"http://www.w3.org/2000/svg\" height=\"24px\"viewBox=\"0 0 24 24\"\n",
       "       width=\"24px\">\n",
       "    <path d=\"M0 0h24v24H0V0z\" fill=\"none\"/>\n",
       "    <path d=\"M18.56 5.44l.94 2.06.94-2.06 2.06-.94-2.06-.94-.94-2.06-.94 2.06-2.06.94zm-11 1L8.5 8.5l.94-2.06 2.06-.94-2.06-.94L8.5 2.5l-.94 2.06-2.06.94zm10 10l.94 2.06.94-2.06 2.06-.94-2.06-.94-.94-2.06-.94 2.06-2.06.94z\"/><path d=\"M17.41 7.96l-1.37-1.37c-.4-.4-.92-.59-1.43-.59-.52 0-1.04.2-1.43.59L10.3 9.45l-7.72 7.72c-.78.78-.78 2.05 0 2.83L4 21.41c.39.39.9.59 1.41.59.51 0 1.02-.2 1.41-.59l7.78-7.78 2.81-2.81c.8-.78.8-2.07 0-2.86zM5.41 20L4 18.59l7.72-7.72 1.47 1.35L5.41 20z\"/>\n",
       "  </svg>\n",
       "      </button>\n",
       "      \n",
       "  <style>\n",
       "    .colab-df-container {\n",
       "      display:flex;\n",
       "      flex-wrap:wrap;\n",
       "      gap: 12px;\n",
       "    }\n",
       "\n",
       "    .colab-df-convert {\n",
       "      background-color: #E8F0FE;\n",
       "      border: none;\n",
       "      border-radius: 50%;\n",
       "      cursor: pointer;\n",
       "      display: none;\n",
       "      fill: #1967D2;\n",
       "      height: 32px;\n",
       "      padding: 0 0 0 0;\n",
       "      width: 32px;\n",
       "    }\n",
       "\n",
       "    .colab-df-convert:hover {\n",
       "      background-color: #E2EBFA;\n",
       "      box-shadow: 0px 1px 2px rgba(60, 64, 67, 0.3), 0px 1px 3px 1px rgba(60, 64, 67, 0.15);\n",
       "      fill: #174EA6;\n",
       "    }\n",
       "\n",
       "    [theme=dark] .colab-df-convert {\n",
       "      background-color: #3B4455;\n",
       "      fill: #D2E3FC;\n",
       "    }\n",
       "\n",
       "    [theme=dark] .colab-df-convert:hover {\n",
       "      background-color: #434B5C;\n",
       "      box-shadow: 0px 1px 3px 1px rgba(0, 0, 0, 0.15);\n",
       "      filter: drop-shadow(0px 1px 2px rgba(0, 0, 0, 0.3));\n",
       "      fill: #FFFFFF;\n",
       "    }\n",
       "  </style>\n",
       "\n",
       "      <script>\n",
       "        const buttonEl =\n",
       "          document.querySelector('#df-16295245-bd63-43cb-af82-b65cdd32a982 button.colab-df-convert');\n",
       "        buttonEl.style.display =\n",
       "          google.colab.kernel.accessAllowed ? 'block' : 'none';\n",
       "\n",
       "        async function convertToInteractive(key) {\n",
       "          const element = document.querySelector('#df-16295245-bd63-43cb-af82-b65cdd32a982');\n",
       "          const dataTable =\n",
       "            await google.colab.kernel.invokeFunction('convertToInteractive',\n",
       "                                                     [key], {});\n",
       "          if (!dataTable) return;\n",
       "\n",
       "          const docLinkHtml = 'Like what you see? Visit the ' +\n",
       "            '<a target=\"_blank\" href=https://colab.research.google.com/notebooks/data_table.ipynb>data table notebook</a>'\n",
       "            + ' to learn more about interactive tables.';\n",
       "          element.innerHTML = '';\n",
       "          dataTable['output_type'] = 'display_data';\n",
       "          await google.colab.output.renderOutput(dataTable, element);\n",
       "          const docLink = document.createElement('div');\n",
       "          docLink.innerHTML = docLinkHtml;\n",
       "          element.appendChild(docLink);\n",
       "        }\n",
       "      </script>\n",
       "    </div>\n",
       "  </div>\n",
       "  "
      ],
      "text/plain": [
       "            price_category  lb_manufacturer  lb_region  lb_model   lat_std  \\\n",
       "id                                                                           \n",
       "7308295377               2               32         60        36 -0.667802   \n",
       "7316380095               1               12        238       449  0.444893   \n",
       "7313733749               2               38        290       539 -0.915141   \n",
       "7308210929               1               37        110       742 -0.541127   \n",
       "7316474668               1               28        241       231  0.412642   \n",
       "\n",
       "            long_std  year_std  odometer/price_std  description_len_std  \\\n",
       "id                                                                        \n",
       "7308295377  0.490901  0.934509           -0.513902             0.596306   \n",
       "7316380095  1.170846  0.521155           -0.398526            -0.664938   \n",
       "7313733749  0.541841  0.624493           -0.517856             0.525958   \n",
       "7308210929  0.891689  0.211139           -0.226203             0.150887   \n",
       "7316474668  1.198332  1.037848           -0.518908            -0.819274   \n",
       "\n",
       "            price_mm  ...  fuel_other  transmission_automatic  \\\n",
       "id                    ...                                       \n",
       "7308295377  0.178952  ...         0.0                     0.0   \n",
       "7316380095  0.053998  ...         0.0                     1.0   \n",
       "7313733749  0.115240  ...         0.0                     0.0   \n",
       "7308210929  0.045978  ...         0.0                     1.0   \n",
       "7316474668  0.069952  ...         0.0                     1.0   \n",
       "\n",
       "            transmission_manual  transmission_other  title_status_clean  \\\n",
       "id                                                                        \n",
       "7308295377                  0.0                 1.0                 1.0   \n",
       "7316380095                  0.0                 0.0                 1.0   \n",
       "7313733749                  0.0                 1.0                 1.0   \n",
       "7308210929                  0.0                 0.0                 1.0   \n",
       "7316474668                  0.0                 0.0                 1.0   \n",
       "\n",
       "            title_status_lien  title_status_missing  title_status_parts only  \\\n",
       "id                                                                             \n",
       "7308295377                0.0                   0.0                      0.0   \n",
       "7316380095                0.0                   0.0                      0.0   \n",
       "7313733749                0.0                   0.0                      0.0   \n",
       "7308210929                0.0                   0.0                      0.0   \n",
       "7316474668                0.0                   0.0                      0.0   \n",
       "\n",
       "            title_status_rebuilt  title_status_salvage  \n",
       "id                                                      \n",
       "7308295377                   0.0                   0.0  \n",
       "7316380095                   0.0                   0.0  \n",
       "7313733749                   0.0                   0.0  \n",
       "7308210929                   0.0                   0.0  \n",
       "7316474668                   0.0                   0.0  \n",
       "\n",
       "[5 rows x 25 columns]"
      ]
     },
     "execution_count": 190,
     "metadata": {},
     "output_type": "execute_result"
    }
   ],
   "source": [
    "df_c.head()"
   ]
  },
  {
   "cell_type": "code",
   "execution_count": null,
   "metadata": {
    "id": "zZdS0-LxOR9r"
   },
   "outputs": [],
   "source": [
    "x = df_c.drop('price_category', axis=1)\n",
    "y = df_c.price_category"
   ]
  },
  {
   "cell_type": "code",
   "execution_count": null,
   "metadata": {
    "colab": {
     "base_uri": "https://localhost:8080/"
    },
    "executionInfo": {
     "elapsed": 1508,
     "status": "ok",
     "timestamp": 1679050838529,
     "user": {
      "displayName": "Юрий Осипов",
      "userId": "08137226283067646882"
     },
     "user_tz": -180
    },
    "id": "4XbeoQ7FOefG",
    "outputId": "796f0a30-8b56-46ad-fa6f-48ad8b0202c5"
   },
   "outputs": [
    {
     "data": {
      "text/html": [
       "<style>#sk-container-id-8 {color: black;background-color: white;}#sk-container-id-8 pre{padding: 0;}#sk-container-id-8 div.sk-toggleable {background-color: white;}#sk-container-id-8 label.sk-toggleable__label {cursor: pointer;display: block;width: 100%;margin-bottom: 0;padding: 0.3em;box-sizing: border-box;text-align: center;}#sk-container-id-8 label.sk-toggleable__label-arrow:before {content: \"▸\";float: left;margin-right: 0.25em;color: #696969;}#sk-container-id-8 label.sk-toggleable__label-arrow:hover:before {color: black;}#sk-container-id-8 div.sk-estimator:hover label.sk-toggleable__label-arrow:before {color: black;}#sk-container-id-8 div.sk-toggleable__content {max-height: 0;max-width: 0;overflow: hidden;text-align: left;background-color: #f0f8ff;}#sk-container-id-8 div.sk-toggleable__content pre {margin: 0.2em;color: black;border-radius: 0.25em;background-color: #f0f8ff;}#sk-container-id-8 input.sk-toggleable__control:checked~div.sk-toggleable__content {max-height: 200px;max-width: 100%;overflow: auto;}#sk-container-id-8 input.sk-toggleable__control:checked~label.sk-toggleable__label-arrow:before {content: \"▾\";}#sk-container-id-8 div.sk-estimator input.sk-toggleable__control:checked~label.sk-toggleable__label {background-color: #d4ebff;}#sk-container-id-8 div.sk-label input.sk-toggleable__control:checked~label.sk-toggleable__label {background-color: #d4ebff;}#sk-container-id-8 input.sk-hidden--visually {border: 0;clip: rect(1px 1px 1px 1px);clip: rect(1px, 1px, 1px, 1px);height: 1px;margin: -1px;overflow: hidden;padding: 0;position: absolute;width: 1px;}#sk-container-id-8 div.sk-estimator {font-family: monospace;background-color: #f0f8ff;border: 1px dotted black;border-radius: 0.25em;box-sizing: border-box;margin-bottom: 0.5em;}#sk-container-id-8 div.sk-estimator:hover {background-color: #d4ebff;}#sk-container-id-8 div.sk-parallel-item::after {content: \"\";width: 100%;border-bottom: 1px solid gray;flex-grow: 1;}#sk-container-id-8 div.sk-label:hover label.sk-toggleable__label {background-color: #d4ebff;}#sk-container-id-8 div.sk-serial::before {content: \"\";position: absolute;border-left: 1px solid gray;box-sizing: border-box;top: 0;bottom: 0;left: 50%;z-index: 0;}#sk-container-id-8 div.sk-serial {display: flex;flex-direction: column;align-items: center;background-color: white;padding-right: 0.2em;padding-left: 0.2em;position: relative;}#sk-container-id-8 div.sk-item {position: relative;z-index: 1;}#sk-container-id-8 div.sk-parallel {display: flex;align-items: stretch;justify-content: center;background-color: white;position: relative;}#sk-container-id-8 div.sk-item::before, #sk-container-id-8 div.sk-parallel-item::before {content: \"\";position: absolute;border-left: 1px solid gray;box-sizing: border-box;top: 0;bottom: 0;left: 50%;z-index: -1;}#sk-container-id-8 div.sk-parallel-item {display: flex;flex-direction: column;z-index: 1;position: relative;background-color: white;}#sk-container-id-8 div.sk-parallel-item:first-child::after {align-self: flex-end;width: 50%;}#sk-container-id-8 div.sk-parallel-item:last-child::after {align-self: flex-start;width: 50%;}#sk-container-id-8 div.sk-parallel-item:only-child::after {width: 0;}#sk-container-id-8 div.sk-dashed-wrapped {border: 1px dashed gray;margin: 0 0.4em 0.5em 0.4em;box-sizing: border-box;padding-bottom: 0.4em;background-color: white;}#sk-container-id-8 div.sk-label label {font-family: monospace;font-weight: bold;display: inline-block;line-height: 1.2em;}#sk-container-id-8 div.sk-label-container {text-align: center;}#sk-container-id-8 div.sk-container {/* jupyter's `normalize.less` sets `[hidden] { display: none; }` but bootstrap.min.css set `[hidden] { display: none !important; }` so we also need the `!important` here to be able to override the default hidden behavior on the sphinx rendered scikit-learn.org. See: https://github.com/scikit-learn/scikit-learn/issues/21755 */display: inline-block !important;position: relative;}#sk-container-id-8 div.sk-text-repr-fallback {display: none;}</style><div id=\"sk-container-id-8\" class=\"sk-top-container\"><div class=\"sk-text-repr-fallback\"><pre>RandomForestClassifier(random_state=42)</pre><b>In a Jupyter environment, please rerun this cell to show the HTML representation or trust the notebook. <br />On GitHub, the HTML representation is unable to render, please try loading this page with nbviewer.org.</b></div><div class=\"sk-container\" hidden><div class=\"sk-item\"><div class=\"sk-estimator sk-toggleable\"><input class=\"sk-toggleable__control sk-hidden--visually\" id=\"sk-estimator-id-8\" type=\"checkbox\" checked><label for=\"sk-estimator-id-8\" class=\"sk-toggleable__label sk-toggleable__label-arrow\">RandomForestClassifier</label><div class=\"sk-toggleable__content\"><pre>RandomForestClassifier(random_state=42)</pre></div></div></div></div></div>"
      ],
      "text/plain": [
       "RandomForestClassifier(random_state=42)"
      ]
     },
     "execution_count": 193,
     "metadata": {},
     "output_type": "execute_result"
    }
   ],
   "source": [
    "clf = RandomForestClassifier(random_state=42)\n",
    "clf.fit(x, y)"
   ]
  },
  {
   "cell_type": "code",
   "execution_count": null,
   "metadata": {
    "colab": {
     "base_uri": "https://localhost:8080/"
    },
    "executionInfo": {
     "elapsed": 512,
     "status": "ok",
     "timestamp": 1679050862975,
     "user": {
      "displayName": "Юрий Осипов",
      "userId": "08137226283067646882"
     },
     "user_tz": -180
    },
    "id": "OTZbVdbdOoh2",
    "outputId": "3f4bbb04-f55e-4670-b76e-a410b3e90e7b"
   },
   "outputs": [
    {
     "data": {
      "text/plain": [
       "1.0"
      ]
     },
     "execution_count": 194,
     "metadata": {},
     "output_type": "execute_result"
    }
   ],
   "source": [
    "clf_pred = clf.predict(x)\n",
    "accuracy_score(clf_pred, y)"
   ]
  },
  {
   "cell_type": "code",
   "execution_count": null,
   "metadata": {
    "id": "uae0CNr1Outg"
   },
   "outputs": [],
   "source": [
    "filename = 'model.pickle'\n",
    "with open (filename, 'wb') as file:\n",
    "    pickle.dump(clf, file)"
   ]
  },
  {
   "cell_type": "markdown",
   "metadata": {
    "id": "iCvw3bcaZDZT"
   },
   "source": [
    "Модель показала 100% предсказательскую способность. Готова для использования.\n"
   ]
  },
  {
   "cell_type": "code",
   "execution_count": null,
   "metadata": {
    "id": "9x98qtkCZK2j"
   },
   "outputs": [],
   "source": []
  }
 ],
 "metadata": {
  "colab": {
   "collapsed_sections": [
    "o6QMs6bwNahN",
    "BfbF8AE37uX_",
    "KKQIWByq7-Gl",
    "NdK9BebB8C9M",
    "nCwoIcCM-ksr",
    "O8akU_ArAXfW",
    "zXKAC4DmAwMQ",
    "zl2UQfbjN8U3"
   ],
   "provenance": []
  },
  "kernelspec": {
   "display_name": "Python 3 (ipykernel)",
   "language": "python",
   "name": "python3"
  },
  "language_info": {
   "codemirror_mode": {
    "name": "ipython",
    "version": 3
   },
   "file_extension": ".py",
   "mimetype": "text/x-python",
   "name": "python",
   "nbconvert_exporter": "python",
   "pygments_lexer": "ipython3",
   "version": "3.9.7"
  }
 },
 "nbformat": 4,
 "nbformat_minor": 1
}
